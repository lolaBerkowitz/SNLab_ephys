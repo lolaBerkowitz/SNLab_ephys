{
 "cells": [
  {
   "cell_type": "code",
   "execution_count": 5,
   "metadata": {},
   "outputs": [
    {
     "data": {
      "text/plain": [
       "41075"
      ]
     },
     "execution_count": 5,
     "metadata": {},
     "output_type": "execute_result"
    }
   ],
   "source": [
    "# import the necessary packages\n",
    "import cv2\n",
    "def count_frames(path, override=False):\n",
    "\t# grab a pointer to the video file and initialize the total\n",
    "\t# number of frames read\n",
    "\tvideo = cv2.VideoCapture(path)\n",
    "\ttotal = 0\n",
    "\t# if the override flag is passed in, revert to the manual\n",
    "\t# method of counting frames\n",
    "\tif override:\n",
    "\t\ttotal = count_frames_manual(video)\n",
    "        # otherwise, let's try the fast way first\n",
    "\telse:\n",
    "\t\t# lets try to determine the number of frames in a video\n",
    "\t\t# via video properties; this method can be very buggy\n",
    "\t\t# and might throw an error based on your OpenCV version\n",
    "\t\t# or may fail entirely based on your which video codecs\n",
    "\t\t# you have installed\n",
    "\t\ttry:\n",
    "\t\t\t# check if we are using OpenCV 3\n",
    "\t\t\tif is_cv3():\n",
    "\t\t\t\ttotal = int(video.get(cv2.CAP_PROP_FRAME_COUNT))\n",
    "\t\t\t# otherwise, we are using OpenCV 2.4\n",
    "\t\t\telse:\n",
    "\t\t\t\ttotal = int(video.get(cv2.cv.CV_CAP_PROP_FRAME_COUNT))\n",
    "\t\t# uh-oh, we got an error -- revert to counting manually\n",
    "\t\texcept:\n",
    "\t\t\ttotal = count_frames_manual(video)\n",
    "\t# release the video file pointer\n",
    "\tvideo.release()\n",
    "\t# return the total number of frames in the video\n",
    "\treturn total\n",
    "\n",
    "def count_frames_manual(video):\n",
    "\t# initialize the total number of frames read\n",
    "\ttotal = 0\n",
    "\t# loop over the frames of the video\n",
    "\twhile True:\n",
    "\t\t# grab the current frame\n",
    "\t\t(grabbed, frame) = video.read()\n",
    "\t \n",
    "\t\t# check to see if we have reached the end of the\n",
    "\t\t# video\n",
    "\t\tif not grabbed:\n",
    "\t\t\tbreak\n",
    "\t\t# increment the total number of frames read\n",
    "\t\ttotal += 1\n",
    "\t# return the total number of frames in the video file\n",
    "\treturn total\n",
    "\n",
    "path =  r'//10.253.5.16/sn data server 3/multianimal_ephys/to_split/day04_220309_085753/hpc05_day04_hab2-03092022153707-0000.avi'\n",
    "count_frames(path)"
   ]
  }
 ],
 "metadata": {
  "interpreter": {
   "hash": "fdc2fe3861f099944278801e9fc30c7ca9b552e932cec7eb0940055a4175e22c"
  },
  "kernelspec": {
   "display_name": "Python 3.8.12 ('ephys_tools')",
   "language": "python",
   "name": "python3"
  },
  "language_info": {
   "codemirror_mode": {
    "name": "ipython",
    "version": 3
   },
   "file_extension": ".py",
   "mimetype": "text/x-python",
   "name": "python",
   "nbconvert_exporter": "python",
   "pygments_lexer": "ipython3",
   "version": "3.8.12"
  },
  "orig_nbformat": 4
 },
 "nbformat": 4,
 "nbformat_minor": 2
}
