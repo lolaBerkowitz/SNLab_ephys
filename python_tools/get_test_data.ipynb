{
 "cells": [
  {
   "cell_type": "code",
   "execution_count": 1,
   "metadata": {},
   "outputs": [],
   "source": [
    "%reload_ext autoreload\n",
    "%autoreload 2\n",
    "\n",
    "import pandas as pd\n",
    "import numpy as np \n",
    "import glob\n",
    "import matplotlib.pyplot as plt\n",
    "\n",
    "\n",
    "import os\n",
    "import seaborn as sns\n",
    "\n",
    "# from ripple_heterogeneity.utils import loading,functions\n",
    "from neuro_py.io import loading\n",
    "from neuro_py.process.intervals import in_intervals, truncate_epoch\n",
    "import nelpy as nel  # main nelpy imports\n",
    "\n",
    "\n"
   ]
  },
  {
   "cell_type": "code",
   "execution_count": 3,
   "metadata": {},
   "outputs": [],
   "source": [
    "def process_binary(basepath,ext = \"dat\"):\n",
    "    nChannels, fs, fs_dat, _ = loading.loadXML(basepath)\n",
    "        \n",
    "    if ext == 'dat':\n",
    "        fs = fs_dat\n",
    "        # load dat file\n",
    "        signal, ts = loading.loadLFP(basepath, n_channels=nChannels,\n",
    "                        channel=None,\n",
    "                        frequency=fs,\n",
    "                        ext = ext)\n",
    "    else: \n",
    "        # load lfp\n",
    "        signal, ts = loading.loadLFP(basepath, n_channels=nChannels,\n",
    "                        channel=None,\n",
    "                        frequency=fs,\n",
    "                        ext = ext)\n",
    "    \n",
    "    return signal, ts, fs"
   ]
  },
  {
   "cell_type": "code",
   "execution_count": 5,
   "metadata": {},
   "outputs": [],
   "source": [
    "# set basepath \n",
    "basepath = os.path.normpath(r'Y:\\laura_berkowitz\\alz_stim\\data\\grigri\\grigri_day01_231107_114849')\n",
    "\n",
    "# load the dat file\n",
    "dat, ts, fs = process_binary(basepath)\n",
    "\n",
    "# load epochs \n",
    "\n",
    "# load sleep states\n",
    "# # load sleep states \n",
    "# sleep_ep = loading.load_SleepState_states(basepath)\n",
    "# rem_epochs = nel.EpochArray(sleep_ep[\"REMstate\"])\n",
    "# theta_epochs = nel.EpochArray(sleep_ep[\"THETA\"])\n",
    "\n",
    "# # truncate to 2 minute \n",
    "# rem_epochs = truncate_epoch(rem_epochs, time=120)\n",
    "# theta_epochs = truncate_epoch(theta_epochs, time=120)\n",
    "\n",
    "\n",
    "# rem = in_intervals(ts, rem_epochs.data)\n",
    "# theta = in_intervals(ts, theta_epochs.data)"
   ]
  },
  {
   "cell_type": "code",
   "execution_count": 6,
   "metadata": {},
   "outputs": [],
   "source": [
    "epoch_df = loading.load_epoch(basepath)\n",
    "\n",
    "ep = nel.EpochArray(np.array([epoch_df.startTime,epoch_df.stopTime]).T)\n",
    "\n",
    "twohrs_epochs = truncate_epoch(ep[-1], time=3600)\n",
    "twohrs = in_intervals(ts, twohrs_epochs.data)\n"
   ]
  },
  {
   "cell_type": "code",
   "execution_count": 9,
   "metadata": {},
   "outputs": [],
   "source": [
    "# dat is loaded as memmap, so we can index as if it were a numpy array\n",
    "rip_channel = dat[twohrs,34]\n",
    "sw_channel = dat[twohrs,63]\n",
    "noise_channel = dat[twohrs,45]"
   ]
  },
  {
   "cell_type": "code",
   "execution_count": 20,
   "metadata": {},
   "outputs": [],
   "source": [
    "# dat is loaded as memmap, so we can index as if it were a numpy array\n",
    "rip_channel = dat[rem,63]\n",
    "sw_channel = dat[rem,2]\n",
    "noise_channel = dat[rem,13]"
   ]
  },
  {
   "cell_type": "code",
   "execution_count": 10,
   "metadata": {},
   "outputs": [],
   "source": [
    "# create a dataframe\n",
    "df = pd.DataFrame(columns=['rip','sw','noise'])\n",
    "df['rip'] = rip_channel\n",
    "df['sw'] = sw_channel\n",
    "df['noise'] = noise_channel\n",
    "\n",
    "# save the dataframe\n",
    "df.to_csv(os.path.join(\"Y:/laura_berkowitz/app_ps1_ephys/analysis\",\"grigri_day01_231107_114849_1hrsposttasksleep_dat.csv\"))"
   ]
  }
 ],
 "metadata": {
  "kernelspec": {
   "display_name": "ad_analysis",
   "language": "python",
   "name": "python3"
  },
  "language_info": {
   "codemirror_mode": {
    "name": "ipython",
    "version": 3
   },
   "file_extension": ".py",
   "mimetype": "text/x-python",
   "name": "python",
   "nbconvert_exporter": "python",
   "pygments_lexer": "ipython3",
   "version": "3.9.16"
  },
  "orig_nbformat": 4
 },
 "nbformat": 4,
 "nbformat_minor": 2
}
