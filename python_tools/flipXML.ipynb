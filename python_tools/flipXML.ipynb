{
 "cells": [
  {
   "cell_type": "code",
   "execution_count": 7,
   "metadata": {},
   "outputs": [],
   "source": [
    "import xml.etree.ElementTree as ET\n",
    "import glob as glob\n",
    "import os "
   ]
  },
  {
   "cell_type": "code",
   "execution_count": 15,
   "metadata": {},
   "outputs": [],
   "source": [
    "def reorder_anatomicalDescription(root):\n",
    "    # iterate through each shank\n",
    "    for shank in root.findall('anatomicalDescription')[0][0]:\n",
    "        # iterate through each channel in shank and save channel string\n",
    "        channels = []\n",
    "        for channel in shank:\n",
    "            channels.append(channel.text)\n",
    "        # reverse channel order\n",
    "        channels.reverse()\n",
    "        # save new channel order back \n",
    "        for i,channel in enumerate(shank):\n",
    "            channel.text = channels[i]   \n",
    "    return root   \n",
    "    \n",
    "def reorder_spikeDetection(root):\n",
    "    # iterate through each shank\n",
    "    for shank in root.findall('spikeDetection')[0][0]:\n",
    "        # iterate through each channel in shank and save channel string\n",
    "        channels = []\n",
    "        for channel in shank.findall('channels')[0]:\n",
    "            channels.append(channel.text)\n",
    "        # reverse channel order\n",
    "        channels.reverse()\n",
    "        # save new channel order back \n",
    "        for i,channel in enumerate(shank.findall('channels')[0]):\n",
    "            if len(channels)>1:\n",
    "                channel.text = channels[i] \n",
    "    return root"
   ]
  },
  {
   "cell_type": "code",
   "execution_count": 21,
   "metadata": {},
   "outputs": [],
   "source": [
    "file = 'D:/app_ps1/data/to_split/day02_220213_132346/amplifier.xml'\n",
    "\n",
    "# read in xml\n",
    "tree = ET.parse(file)\n",
    "root = tree.getroot()\n",
    "# rename old xml to *_old.xml\n",
    "os.rename(file,os.path.splitext(file)[0]+'_old.xml')\n",
    "# reorder channels\n",
    "root = reorder_anatomicalDescription(root)\n",
    "# root = reorder_spikeDetection(root)\n",
    "# save new xml\n",
    "tree.write(file)"
   ]
  }
 ],
 "metadata": {
  "interpreter": {
   "hash": "fdc2fe3861f099944278801e9fc30c7ca9b552e932cec7eb0940055a4175e22c"
  },
  "kernelspec": {
   "display_name": "Python 3.8.12 64-bit ('ephys_tools': conda)",
   "language": "python",
   "name": "python3"
  },
  "language_info": {
   "codemirror_mode": {
    "name": "ipython",
    "version": 3
   },
   "file_extension": ".py",
   "mimetype": "text/x-python",
   "name": "python",
   "nbconvert_exporter": "python",
   "pygments_lexer": "ipython3",
   "version": "3.8.12"
  },
  "orig_nbformat": 4
 },
 "nbformat": 4,
 "nbformat_minor": 2
}
