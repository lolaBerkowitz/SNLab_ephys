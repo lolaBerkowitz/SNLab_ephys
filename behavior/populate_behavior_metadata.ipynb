{
 "cells": [
  {
   "cell_type": "markdown",
   "metadata": {},
   "source": [
    "## Add new behavior sessions to metadata sheet from data folders\n",
    "\n",
    "* Notebook to automatically add basepath, basename and video name to metadata.csv for SNLab behavior sessions\n"
   ]
  },
  {
   "cell_type": "markdown",
   "metadata": {},
   "source": []
  },
  {
   "cell_type": "code",
   "execution_count": 1,
   "metadata": {},
   "outputs": [],
   "source": [
    "import pandas as pd\n",
    "import numpy as np\n",
    "import matplotlib.pyplot as plt\n",
    "import seaborn as sns\n",
    "import os\n",
    "import glob"
   ]
  },
  {
   "cell_type": "markdown",
   "metadata": {},
   "source": [
    "### Set paths to dataset and Metadata \n"
   ]
  },
  {
   "cell_type": "code",
   "execution_count": 12,
   "metadata": {},
   "outputs": [],
   "source": [
    "dataset_path = r\"Y:\\laura_berkowitz\\behavior_validation\\appps1_cpp\\data\\cohort6\"\n",
    "metadata_path = r\"Y:\\laura_berkowitz\\behavior_validation\\appps1_cpp\\metadata.csv\""
   ]
  },
  {
   "cell_type": "markdown",
   "metadata": {},
   "source": [
    "## Find all folders in Cohort 6 and interate through. If a video exists, then add to metadata dataframe. "
   ]
  },
  {
   "cell_type": "code",
   "execution_count": 13,
   "metadata": {},
   "outputs": [],
   "source": [
    "metadata_df = pd.read_csv(metadata_path)\n",
    "datafolders = glob.glob(dataset_path+'**\\*\\*', recursive=True)"
   ]
  },
  {
   "cell_type": "markdown",
   "metadata": {},
   "source": [
    "## Iterater through each folder, if a video exists, add each video to the metadata dataframe, including basepath, subid, basename and video name. "
   ]
  },
  {
   "cell_type": "code",
   "execution_count": null,
   "metadata": {},
   "outputs": [],
   "source": [
    "\n",
    "for basepath in datafolders: \n",
    "    # check if the folder contains a video file \n",
    "    vid_files = glob.glob(basepath + '\\*.avi')\n",
    "    basename = os.path.basename(basepath)\n",
    "    subid = basename.split('_')[0]\n",
    "    if len(vid_files) > 0:\n",
    "        # add each video file to the metadata dataframe\n",
    "        for vid in vid_files:\n",
    "            metadata_df = metadata_df.append({'subid': subid, 'vidname': os.path.basename(vid), 'basepath': basepath,'basename':basename}, ignore_index=True)\n",
    "        "
   ]
  },
  {
   "cell_type": "markdown",
   "metadata": {},
   "source": [
    "## Save the updated metadata dataframe back to folder"
   ]
  },
  {
   "cell_type": "code",
   "execution_count": 18,
   "metadata": {},
   "outputs": [],
   "source": [
    "## Save the metadata to a csv file\n",
    "metadata_df.to_csv(metadata_path, index=False)"
   ]
  }
 ],
 "metadata": {
  "kernelspec": {
   "display_name": "appps1_analysis",
   "language": "python",
   "name": "python3"
  },
  "language_info": {
   "codemirror_mode": {
    "name": "ipython",
    "version": 3
   },
   "file_extension": ".py",
   "mimetype": "text/x-python",
   "name": "python",
   "nbconvert_exporter": "python",
   "pygments_lexer": "ipython3",
   "version": "3.9.18"
  }
 },
 "nbformat": 4,
 "nbformat_minor": 2
}
