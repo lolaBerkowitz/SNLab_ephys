{
 "cells": [
  {
   "cell_type": "code",
   "execution_count": 1,
   "metadata": {},
   "outputs": [
    {
     "name": "stdout",
     "output_type": "stream",
     "text": [
      "Loading DLC 2.2.1.1...\n"
     ]
    }
   ],
   "source": [
    "import deeplabcut\n",
    "import glob\n",
    "import os\n",
    "import numpy as np\n"
   ]
  },
  {
   "cell_type": "markdown",
   "metadata": {},
   "source": [
    "## Paths to DLC configs on 'The Hook'\n",
    "```\n",
    "r\"D:\\DLC_analysis\\30cm_open_field-berkowitz-2022-07-14\\config.yaml\"\n",
    "r\"D:\\DLC_analysis\\40cm_open_field-berkowitz-2022-07-22\\config.yaml\"\n",
    "r\"D:\\DLC_analysis\\40cm_OR-berkowitz-2023-02-17\\config.yaml\"\n",
    "r\"D:\\DLC_analysis\\aya_poorlight-berkowitz-2024-01-08\\config.yaml\"\n",
    "r\"D:\\DLC_analysis\\dim_cpp-berkowitz-2023-10-10\\config.yaml\"\n",
    "r\"D:\\DLC_analysis\\linear_track-Berkowitz-2021-11-15\\config.yaml\"\n",
    "r\"D:\\DLC_analysis\\mouse_close_camera_multi_maze-ryan-2023-01-03\\config.yaml\"\n",
    "r\"D:\\DLC_analysis\\mouse_cpp-berkowitz-2023-06-28\\config.yaml\"\n",
    "r\"D:\\DLC_analysis\\multianimal_OL-berkowitz-2022-04-30\\config.yaml\"\n",
    "\n",
    "```"
   ]
  },
  {
   "cell_type": "markdown",
   "metadata": {},
   "source": [
    "## Set path to data directory and use glob to get paths to all video files "
   ]
  },
  {
   "cell_type": "code",
   "execution_count": null,
   "metadata": {},
   "outputs": [
    {
     "data": {
      "text/plain": [
       "['Y:\\\\laura_berkowitz\\\\alz_stim\\\\data\\\\hpstim03\\\\hpstim03_day17\\\\hpstim03_OLbase_day16-04252025092450.avi',\n",
       " 'Y:\\\\laura_berkowitz\\\\alz_stim\\\\data\\\\hpstim03\\\\hpstim03_day17\\\\hpstim03_OLtest_day16-04252025120943.avi']"
      ]
     },
     "execution_count": 2,
     "metadata": {},
     "output_type": "execute_result"
    }
   ],
   "source": [
    "\n",
    "# Data path \n",
    "data_path = r'Y:\\laura_berkowitz\\alz_stim\\data\\hpstim03\\hpstim03_day17'\n",
    "\n",
    "# use glob to find path to all .avi files \n",
    "video_files = glob.glob(data_path + '/**/*.avi', recursive=True)\n",
    "video_files"
   ]
  },
  {
   "cell_type": "markdown",
   "metadata": {},
   "source": [
    "## Set DLC config and analyze videos. If video is already run (H5 or CSV in folder, DLC will continue to next video)"
   ]
  },
  {
   "cell_type": "code",
   "execution_count": 3,
   "metadata": {},
   "outputs": [
    {
     "name": "stdout",
     "output_type": "stream",
     "text": [
      "Using snapshot-150000 for model Y:\\laura_berkowitz\\dlc_models\\ephys1_dim-berkowitz-2024-08-22\\dlc-models\\iteration-0\\ephys1_dimAug22-trainset95shuffle1\n"
     ]
    },
    {
     "name": "stderr",
     "output_type": "stream",
     "text": [
      "c:\\Users\\schafferlab\\anaconda3\\envs\\DLC-GPU\\lib\\site-packages\\tensorflow\\python\\keras\\engine\\base_layer_v1.py:1694: UserWarning: `layer.apply` is deprecated and will be removed in a future version. Please use `layer.__call__` method instead.\n",
      "  warnings.warn('`layer.apply` is deprecated and '\n"
     ]
    },
    {
     "name": "stdout",
     "output_type": "stream",
     "text": [
      "Starting to analyze %  Y:\\laura_berkowitz\\alz_stim\\data\\hpstim03\\hpstim03_day17\\hpstim03_OLbase_day16-04252025092450.avi\n",
      "Loading  Y:\\laura_berkowitz\\alz_stim\\data\\hpstim03\\hpstim03_day17\\hpstim03_OLbase_day16-04252025092450.avi\n",
      "Duration of video [s]:  1238.43 , recorded with  30.0 fps!\n",
      "Overall # of frames:  37153  found with (before cropping) frame dimensions:  1440 1080\n",
      "Starting to extract posture\n"
     ]
    },
    {
     "name": "stderr",
     "output_type": "stream",
     "text": [
      "100%|█████████▉| 37100/37153 [25:51<00:02, 23.91it/s]\n"
     ]
    },
    {
     "name": "stdout",
     "output_type": "stream",
     "text": [
      "Saving results in Y:\\laura_berkowitz\\alz_stim\\data\\hpstim03\\hpstim03_day17...\n",
      "Saving csv poses!\n",
      "Starting to analyze %  Y:\\laura_berkowitz\\alz_stim\\data\\hpstim03\\hpstim03_day17\\hpstim03_OLtest_day16-04252025120943.avi\n",
      "Loading  Y:\\laura_berkowitz\\alz_stim\\data\\hpstim03\\hpstim03_day17\\hpstim03_OLtest_day16-04252025120943.avi\n",
      "Duration of video [s]:  1035.1 , recorded with  30.0 fps!\n",
      "Overall # of frames:  31053  found with (before cropping) frame dimensions:  1440 1080\n",
      "Starting to extract posture\n"
     ]
    },
    {
     "name": "stderr",
     "output_type": "stream",
     "text": [
      "100%|█████████▉| 31000/31053 [21:29<00:02, 24.03it/s]\n"
     ]
    },
    {
     "name": "stdout",
     "output_type": "stream",
     "text": [
      "Saving results in Y:\\laura_berkowitz\\alz_stim\\data\\hpstim03\\hpstim03_day17...\n",
      "Saving csv poses!\n",
      "The videos are analyzed. Now your research can truly start! \n",
      " You can create labeled videos with 'create_labeled_video'\n",
      "If the tracking is not satisfactory for some videos, consider expanding the training set. You can use the function 'extract_outlier_frames' to extract a few representative outlier frames.\n",
      "Filtering with median model Y:\\laura_berkowitz\\alz_stim\\data\\hpstim03\\hpstim03_day17\\hpstim03_OLbase_day16-04252025092450.avi\n",
      "Saving filtered csv poses!\n",
      "Filtering with median model Y:\\laura_berkowitz\\alz_stim\\data\\hpstim03\\hpstim03_day17\\hpstim03_OLtest_day16-04252025120943.avi\n",
      "Saving filtered csv poses!\n"
     ]
    }
   ],
   "source": [
    "config_path = r\"Y:\\laura_berkowitz\\dlc_models\\ephys1_dim-berkowitz-2024-08-22\\config.yaml\"\n",
    "\n",
    "deeplabcut.analyze_videos(config_path, video_files, videotype='avi', shuffle=1, trainingsetindex=0, save_as_csv=True)\n",
    "\n",
    "# deeplabcut.filterpredictions(config_path, video_files)\n",
    "deeplabcut.filterpredictions(config_path, video_files)"
   ]
  },
  {
   "cell_type": "code",
   "execution_count": 33,
   "metadata": {},
   "outputs": [
    {
     "data": {
      "text/plain": [
       "0      Y:\\laura_berkowitz\\app_ps1_ephys\\data\\hpc13\\hp...\n",
       "1      Y:\\laura_berkowitz\\app_ps1_ephys\\data\\hpc11\\hp...\n",
       "2      Y:\\laura_berkowitz\\app_ps1_ephys\\data\\hpc07\\hp...\n",
       "3      Y:\\laura_berkowitz\\app_ps1_ephys\\data\\hpc07\\hp...\n",
       "4      Y:\\laura_berkowitz\\app_ps1_ephys\\data\\hpc07\\hp...\n",
       "                             ...                        \n",
       "344    Y:\\laura_berkowitz\\app_ps1_ephys\\data\\hpc06\\hp...\n",
       "345    Y:\\laura_berkowitz\\app_ps1_ephys\\data\\hpc06\\hp...\n",
       "346    Y:\\laura_berkowitz\\app_ps1_ephys\\data\\hpc11\\hp...\n",
       "347    Y:\\laura_berkowitz\\app_ps1_ephys\\data\\hpc13\\hp...\n",
       "348    Y:\\laura_berkowitz\\app_ps1_ephys\\data\\hpc14\\hp...\n",
       "Name: basepath, Length: 349, dtype: object"
      ]
     },
     "execution_count": 33,
     "metadata": {},
     "output_type": "execute_result"
    }
   ],
   "source": [
    "#load the dataframe \n",
    "import pandas as pd \n",
    "df = pd.read_csv(r\"Y:\\laura_berkowitz\\app_ps1_ephys\\DLC_status_sessions.csv\")\n",
    "df\n",
    "# use os.path.normpath to fix filesep differences within df.basepath \n",
    "df.basepath=df.basepath.apply(lambda x: os.path.normpath(x))\n",
    "df.basepath"
   ]
  },
  {
   "cell_type": "code",
   "execution_count": 34,
   "metadata": {},
   "outputs": [
    {
     "name": "stdout",
     "output_type": "stream",
     "text": [
      "['none' '30cm_open_field-berkowitz-2022-07-14'\n",
      " 'ephys1_dim-berkowitz-2024-08-22' 'linear_track-Berkowitz-2021-11-15'\n",
      " 'ephys1_linear-berkowitz-2024-08-19'\n",
      " '40cm_open_field-berkowitz-2022-07-22']\n"
     ]
    }
   ],
   "source": [
    "\n",
    "#iterate through all the DLC models\n",
    "dlc_models= df['dlc_model'].unique()\n",
    "print(dlc_models)"
   ]
  },
  {
   "cell_type": "code",
   "execution_count": 36,
   "metadata": {},
   "outputs": [
    {
     "name": "stdout",
     "output_type": "stream",
     "text": [
      "running videos for model: 30cm_open_field-berkowitz-2022-07-14\n",
      "Using snapshot-250000 for model Y:\\laura_berkowitz\\dlc_models\\30cm_open_field-berkowitz-2022-07-14\\dlc-models\\iteration-0\\30cm_open_fieldJul14-trainset95shuffle1\n"
     ]
    },
    {
     "name": "stderr",
     "output_type": "stream",
     "text": [
      "c:\\Users\\schafferlab\\anaconda3\\envs\\DEEPLABCUT\\lib\\site-packages\\tensorflow\\python\\keras\\engine\\base_layer_v1.py:1694: UserWarning: `layer.apply` is deprecated and will be removed in a future version. Please use `layer.__call__` method instead.\n",
      "  warnings.warn('`layer.apply` is deprecated and '\n"
     ]
    },
    {
     "name": "stdout",
     "output_type": "stream",
     "text": [
      "No video(s) were found. Please check your paths and/or 'video_type'.\n",
      "No video(s) were found. Please check your paths and/or 'videotype'.\n",
      "running videos for model: ephys1_dim-berkowitz-2024-08-22\n",
      "Using snapshot-200000 for model Y:\\laura_berkowitz\\dlc_models\\ephys1_dim-berkowitz-2024-08-22\\dlc-models\\iteration-0\\ephys1_dimAug22-trainset95shuffle1\n"
     ]
    },
    {
     "name": "stderr",
     "output_type": "stream",
     "text": [
      "c:\\Users\\schafferlab\\anaconda3\\envs\\DEEPLABCUT\\lib\\site-packages\\tensorflow\\python\\keras\\engine\\base_layer_v1.py:1694: UserWarning: `layer.apply` is deprecated and will be removed in a future version. Please use `layer.__call__` method instead.\n",
      "  warnings.warn('`layer.apply` is deprecated and '\n"
     ]
    },
    {
     "name": "stdout",
     "output_type": "stream",
     "text": [
      "No video(s) were found. Please check your paths and/or 'video_type'.\n",
      "No video(s) were found. Please check your paths and/or 'videotype'.\n",
      "running videos for model: linear_track-Berkowitz-2021-11-15\n",
      "Using snapshot-500 for model Y:\\laura_berkowitz\\dlc_models\\linear_track-Berkowitz-2021-11-15\\dlc-models\\iteration-0\\linear_trackNov15-trainset95shuffle1\n"
     ]
    },
    {
     "name": "stderr",
     "output_type": "stream",
     "text": [
      "c:\\Users\\schafferlab\\anaconda3\\envs\\DEEPLABCUT\\lib\\site-packages\\tensorflow\\python\\keras\\engine\\base_layer_v1.py:1694: UserWarning: `layer.apply` is deprecated and will be removed in a future version. Please use `layer.__call__` method instead.\n",
      "  warnings.warn('`layer.apply` is deprecated and '\n"
     ]
    },
    {
     "name": "stdout",
     "output_type": "stream",
     "text": [
      "No video(s) were found. Please check your paths and/or 'video_type'.\n",
      "No video(s) were found. Please check your paths and/or 'videotype'.\n",
      "running videos for model: ephys1_linear-berkowitz-2024-08-19\n",
      "Using snapshot-200000 for model Y:\\laura_berkowitz\\dlc_models\\ephys1_linear-berkowitz-2024-08-19\\dlc-models\\iteration-0\\ephys1_linearAug19-trainset95shuffle1\n"
     ]
    },
    {
     "name": "stderr",
     "output_type": "stream",
     "text": [
      "c:\\Users\\schafferlab\\anaconda3\\envs\\DEEPLABCUT\\lib\\site-packages\\tensorflow\\python\\keras\\engine\\base_layer_v1.py:1694: UserWarning: `layer.apply` is deprecated and will be removed in a future version. Please use `layer.__call__` method instead.\n",
      "  warnings.warn('`layer.apply` is deprecated and '\n"
     ]
    },
    {
     "name": "stdout",
     "output_type": "stream",
     "text": [
      "No video(s) were found. Please check your paths and/or 'video_type'.\n",
      "No video(s) were found. Please check your paths and/or 'videotype'.\n",
      "running videos for model: 40cm_open_field-berkowitz-2022-07-22\n",
      "Using snapshot-200000 for model Y:\\laura_berkowitz\\dlc_models\\40cm_open_field-berkowitz-2022-07-22\\dlc-models\\iteration-0\\40cm_open_fieldJul22-trainset95shuffle1\n"
     ]
    },
    {
     "name": "stderr",
     "output_type": "stream",
     "text": [
      "c:\\Users\\schafferlab\\anaconda3\\envs\\DEEPLABCUT\\lib\\site-packages\\tensorflow\\python\\keras\\engine\\base_layer_v1.py:1694: UserWarning: `layer.apply` is deprecated and will be removed in a future version. Please use `layer.__call__` method instead.\n",
      "  warnings.warn('`layer.apply` is deprecated and '\n"
     ]
    },
    {
     "name": "stdout",
     "output_type": "stream",
     "text": [
      "No video(s) were found. Please check your paths and/or 'video_type'.\n",
      "No video(s) were found. Please check your paths and/or 'videotype'.\n"
     ]
    }
   ],
   "source": [
    "base_config_dir= r\"Y:\\laura_berkowitz\\dlc_models\"\n",
    "\n",
    "\n",
    "for model in dlc_models:\n",
    "\n",
    "    if (model=='none') or ((model) == float):\n",
    "        continue \n",
    "    print('running videos for model:', model)\n",
    "\n",
    "    temp_df=df[(df['dlc_model']== model) & (df['DLC_flag']==False)]\n",
    "    config_path = os.path.join(base_config_dir, model, 'config.yaml')\n",
    "\n",
    "    #in temp df need to join basepath and filename and add .avi to filename \n",
    "    temp_df['video_path']= temp_df['basepath'] + '\\\\' + temp_df['file_name'] + '.avi'\n",
    "\n",
    "    # make a list of video file paths from video_path column\n",
    "    # video_files = list\n",
    "    video_files= temp_df['video_path'].tolist()\n",
    "\n",
    "    deeplabcut.analyze_videos(config_path, video_files, videotype='mpg', shuffle=1, trainingsetindex=0, save_as_csv=True)\n",
    "    deeplabcut.filterpredictions(config_path, video_files)\n",
    "\n",
    "    # update the dlc flag to true\n",
    "    df.loc[(df['dlc_model']== model) & (df['DLC_flag']==False),'DLC_flag']=True\n",
    "\n",
    "    df.to_csv(r\"Y:\\laura_berkowitz\\app_ps1_ephys\\DLC_status_sessions.csv\", index=False)\n",
    "# save the updated df \n",
    "df.to_csv(r\"Y:\\laura_berkowitz\\app_ps1_ephys\\DLC_status_sessions.csv\", index=False)"
   ]
  }
 ],
 "metadata": {
  "kernelspec": {
   "display_name": "DLC-GPU",
   "language": "python",
   "name": "python3"
  },
  "language_info": {
   "codemirror_mode": {
    "name": "ipython",
    "version": 3
   },
   "file_extension": ".py",
   "mimetype": "text/x-python",
   "name": "python",
   "nbconvert_exporter": "python",
   "pygments_lexer": "ipython3",
   "version": "3.7.12"
  }
 },
 "nbformat": 4,
 "nbformat_minor": 2
}
