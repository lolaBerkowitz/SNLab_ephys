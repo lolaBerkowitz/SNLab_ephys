{
 "cells": [
  {
   "cell_type": "code",
   "execution_count": 6,
   "metadata": {},
   "outputs": [],
   "source": [
    "import deeplabcut\n",
    "import glob\n",
    "import os\n"
   ]
  },
  {
   "cell_type": "markdown",
   "metadata": {},
   "source": [
    "## Paths to DLC configs on 'The Hook'\n",
    "```\n",
    "r\"D:\\DLC_analysis\\30cm_open_field-berkowitz-2022-07-14\\config.yaml\"\n",
    "r\"D:\\DLC_analysis\\40cm_open_field-berkowitz-2022-07-22\\config.yaml\"\n",
    "r\"D:\\DLC_analysis\\40cm_OR-berkowitz-2023-02-17\\config.yaml\"\n",
    "r\"D:\\DLC_analysis\\aya_poorlight-berkowitz-2024-01-08\\config.yaml\"\n",
    "r\"D:\\DLC_analysis\\dim_cpp-berkowitz-2023-10-10\\config.yaml\"\n",
    "r\"D:\\DLC_analysis\\linear_track-Berkowitz-2021-11-15\\config.yaml\"\n",
    "r\"D:\\DLC_analysis\\mouse_close_camera_multi_maze-ryan-2023-01-03\\config.yaml\"\n",
    "r\"D:\\DLC_analysis\\mouse_cpp-berkowitz-2023-06-28\\config.yaml\"\n",
    "r\"D:\\DLC_analysis\\multianimal_OL-berkowitz-2022-04-30\\config.yaml\"\n",
    "\n",
    "```"
   ]
  },
  {
   "cell_type": "markdown",
   "metadata": {},
   "source": [
    "## Set path to data directory and use glob to get paths to all video files "
   ]
  },
  {
   "cell_type": "code",
   "execution_count": 2,
   "metadata": {},
   "outputs": [
    {
     "data": {
      "text/plain": [
       "['Y:\\\\laura_berkowitz\\\\behavior_validation\\\\appps1_cpp\\\\data\\\\cohort6\\\\4016\\\\4016_cpptask_day04\\\\4016_baseline_day04-03092024083222.avi',\n",
       " 'Y:\\\\laura_berkowitz\\\\behavior_validation\\\\appps1_cpp\\\\data\\\\cohort6\\\\4016\\\\4016_cpptask_day04\\\\4016_pairingA_day04-03092024085432.avi',\n",
       " 'Y:\\\\laura_berkowitz\\\\behavior_validation\\\\appps1_cpp\\\\data\\\\cohort6\\\\4016\\\\4016_cpptask_day04\\\\4016_pairingB_day04-03092024090750.avi',\n",
       " 'Y:\\\\laura_berkowitz\\\\behavior_validation\\\\appps1_cpp\\\\data\\\\cohort6\\\\4016\\\\4016_cpptask_day04\\\\4016_posttest_day04-03092024101742.avi',\n",
       " 'Y:\\\\laura_berkowitz\\\\behavior_validation\\\\appps1_cpp\\\\data\\\\cohort6\\\\4017\\\\4017_cpptask_day04\\\\4017_baseline_day04-03092024092150.avi',\n",
       " 'Y:\\\\laura_berkowitz\\\\behavior_validation\\\\appps1_cpp\\\\data\\\\cohort6\\\\4017\\\\4017_cpptask_day04\\\\4017_pairingA_day04-03092024093903.avi',\n",
       " 'Y:\\\\laura_berkowitz\\\\behavior_validation\\\\appps1_cpp\\\\data\\\\cohort6\\\\4017\\\\4017_cpptask_day04\\\\4017_pairingB_day04-03092024095147.avi',\n",
       " 'Y:\\\\laura_berkowitz\\\\behavior_validation\\\\appps1_cpp\\\\data\\\\cohort6\\\\4017\\\\4017_cpptask_day04\\\\4017_posttest_day04-03092024110119.avi',\n",
       " 'Y:\\\\laura_berkowitz\\\\behavior_validation\\\\appps1_cpp\\\\data\\\\cohort6\\\\4024\\\\4024_cpptask_day04\\\\4024_N_pairingA-03042024100206.avi',\n",
       " 'Y:\\\\laura_berkowitz\\\\behavior_validation\\\\appps1_cpp\\\\data\\\\cohort6\\\\4024\\\\4024_cpptask_day04\\\\4024_N_pairingB-03042024094803.avi',\n",
       " 'Y:\\\\laura_berkowitz\\\\behavior_validation\\\\appps1_cpp\\\\data\\\\cohort6\\\\4024\\\\4024_cpptask_day04\\\\4024_N_posttest-03042024113146.avi',\n",
       " 'Y:\\\\laura_berkowitz\\\\behavior_validation\\\\appps1_cpp\\\\data\\\\cohort6\\\\4024\\\\4024_cpptask_day04\\\\4024_N_pretest-03042024093023.avi',\n",
       " 'Y:\\\\laura_berkowitz\\\\behavior_validation\\\\appps1_cpp\\\\data\\\\cohort6\\\\4025\\\\4025_cpptask_day04\\\\4025_L_pairingA-03042024091458.avi',\n",
       " 'Y:\\\\laura_berkowitz\\\\behavior_validation\\\\appps1_cpp\\\\data\\\\cohort6\\\\4025\\\\4025_cpptask_day04\\\\4025_L_pairingB-03042024090125.avi',\n",
       " 'Y:\\\\laura_berkowitz\\\\behavior_validation\\\\appps1_cpp\\\\data\\\\cohort6\\\\4025\\\\4025_cpptask_day04\\\\4025_L_posttest-03042024102904.avi',\n",
       " 'Y:\\\\laura_berkowitz\\\\behavior_validation\\\\appps1_cpp\\\\data\\\\cohort6\\\\4025\\\\4025_cpptask_day04\\\\4025_L_pretest-03042024083821.avi',\n",
       " 'Y:\\\\laura_berkowitz\\\\behavior_validation\\\\appps1_cpp\\\\data\\\\cohort6\\\\4028\\\\4028_cpptask_day04\\\\4028_2L_pairingA-03042024111730.avi',\n",
       " 'Y:\\\\laura_berkowitz\\\\behavior_validation\\\\appps1_cpp\\\\data\\\\cohort6\\\\4028\\\\4028_cpptask_day04\\\\4028_2L_pairingB-03042024110321.avi',\n",
       " 'Y:\\\\laura_berkowitz\\\\behavior_validation\\\\appps1_cpp\\\\data\\\\cohort6\\\\4028\\\\4028_cpptask_day04\\\\4028_2L_posttest-03042024122959.avi',\n",
       " 'Y:\\\\laura_berkowitz\\\\behavior_validation\\\\appps1_cpp\\\\data\\\\cohort6\\\\4028\\\\4028_cpptask_day04\\\\4028_2L_pretest-03042024104639.avi',\n",
       " 'Y:\\\\laura_berkowitz\\\\behavior_validation\\\\appps1_cpp\\\\data\\\\cohort6\\\\4104\\\\4104_cpptask_day04\\\\4104_baseline_day04-03102024083438.avi',\n",
       " 'Y:\\\\laura_berkowitz\\\\behavior_validation\\\\appps1_cpp\\\\data\\\\cohort6\\\\4104\\\\4104_cpptask_day04\\\\4104_pairingA_day04-03102024085205.avi',\n",
       " 'Y:\\\\laura_berkowitz\\\\behavior_validation\\\\appps1_cpp\\\\data\\\\cohort6\\\\4104\\\\4104_cpptask_day04\\\\4104_pairingB_day04-03102024090400.avi',\n",
       " 'Y:\\\\laura_berkowitz\\\\behavior_validation\\\\appps1_cpp\\\\data\\\\cohort6\\\\4104\\\\4104_cpptask_day04\\\\4104_posttest_day04-03102024101332.avi',\n",
       " 'Y:\\\\laura_berkowitz\\\\behavior_validation\\\\appps1_cpp\\\\data\\\\cohort6\\\\4105\\\\4105_cpptask_day04\\\\4105_baseline_day04-03102024091558.avi',\n",
       " 'Y:\\\\laura_berkowitz\\\\behavior_validation\\\\appps1_cpp\\\\data\\\\cohort6\\\\4105\\\\4105_cpptask_day04\\\\4105_pairingA_day04-03102024093211.avi',\n",
       " 'Y:\\\\laura_berkowitz\\\\behavior_validation\\\\appps1_cpp\\\\data\\\\cohort6\\\\4105\\\\4105_cpptask_day04\\\\4105_pairingB_day04-03102024094405.avi',\n",
       " 'Y:\\\\laura_berkowitz\\\\behavior_validation\\\\appps1_cpp\\\\data\\\\cohort6\\\\4105\\\\4105_cpptask_day04\\\\4105_posttest_day04-03102024105410.avi',\n",
       " 'Y:\\\\laura_berkowitz\\\\behavior_validation\\\\appps1_cpp\\\\data\\\\cohort6\\\\4116\\\\4116_cpptask_day04\\\\4116_baseline_day04-03052024080332.avi',\n",
       " 'Y:\\\\laura_berkowitz\\\\behavior_validation\\\\appps1_cpp\\\\data\\\\cohort6\\\\4116\\\\4116_cpptask_day04\\\\4116_cpptest_day04-03052024094501.avi',\n",
       " 'Y:\\\\laura_berkowitz\\\\behavior_validation\\\\appps1_cpp\\\\data\\\\cohort6\\\\4116\\\\4116_cpptask_day04\\\\4116_pairingA_day04-03052024081921.avi',\n",
       " 'Y:\\\\laura_berkowitz\\\\behavior_validation\\\\appps1_cpp\\\\data\\\\cohort6\\\\4116\\\\4116_cpptask_day04\\\\4116_pairingB_day04-03052024083216.avi',\n",
       " 'Y:\\\\laura_berkowitz\\\\behavior_validation\\\\appps1_cpp\\\\data\\\\cohort6\\\\4117\\\\4117_cpptask_day04\\\\4117_baseline_day04-03052024084510.avi',\n",
       " 'Y:\\\\laura_berkowitz\\\\behavior_validation\\\\appps1_cpp\\\\data\\\\cohort6\\\\4117\\\\4117_cpptask_day04\\\\4117_cpptest_day04-03052024103036.avi',\n",
       " 'Y:\\\\laura_berkowitz\\\\behavior_validation\\\\appps1_cpp\\\\data\\\\cohort6\\\\4117\\\\4117_cpptask_day04\\\\4117_pairingA_day04-03052024091517.avi',\n",
       " 'Y:\\\\laura_berkowitz\\\\behavior_validation\\\\appps1_cpp\\\\data\\\\cohort6\\\\4117\\\\4117_cpptask_day04\\\\4117_pairingB_day04-03052024090223.avi',\n",
       " 'Y:\\\\laura_berkowitz\\\\behavior_validation\\\\appps1_cpp\\\\data\\\\cohort6\\\\4122\\\\4122_cpptask_day04\\\\4122_baseline_day04-02182024094235.avi',\n",
       " 'Y:\\\\laura_berkowitz\\\\behavior_validation\\\\appps1_cpp\\\\data\\\\cohort6\\\\4122\\\\4122_cpptask_day04\\\\4122_pairingA_day04-02182024100922.avi',\n",
       " 'Y:\\\\laura_berkowitz\\\\behavior_validation\\\\appps1_cpp\\\\data\\\\cohort6\\\\4122\\\\4122_cpptask_day04\\\\4122_pairingB_day04-02182024095806.avi',\n",
       " 'Y:\\\\laura_berkowitz\\\\behavior_validation\\\\appps1_cpp\\\\data\\\\cohort6\\\\4122\\\\4122_cpptask_day04\\\\4122_posttest_day04-02182024112223.avi',\n",
       " 'Y:\\\\laura_berkowitz\\\\behavior_validation\\\\appps1_cpp\\\\data\\\\cohort6\\\\4123\\\\4123_cpptask_day04\\\\4123_baseline_day04-02182024090100.avi',\n",
       " 'Y:\\\\laura_berkowitz\\\\behavior_validation\\\\appps1_cpp\\\\data\\\\cohort6\\\\4123\\\\4123_cpptask_day04\\\\4123_pairingA_day04-02182024092959.avi',\n",
       " 'Y:\\\\laura_berkowitz\\\\behavior_validation\\\\appps1_cpp\\\\data\\\\cohort6\\\\4123\\\\4123_cpptask_day04\\\\4123_pairingB_day04-02182024091753.avi',\n",
       " 'Y:\\\\laura_berkowitz\\\\behavior_validation\\\\appps1_cpp\\\\data\\\\cohort6\\\\4123\\\\4123_cpptask_day04\\\\4123_posttest_day04-02182024104026.avi',\n",
       " 'Y:\\\\laura_berkowitz\\\\behavior_validation\\\\appps1_cpp\\\\data\\\\cohort6\\\\4129\\\\4129_cpptask_day04\\\\4129_baseline_day04-03082024084837.avi',\n",
       " 'Y:\\\\laura_berkowitz\\\\behavior_validation\\\\appps1_cpp\\\\data\\\\cohort6\\\\4129\\\\4129_cpptask_day04\\\\4129_pairingA_day04-03082024093405.avi',\n",
       " 'Y:\\\\laura_berkowitz\\\\behavior_validation\\\\appps1_cpp\\\\data\\\\cohort6\\\\4129\\\\4129_cpptask_day04\\\\4129_pairingB_day04-03082024092059.avi',\n",
       " 'Y:\\\\laura_berkowitz\\\\behavior_validation\\\\appps1_cpp\\\\data\\\\cohort6\\\\4129\\\\4129_cpptask_day04\\\\4129_posttest_day04-03082024105055.avi',\n",
       " 'Y:\\\\laura_berkowitz\\\\behavior_validation\\\\appps1_cpp\\\\data\\\\cohort6\\\\4130\\\\4130_cpptask_day04\\\\4130_baseline_day04-03082024094910.avi',\n",
       " 'Y:\\\\laura_berkowitz\\\\behavior_validation\\\\appps1_cpp\\\\data\\\\cohort6\\\\4130\\\\4130_cpptask_day04\\\\4130_pairingA_day04-03082024101958.avi',\n",
       " 'Y:\\\\laura_berkowitz\\\\behavior_validation\\\\appps1_cpp\\\\data\\\\cohort6\\\\4130\\\\4130_cpptask_day04\\\\4130_pairingB_day04-03082024100636.avi',\n",
       " 'Y:\\\\laura_berkowitz\\\\behavior_validation\\\\appps1_cpp\\\\data\\\\cohort6\\\\4130\\\\4130_cpptask_day04\\\\4130_posttest_day04-03082024113250.avi',\n",
       " 'Y:\\\\laura_berkowitz\\\\behavior_validation\\\\appps1_cpp\\\\data\\\\cohort6\\\\4139\\\\4139_cpptask_day09\\\\4139_baseline_day09-03022024091942.avi',\n",
       " 'Y:\\\\laura_berkowitz\\\\behavior_validation\\\\appps1_cpp\\\\data\\\\cohort6\\\\4139\\\\4139_cpptask_day09\\\\4139_cpptest_day09-03022024105625.avi',\n",
       " 'Y:\\\\laura_berkowitz\\\\behavior_validation\\\\appps1_cpp\\\\data\\\\cohort6\\\\4139\\\\4139_cpptask_day09\\\\4139_pairingA_day09-03022024093453.avi',\n",
       " 'Y:\\\\laura_berkowitz\\\\behavior_validation\\\\appps1_cpp\\\\data\\\\cohort6\\\\4139\\\\4139_cpptask_day09\\\\4139_pairingB_day09-03022024094649.avi',\n",
       " 'Y:\\\\laura_berkowitz\\\\behavior_validation\\\\appps1_cpp\\\\data\\\\cohort6\\\\4140\\\\4140_cpptask_day08\\\\4140_baseline_day08-03032024083712.avi',\n",
       " 'Y:\\\\laura_berkowitz\\\\behavior_validation\\\\appps1_cpp\\\\data\\\\cohort6\\\\4140\\\\4140_cpptask_day08\\\\4140_pairingA_day08-03032024085455.avi',\n",
       " 'Y:\\\\laura_berkowitz\\\\behavior_validation\\\\appps1_cpp\\\\data\\\\cohort6\\\\4140\\\\4140_cpptask_day08\\\\4140_pairingB_day08-03032024090657.avi',\n",
       " 'Y:\\\\laura_berkowitz\\\\behavior_validation\\\\appps1_cpp\\\\data\\\\cohort6\\\\4140\\\\4140_cpptask_day08\\\\4140_posttest_day08-03032024101646.avi',\n",
       " 'Y:\\\\laura_berkowitz\\\\behavior_validation\\\\appps1_cpp\\\\data\\\\cohort6\\\\4141\\\\4141_cpptask_day09\\\\4141_baseline_day09-03022024083456.avi',\n",
       " 'Y:\\\\laura_berkowitz\\\\behavior_validation\\\\appps1_cpp\\\\data\\\\cohort6\\\\4141\\\\4141_cpptask_day09\\\\4141_cpptest_day09-03022024101529.avi',\n",
       " 'Y:\\\\laura_berkowitz\\\\behavior_validation\\\\appps1_cpp\\\\data\\\\cohort6\\\\4141\\\\4141_cpptask_day09\\\\4141_pairingA_day09-03022024090557.avi',\n",
       " 'Y:\\\\laura_berkowitz\\\\behavior_validation\\\\appps1_cpp\\\\data\\\\cohort6\\\\4141\\\\4141_cpptask_day09\\\\4141_pairingB_day09-03022024085417.avi',\n",
       " 'Y:\\\\laura_berkowitz\\\\behavior_validation\\\\appps1_cpp\\\\data\\\\cohort6\\\\4142\\\\4142_cpptask_day08\\\\4142_baseline_day08-03032024091903.avi',\n",
       " 'Y:\\\\laura_berkowitz\\\\behavior_validation\\\\appps1_cpp\\\\data\\\\cohort6\\\\4142\\\\4142_cpptask_day08\\\\4142_pairingA_day08-03032024094019.avi',\n",
       " 'Y:\\\\laura_berkowitz\\\\behavior_validation\\\\appps1_cpp\\\\data\\\\cohort6\\\\4142\\\\4142_cpptask_day08\\\\4142_pairingB_day08-03032024095211.avi',\n",
       " 'Y:\\\\laura_berkowitz\\\\behavior_validation\\\\appps1_cpp\\\\data\\\\cohort6\\\\4142\\\\4142_cpptask_day08\\\\4142_posttest_day08-03032024110155.avi',\n",
       " 'Y:\\\\laura_berkowitz\\\\behavior_validation\\\\appps1_cpp\\\\data\\\\cohort6\\\\4220\\\\4220_cpptask_day04\\\\4220_baseline_day04-03122024080054.avi',\n",
       " 'Y:\\\\laura_berkowitz\\\\behavior_validation\\\\appps1_cpp\\\\data\\\\cohort6\\\\4220\\\\4220_cpptask_day04\\\\4220_cpptest_day04-03122024094303.avi',\n",
       " 'Y:\\\\laura_berkowitz\\\\behavior_validation\\\\appps1_cpp\\\\data\\\\cohort6\\\\4220\\\\4220_cpptask_day04\\\\4220_pairingA_day04-03122024081623.avi',\n",
       " 'Y:\\\\laura_berkowitz\\\\behavior_validation\\\\appps1_cpp\\\\data\\\\cohort6\\\\4220\\\\4220_cpptask_day04\\\\4220_pairingB_day04-03122024082935.avi',\n",
       " 'Y:\\\\laura_berkowitz\\\\behavior_validation\\\\appps1_cpp\\\\data\\\\cohort6\\\\4221\\\\4221_cpptask_day04\\\\baseline_4221_L_day04-03112024092439.avi',\n",
       " 'Y:\\\\laura_berkowitz\\\\behavior_validation\\\\appps1_cpp\\\\data\\\\cohort6\\\\4221\\\\4221_cpptask_day04\\\\pairingA_4221_L_day04-03112024094224.avi',\n",
       " 'Y:\\\\laura_berkowitz\\\\behavior_validation\\\\appps1_cpp\\\\data\\\\cohort6\\\\4221\\\\4221_cpptask_day04\\\\pairingB_4221_L_day04-03112024095541.avi',\n",
       " 'Y:\\\\laura_berkowitz\\\\behavior_validation\\\\appps1_cpp\\\\data\\\\cohort6\\\\4221\\\\4221_cpptask_day04\\\\posttest_4221_L_day04-03112024111339.avi',\n",
       " 'Y:\\\\laura_berkowitz\\\\behavior_validation\\\\appps1_cpp\\\\data\\\\cohort6\\\\4222\\\\4222_cpptask_day04\\\\4222_baseline_day04-03122024090014.avi',\n",
       " 'Y:\\\\laura_berkowitz\\\\behavior_validation\\\\appps1_cpp\\\\data\\\\cohort6\\\\4222\\\\4222_cpptask_day04\\\\4222_pairingA_day04-03122024092930.avi',\n",
       " 'Y:\\\\laura_berkowitz\\\\behavior_validation\\\\appps1_cpp\\\\data\\\\cohort6\\\\4222\\\\4222_cpptask_day04\\\\4222_pairingB_day04-03122024091629.avi',\n",
       " 'Y:\\\\laura_berkowitz\\\\behavior_validation\\\\appps1_cpp\\\\data\\\\cohort6\\\\4223\\\\4223_cpptask_day04\\\\baseline_4223_B_day04-03112024083835.avi',\n",
       " 'Y:\\\\laura_berkowitz\\\\behavior_validation\\\\appps1_cpp\\\\data\\\\cohort6\\\\4223\\\\4223_cpptask_day04\\\\pairingA_4223_B_day04-03112024091023.avi',\n",
       " 'Y:\\\\laura_berkowitz\\\\behavior_validation\\\\appps1_cpp\\\\data\\\\cohort6\\\\4223\\\\4223_cpptask_day04\\\\pairingB_4223_B_day04-03112024085641.avi',\n",
       " 'Y:\\\\laura_berkowitz\\\\behavior_validation\\\\appps1_cpp\\\\data\\\\cohort6\\\\4223\\\\4223_cpptask_day04\\\\posttest_4223_B_day04-03112024102313.avi']"
      ]
     },
     "execution_count": 2,
     "metadata": {},
     "output_type": "execute_result"
    }
   ],
   "source": [
    "\n",
    "# Data path \n",
    "data_path = r'Y:\\laura_berkowitz\\behavior_validation\\appps1_cpp\\data\\cohort6'\n",
    "\n",
    "# use glob to find path to all .avi files \n",
    "\n",
    "video_files = glob.glob(data_path + '/**/*.avi', recursive=True)\n",
    "video_files\n",
    "\n",
    "# remove video files that have habituation in the name\n",
    "video_files = [file for file in video_files if 'habituation' not in file]\n",
    "video_files"
   ]
  },
  {
   "cell_type": "markdown",
   "metadata": {},
   "source": [
    "## Set DLC config and analyze videos. If video is already run (H5 or CSV in folder, DLC will continue to next video)"
   ]
  },
  {
   "cell_type": "code",
   "execution_count": 3,
   "metadata": {},
   "outputs": [
    {
     "name": "stdout",
     "output_type": "stream",
     "text": [
      "Using snapshot-200000 for model Y:\\laura_berkowitz\\dlc_models\\ephys1_cpp2024-berkowitz-2024-07-15\\dlc-models\\iteration-0\\ephys1_cpp2024Jul15-trainset95shuffle1\n"
     ]
    },
    {
     "name": "stderr",
     "output_type": "stream",
     "text": [
      "c:\\Users\\schafferlab\\anaconda3\\envs\\DLC-GPU\\lib\\site-packages\\tensorflow\\python\\keras\\engine\\base_layer_v1.py:1694: UserWarning: `layer.apply` is deprecated and will be removed in a future version. Please use `layer.__call__` method instead.\n",
      "  warnings.warn('`layer.apply` is deprecated and '\n"
     ]
    },
    {
     "name": "stdout",
     "output_type": "stream",
     "text": [
      "Starting to analyze %  Y:\\laura_berkowitz\\behavior_validation\\appps1_cpp\\data\\cohort6\\4016\\4016_cpptask_day04\\4016_baseline_day04-03092024083222.avi\n",
      "Starting to analyze %  Y:\\laura_berkowitz\\behavior_validation\\appps1_cpp\\data\\cohort6\\4016\\4016_cpptask_day04\\4016_pairingA_day04-03092024085432.avi\n",
      "Starting to analyze %  Y:\\laura_berkowitz\\behavior_validation\\appps1_cpp\\data\\cohort6\\4016\\4016_cpptask_day04\\4016_pairingB_day04-03092024090750.avi\n",
      "Starting to analyze %  Y:\\laura_berkowitz\\behavior_validation\\appps1_cpp\\data\\cohort6\\4016\\4016_cpptask_day04\\4016_posttest_day04-03092024101742.avi\n",
      "Starting to analyze %  Y:\\laura_berkowitz\\behavior_validation\\appps1_cpp\\data\\cohort6\\4017\\4017_cpptask_day04\\4017_baseline_day04-03092024092150.avi\n",
      "Starting to analyze %  Y:\\laura_berkowitz\\behavior_validation\\appps1_cpp\\data\\cohort6\\4017\\4017_cpptask_day04\\4017_pairingA_day04-03092024093903.avi\n",
      "Starting to analyze %  Y:\\laura_berkowitz\\behavior_validation\\appps1_cpp\\data\\cohort6\\4017\\4017_cpptask_day04\\4017_pairingB_day04-03092024095147.avi\n",
      "Starting to analyze %  Y:\\laura_berkowitz\\behavior_validation\\appps1_cpp\\data\\cohort6\\4017\\4017_cpptask_day04\\4017_posttest_day04-03092024110119.avi\n",
      "Starting to analyze %  Y:\\laura_berkowitz\\behavior_validation\\appps1_cpp\\data\\cohort6\\4024\\4024_cpptask_day04\\4024_N_pairingA-03042024100206.avi\n",
      "Starting to analyze %  Y:\\laura_berkowitz\\behavior_validation\\appps1_cpp\\data\\cohort6\\4024\\4024_cpptask_day04\\4024_N_pairingB-03042024094803.avi\n",
      "Starting to analyze %  Y:\\laura_berkowitz\\behavior_validation\\appps1_cpp\\data\\cohort6\\4024\\4024_cpptask_day04\\4024_N_posttest-03042024113146.avi\n",
      "Starting to analyze %  Y:\\laura_berkowitz\\behavior_validation\\appps1_cpp\\data\\cohort6\\4024\\4024_cpptask_day04\\4024_N_pretest-03042024093023.avi\n",
      "Starting to analyze %  Y:\\laura_berkowitz\\behavior_validation\\appps1_cpp\\data\\cohort6\\4025\\4025_cpptask_day04\\4025_L_pairingA-03042024091458.avi\n",
      "Starting to analyze %  Y:\\laura_berkowitz\\behavior_validation\\appps1_cpp\\data\\cohort6\\4025\\4025_cpptask_day04\\4025_L_pairingB-03042024090125.avi\n",
      "Starting to analyze %  Y:\\laura_berkowitz\\behavior_validation\\appps1_cpp\\data\\cohort6\\4025\\4025_cpptask_day04\\4025_L_posttest-03042024102904.avi\n",
      "Starting to analyze %  Y:\\laura_berkowitz\\behavior_validation\\appps1_cpp\\data\\cohort6\\4025\\4025_cpptask_day04\\4025_L_pretest-03042024083821.avi\n",
      "Starting to analyze %  Y:\\laura_berkowitz\\behavior_validation\\appps1_cpp\\data\\cohort6\\4028\\4028_cpptask_day04\\4028_2L_pairingA-03042024111730.avi\n",
      "Starting to analyze %  Y:\\laura_berkowitz\\behavior_validation\\appps1_cpp\\data\\cohort6\\4028\\4028_cpptask_day04\\4028_2L_pairingB-03042024110321.avi\n",
      "Starting to analyze %  Y:\\laura_berkowitz\\behavior_validation\\appps1_cpp\\data\\cohort6\\4028\\4028_cpptask_day04\\4028_2L_posttest-03042024122959.avi\n",
      "Starting to analyze %  Y:\\laura_berkowitz\\behavior_validation\\appps1_cpp\\data\\cohort6\\4028\\4028_cpptask_day04\\4028_2L_pretest-03042024104639.avi\n",
      "Starting to analyze %  Y:\\laura_berkowitz\\behavior_validation\\appps1_cpp\\data\\cohort6\\4104\\4104_cpptask_day04\\4104_baseline_day04-03102024083438.avi\n",
      "Starting to analyze %  Y:\\laura_berkowitz\\behavior_validation\\appps1_cpp\\data\\cohort6\\4104\\4104_cpptask_day04\\4104_pairingA_day04-03102024085205.avi\n",
      "Starting to analyze %  Y:\\laura_berkowitz\\behavior_validation\\appps1_cpp\\data\\cohort6\\4104\\4104_cpptask_day04\\4104_pairingB_day04-03102024090400.avi\n",
      "Starting to analyze %  Y:\\laura_berkowitz\\behavior_validation\\appps1_cpp\\data\\cohort6\\4104\\4104_cpptask_day04\\4104_posttest_day04-03102024101332.avi\n",
      "Starting to analyze %  Y:\\laura_berkowitz\\behavior_validation\\appps1_cpp\\data\\cohort6\\4105\\4105_cpptask_day04\\4105_baseline_day04-03102024091558.avi\n",
      "Starting to analyze %  Y:\\laura_berkowitz\\behavior_validation\\appps1_cpp\\data\\cohort6\\4105\\4105_cpptask_day04\\4105_pairingA_day04-03102024093211.avi\n",
      "Starting to analyze %  Y:\\laura_berkowitz\\behavior_validation\\appps1_cpp\\data\\cohort6\\4105\\4105_cpptask_day04\\4105_pairingB_day04-03102024094405.avi\n",
      "Starting to analyze %  Y:\\laura_berkowitz\\behavior_validation\\appps1_cpp\\data\\cohort6\\4105\\4105_cpptask_day04\\4105_posttest_day04-03102024105410.avi\n",
      "Starting to analyze %  Y:\\laura_berkowitz\\behavior_validation\\appps1_cpp\\data\\cohort6\\4116\\4116_cpptask_day04\\4116_baseline_day04-03052024080332.avi\n",
      "Starting to analyze %  Y:\\laura_berkowitz\\behavior_validation\\appps1_cpp\\data\\cohort6\\4116\\4116_cpptask_day04\\4116_cpptest_day04-03052024094501.avi\n",
      "Starting to analyze %  Y:\\laura_berkowitz\\behavior_validation\\appps1_cpp\\data\\cohort6\\4116\\4116_cpptask_day04\\4116_pairingA_day04-03052024081921.avi\n",
      "Starting to analyze %  Y:\\laura_berkowitz\\behavior_validation\\appps1_cpp\\data\\cohort6\\4116\\4116_cpptask_day04\\4116_pairingB_day04-03052024083216.avi\n",
      "Starting to analyze %  Y:\\laura_berkowitz\\behavior_validation\\appps1_cpp\\data\\cohort6\\4117\\4117_cpptask_day04\\4117_baseline_day04-03052024084510.avi\n",
      "Starting to analyze %  Y:\\laura_berkowitz\\behavior_validation\\appps1_cpp\\data\\cohort6\\4117\\4117_cpptask_day04\\4117_cpptest_day04-03052024103036.avi\n",
      "Starting to analyze %  Y:\\laura_berkowitz\\behavior_validation\\appps1_cpp\\data\\cohort6\\4117\\4117_cpptask_day04\\4117_pairingA_day04-03052024091517.avi\n",
      "Starting to analyze %  Y:\\laura_berkowitz\\behavior_validation\\appps1_cpp\\data\\cohort6\\4117\\4117_cpptask_day04\\4117_pairingB_day04-03052024090223.avi\n",
      "Starting to analyze %  Y:\\laura_berkowitz\\behavior_validation\\appps1_cpp\\data\\cohort6\\4122\\4122_cpptask_day04\\4122_baseline_day04-02182024094235.avi\n",
      "Starting to analyze %  Y:\\laura_berkowitz\\behavior_validation\\appps1_cpp\\data\\cohort6\\4122\\4122_cpptask_day04\\4122_pairingA_day04-02182024100922.avi\n",
      "Starting to analyze %  Y:\\laura_berkowitz\\behavior_validation\\appps1_cpp\\data\\cohort6\\4122\\4122_cpptask_day04\\4122_pairingB_day04-02182024095806.avi\n",
      "Starting to analyze %  Y:\\laura_berkowitz\\behavior_validation\\appps1_cpp\\data\\cohort6\\4122\\4122_cpptask_day04\\4122_posttest_day04-02182024112223.avi\n",
      "Starting to analyze %  Y:\\laura_berkowitz\\behavior_validation\\appps1_cpp\\data\\cohort6\\4123\\4123_cpptask_day04\\4123_baseline_day04-02182024090100.avi\n",
      "Starting to analyze %  Y:\\laura_berkowitz\\behavior_validation\\appps1_cpp\\data\\cohort6\\4123\\4123_cpptask_day04\\4123_pairingA_day04-02182024092959.avi\n",
      "Starting to analyze %  Y:\\laura_berkowitz\\behavior_validation\\appps1_cpp\\data\\cohort6\\4123\\4123_cpptask_day04\\4123_pairingB_day04-02182024091753.avi\n",
      "Starting to analyze %  Y:\\laura_berkowitz\\behavior_validation\\appps1_cpp\\data\\cohort6\\4123\\4123_cpptask_day04\\4123_posttest_day04-02182024104026.avi\n",
      "Starting to analyze %  Y:\\laura_berkowitz\\behavior_validation\\appps1_cpp\\data\\cohort6\\4129\\4129_cpptask_day04\\4129_baseline_day04-03082024084837.avi\n",
      "Starting to analyze %  Y:\\laura_berkowitz\\behavior_validation\\appps1_cpp\\data\\cohort6\\4129\\4129_cpptask_day04\\4129_pairingA_day04-03082024093405.avi\n",
      "Starting to analyze %  Y:\\laura_berkowitz\\behavior_validation\\appps1_cpp\\data\\cohort6\\4129\\4129_cpptask_day04\\4129_pairingB_day04-03082024092059.avi\n",
      "Starting to analyze %  Y:\\laura_berkowitz\\behavior_validation\\appps1_cpp\\data\\cohort6\\4129\\4129_cpptask_day04\\4129_posttest_day04-03082024105055.avi\n",
      "Starting to analyze %  Y:\\laura_berkowitz\\behavior_validation\\appps1_cpp\\data\\cohort6\\4130\\4130_cpptask_day04\\4130_baseline_day04-03082024094910.avi\n",
      "Starting to analyze %  Y:\\laura_berkowitz\\behavior_validation\\appps1_cpp\\data\\cohort6\\4130\\4130_cpptask_day04\\4130_pairingA_day04-03082024101958.avi\n",
      "Starting to analyze %  Y:\\laura_berkowitz\\behavior_validation\\appps1_cpp\\data\\cohort6\\4130\\4130_cpptask_day04\\4130_pairingB_day04-03082024100636.avi\n",
      "Starting to analyze %  Y:\\laura_berkowitz\\behavior_validation\\appps1_cpp\\data\\cohort6\\4130\\4130_cpptask_day04\\4130_posttest_day04-03082024113250.avi\n",
      "Starting to analyze %  Y:\\laura_berkowitz\\behavior_validation\\appps1_cpp\\data\\cohort6\\4139\\4139_cpptask_day09\\4139_baseline_day09-03022024091942.avi\n",
      "Starting to analyze %  Y:\\laura_berkowitz\\behavior_validation\\appps1_cpp\\data\\cohort6\\4139\\4139_cpptask_day09\\4139_cpptest_day09-03022024105625.avi\n",
      "Starting to analyze %  Y:\\laura_berkowitz\\behavior_validation\\appps1_cpp\\data\\cohort6\\4139\\4139_cpptask_day09\\4139_pairingA_day09-03022024093453.avi\n",
      "Starting to analyze %  Y:\\laura_berkowitz\\behavior_validation\\appps1_cpp\\data\\cohort6\\4139\\4139_cpptask_day09\\4139_pairingB_day09-03022024094649.avi\n",
      "Starting to analyze %  Y:\\laura_berkowitz\\behavior_validation\\appps1_cpp\\data\\cohort6\\4140\\4140_cpptask_day08\\4140_baseline_day08-03032024083712.avi\n",
      "Starting to analyze %  Y:\\laura_berkowitz\\behavior_validation\\appps1_cpp\\data\\cohort6\\4140\\4140_cpptask_day08\\4140_pairingA_day08-03032024085455.avi\n",
      "Starting to analyze %  Y:\\laura_berkowitz\\behavior_validation\\appps1_cpp\\data\\cohort6\\4140\\4140_cpptask_day08\\4140_pairingB_day08-03032024090657.avi\n",
      "Starting to analyze %  Y:\\laura_berkowitz\\behavior_validation\\appps1_cpp\\data\\cohort6\\4140\\4140_cpptask_day08\\4140_posttest_day08-03032024101646.avi\n",
      "Starting to analyze %  Y:\\laura_berkowitz\\behavior_validation\\appps1_cpp\\data\\cohort6\\4141\\4141_cpptask_day09\\4141_baseline_day09-03022024083456.avi\n",
      "Starting to analyze %  Y:\\laura_berkowitz\\behavior_validation\\appps1_cpp\\data\\cohort6\\4141\\4141_cpptask_day09\\4141_cpptest_day09-03022024101529.avi\n",
      "Starting to analyze %  Y:\\laura_berkowitz\\behavior_validation\\appps1_cpp\\data\\cohort6\\4141\\4141_cpptask_day09\\4141_pairingA_day09-03022024090557.avi\n",
      "Starting to analyze %  Y:\\laura_berkowitz\\behavior_validation\\appps1_cpp\\data\\cohort6\\4141\\4141_cpptask_day09\\4141_pairingB_day09-03022024085417.avi\n",
      "Starting to analyze %  Y:\\laura_berkowitz\\behavior_validation\\appps1_cpp\\data\\cohort6\\4142\\4142_cpptask_day08\\4142_baseline_day08-03032024091903.avi\n",
      "Starting to analyze %  Y:\\laura_berkowitz\\behavior_validation\\appps1_cpp\\data\\cohort6\\4142\\4142_cpptask_day08\\4142_pairingA_day08-03032024094019.avi\n",
      "Starting to analyze %  Y:\\laura_berkowitz\\behavior_validation\\appps1_cpp\\data\\cohort6\\4142\\4142_cpptask_day08\\4142_pairingB_day08-03032024095211.avi\n",
      "Starting to analyze %  Y:\\laura_berkowitz\\behavior_validation\\appps1_cpp\\data\\cohort6\\4142\\4142_cpptask_day08\\4142_posttest_day08-03032024110155.avi\n",
      "Starting to analyze %  Y:\\laura_berkowitz\\behavior_validation\\appps1_cpp\\data\\cohort6\\4220\\4220_cpptask_day04\\4220_baseline_day04-03122024080054.avi\n",
      "Starting to analyze %  Y:\\laura_berkowitz\\behavior_validation\\appps1_cpp\\data\\cohort6\\4220\\4220_cpptask_day04\\4220_cpptest_day04-03122024094303.avi\n",
      "Starting to analyze %  Y:\\laura_berkowitz\\behavior_validation\\appps1_cpp\\data\\cohort6\\4220\\4220_cpptask_day04\\4220_pairingA_day04-03122024081623.avi\n",
      "Starting to analyze %  Y:\\laura_berkowitz\\behavior_validation\\appps1_cpp\\data\\cohort6\\4220\\4220_cpptask_day04\\4220_pairingB_day04-03122024082935.avi\n",
      "Starting to analyze %  Y:\\laura_berkowitz\\behavior_validation\\appps1_cpp\\data\\cohort6\\4221\\4221_cpptask_day04\\baseline_4221_L_day04-03112024092439.avi\n",
      "Starting to analyze %  Y:\\laura_berkowitz\\behavior_validation\\appps1_cpp\\data\\cohort6\\4221\\4221_cpptask_day04\\pairingA_4221_L_day04-03112024094224.avi\n",
      "Starting to analyze %  Y:\\laura_berkowitz\\behavior_validation\\appps1_cpp\\data\\cohort6\\4221\\4221_cpptask_day04\\pairingB_4221_L_day04-03112024095541.avi\n",
      "Starting to analyze %  Y:\\laura_berkowitz\\behavior_validation\\appps1_cpp\\data\\cohort6\\4221\\4221_cpptask_day04\\posttest_4221_L_day04-03112024111339.avi\n",
      "Starting to analyze %  Y:\\laura_berkowitz\\behavior_validation\\appps1_cpp\\data\\cohort6\\4222\\4222_cpptask_day04\\4222_baseline_day04-03122024090014.avi\n",
      "Starting to analyze %  Y:\\laura_berkowitz\\behavior_validation\\appps1_cpp\\data\\cohort6\\4222\\4222_cpptask_day04\\4222_pairingA_day04-03122024092930.avi\n",
      "Loading  Y:\\laura_berkowitz\\behavior_validation\\appps1_cpp\\data\\cohort6\\4222\\4222_cpptask_day04\\4222_pairingA_day04-03122024092930.avi\n",
      "Duration of video [s]:  670.63 , recorded with  30.0 fps!\n",
      "Overall # of frames:  20119  found with (before cropping) frame dimensions:  1440 1080\n",
      "Starting to extract posture\n"
     ]
    },
    {
     "name": "stderr",
     "output_type": "stream",
     "text": [
      "100%|█████████▉| 20100/20119 [14:30<00:00, 23.09it/s]\n"
     ]
    },
    {
     "name": "stdout",
     "output_type": "stream",
     "text": [
      "Saving results in Y:\\laura_berkowitz\\behavior_validation\\appps1_cpp\\data\\cohort6\\4222\\4222_cpptask_day04...\n",
      "Saving csv poses!\n",
      "Starting to analyze %  Y:\\laura_berkowitz\\behavior_validation\\appps1_cpp\\data\\cohort6\\4222\\4222_cpptask_day04\\4222_pairingB_day04-03122024091629.avi\n",
      "Loading  Y:\\laura_berkowitz\\behavior_validation\\appps1_cpp\\data\\cohort6\\4222\\4222_cpptask_day04\\4222_pairingB_day04-03122024091629.avi\n",
      "Duration of video [s]:  669.53 , recorded with  30.0 fps!\n",
      "Overall # of frames:  20086  found with (before cropping) frame dimensions:  1440 1080\n",
      "Starting to extract posture\n"
     ]
    },
    {
     "name": "stderr",
     "output_type": "stream",
     "text": [
      "100%|█████████▉| 20000/20086 [14:31<00:03, 22.95it/s]\n"
     ]
    },
    {
     "name": "stdout",
     "output_type": "stream",
     "text": [
      "Saving results in Y:\\laura_berkowitz\\behavior_validation\\appps1_cpp\\data\\cohort6\\4222\\4222_cpptask_day04...\n",
      "Saving csv poses!\n",
      "Starting to analyze %  Y:\\laura_berkowitz\\behavior_validation\\appps1_cpp\\data\\cohort6\\4223\\4223_cpptask_day04\\baseline_4223_B_day04-03112024083835.avi\n",
      "Loading  Y:\\laura_berkowitz\\behavior_validation\\appps1_cpp\\data\\cohort6\\4223\\4223_cpptask_day04\\baseline_4223_B_day04-03112024083835.avi\n",
      "Duration of video [s]:  669.73 , recorded with  30.0 fps!\n",
      "Overall # of frames:  20092  found with (before cropping) frame dimensions:  1440 1080\n",
      "Starting to extract posture\n"
     ]
    },
    {
     "name": "stderr",
     "output_type": "stream",
     "text": [
      "100%|█████████▉| 20000/20092 [13:59<00:03, 23.82it/s]\n"
     ]
    },
    {
     "name": "stdout",
     "output_type": "stream",
     "text": [
      "Saving results in Y:\\laura_berkowitz\\behavior_validation\\appps1_cpp\\data\\cohort6\\4223\\4223_cpptask_day04...\n",
      "Saving csv poses!\n",
      "Starting to analyze %  Y:\\laura_berkowitz\\behavior_validation\\appps1_cpp\\data\\cohort6\\4223\\4223_cpptask_day04\\pairingA_4223_B_day04-03112024091023.avi\n",
      "Loading  Y:\\laura_berkowitz\\behavior_validation\\appps1_cpp\\data\\cohort6\\4223\\4223_cpptask_day04\\pairingA_4223_B_day04-03112024091023.avi\n",
      "Duration of video [s]:  678.3 , recorded with  30.0 fps!\n",
      "Overall # of frames:  20349  found with (before cropping) frame dimensions:  1440 1080\n",
      "Starting to extract posture\n"
     ]
    },
    {
     "name": "stderr",
     "output_type": "stream",
     "text": [
      "100%|█████████▉| 20300/20349 [14:06<00:02, 23.99it/s]\n"
     ]
    },
    {
     "name": "stdout",
     "output_type": "stream",
     "text": [
      "Saving results in Y:\\laura_berkowitz\\behavior_validation\\appps1_cpp\\data\\cohort6\\4223\\4223_cpptask_day04...\n",
      "Saving csv poses!\n",
      "Starting to analyze %  Y:\\laura_berkowitz\\behavior_validation\\appps1_cpp\\data\\cohort6\\4223\\4223_cpptask_day04\\pairingB_4223_B_day04-03112024085641.avi\n",
      "Loading  Y:\\laura_berkowitz\\behavior_validation\\appps1_cpp\\data\\cohort6\\4223\\4223_cpptask_day04\\pairingB_4223_B_day04-03112024085641.avi\n",
      "Duration of video [s]:  680.5 , recorded with  30.0 fps!\n",
      "Overall # of frames:  20415  found with (before cropping) frame dimensions:  1440 1080\n",
      "Starting to extract posture\n"
     ]
    },
    {
     "name": "stderr",
     "output_type": "stream",
     "text": [
      "100%|█████████▉| 20400/20415 [14:10<00:00, 24.00it/s]\n"
     ]
    },
    {
     "name": "stdout",
     "output_type": "stream",
     "text": [
      "Saving results in Y:\\laura_berkowitz\\behavior_validation\\appps1_cpp\\data\\cohort6\\4223\\4223_cpptask_day04...\n",
      "Saving csv poses!\n",
      "Starting to analyze %  Y:\\laura_berkowitz\\behavior_validation\\appps1_cpp\\data\\cohort6\\4223\\4223_cpptask_day04\\posttest_4223_B_day04-03112024102313.avi\n",
      "Loading  Y:\\laura_berkowitz\\behavior_validation\\appps1_cpp\\data\\cohort6\\4223\\4223_cpptask_day04\\posttest_4223_B_day04-03112024102313.avi\n",
      "Duration of video [s]:  669.07 , recorded with  30.0 fps!\n",
      "Overall # of frames:  20072  found with (before cropping) frame dimensions:  1440 1080\n",
      "Starting to extract posture\n"
     ]
    },
    {
     "name": "stderr",
     "output_type": "stream",
     "text": [
      "100%|█████████▉| 20000/20072 [13:54<00:03, 23.96it/s]\n"
     ]
    },
    {
     "name": "stdout",
     "output_type": "stream",
     "text": [
      "Saving results in Y:\\laura_berkowitz\\behavior_validation\\appps1_cpp\\data\\cohort6\\4223\\4223_cpptask_day04...\n",
      "Saving csv poses!\n",
      "The videos are analyzed. Now your research can truly start! \n",
      " You can create labeled videos with 'create_labeled_video'\n",
      "If the tracking is not satisfactory for some videos, consider expanding the training set. You can use the function 'extract_outlier_frames' to extract a few representative outlier frames.\n",
      "Filtering with median model Y:\\laura_berkowitz\\behavior_validation\\appps1_cpp\\data\\cohort6\\4016\\4016_cpptask_day04\\4016_baseline_day04-03092024083222.avi\n",
      "Saving filtered csv poses!\n",
      "Filtering with median model Y:\\laura_berkowitz\\behavior_validation\\appps1_cpp\\data\\cohort6\\4016\\4016_cpptask_day04\\4016_pairingA_day04-03092024085432.avi\n",
      "Saving filtered csv poses!\n",
      "Filtering with median model Y:\\laura_berkowitz\\behavior_validation\\appps1_cpp\\data\\cohort6\\4016\\4016_cpptask_day04\\4016_pairingB_day04-03092024090750.avi\n",
      "Saving filtered csv poses!\n",
      "Filtering with median model Y:\\laura_berkowitz\\behavior_validation\\appps1_cpp\\data\\cohort6\\4016\\4016_cpptask_day04\\4016_posttest_day04-03092024101742.avi\n",
      "Saving filtered csv poses!\n",
      "Filtering with median model Y:\\laura_berkowitz\\behavior_validation\\appps1_cpp\\data\\cohort6\\4017\\4017_cpptask_day04\\4017_baseline_day04-03092024092150.avi\n",
      "No unfiltered data file found in Y:\\laura_berkowitz\\behavior_validation\\appps1_cpp\\data\\cohort6\\4016\\4016_cpptask_day04 for video 4017_baseline_day04-03092024092150 and scorer DLC_resnet50_ephys1_cpp2024Jul15shuffle1_200000.\n",
      "Filtering with median model Y:\\laura_berkowitz\\behavior_validation\\appps1_cpp\\data\\cohort6\\4017\\4017_cpptask_day04\\4017_pairingA_day04-03092024093903.avi\n",
      "No unfiltered data file found in Y:\\laura_berkowitz\\behavior_validation\\appps1_cpp\\data\\cohort6\\4016\\4016_cpptask_day04 for video 4017_pairingA_day04-03092024093903 and scorer DLC_resnet50_ephys1_cpp2024Jul15shuffle1_200000.\n",
      "Filtering with median model Y:\\laura_berkowitz\\behavior_validation\\appps1_cpp\\data\\cohort6\\4017\\4017_cpptask_day04\\4017_pairingB_day04-03092024095147.avi\n",
      "No unfiltered data file found in Y:\\laura_berkowitz\\behavior_validation\\appps1_cpp\\data\\cohort6\\4016\\4016_cpptask_day04 for video 4017_pairingB_day04-03092024095147 and scorer DLC_resnet50_ephys1_cpp2024Jul15shuffle1_200000.\n",
      "Filtering with median model Y:\\laura_berkowitz\\behavior_validation\\appps1_cpp\\data\\cohort6\\4017\\4017_cpptask_day04\\4017_posttest_day04-03092024110119.avi\n",
      "No unfiltered data file found in Y:\\laura_berkowitz\\behavior_validation\\appps1_cpp\\data\\cohort6\\4016\\4016_cpptask_day04 for video 4017_posttest_day04-03092024110119 and scorer DLC_resnet50_ephys1_cpp2024Jul15shuffle1_200000.\n",
      "Filtering with median model Y:\\laura_berkowitz\\behavior_validation\\appps1_cpp\\data\\cohort6\\4024\\4024_cpptask_day04\\4024_N_pairingA-03042024100206.avi\n",
      "No unfiltered data file found in Y:\\laura_berkowitz\\behavior_validation\\appps1_cpp\\data\\cohort6\\4016\\4016_cpptask_day04 for video 4024_N_pairingA-03042024100206 and scorer DLC_resnet50_ephys1_cpp2024Jul15shuffle1_200000.\n",
      "Filtering with median model Y:\\laura_berkowitz\\behavior_validation\\appps1_cpp\\data\\cohort6\\4024\\4024_cpptask_day04\\4024_N_pairingB-03042024094803.avi\n",
      "No unfiltered data file found in Y:\\laura_berkowitz\\behavior_validation\\appps1_cpp\\data\\cohort6\\4016\\4016_cpptask_day04 for video 4024_N_pairingB-03042024094803 and scorer DLC_resnet50_ephys1_cpp2024Jul15shuffle1_200000.\n",
      "Filtering with median model Y:\\laura_berkowitz\\behavior_validation\\appps1_cpp\\data\\cohort6\\4024\\4024_cpptask_day04\\4024_N_posttest-03042024113146.avi\n",
      "No unfiltered data file found in Y:\\laura_berkowitz\\behavior_validation\\appps1_cpp\\data\\cohort6\\4016\\4016_cpptask_day04 for video 4024_N_posttest-03042024113146 and scorer DLC_resnet50_ephys1_cpp2024Jul15shuffle1_200000.\n",
      "Filtering with median model Y:\\laura_berkowitz\\behavior_validation\\appps1_cpp\\data\\cohort6\\4024\\4024_cpptask_day04\\4024_N_pretest-03042024093023.avi\n",
      "No unfiltered data file found in Y:\\laura_berkowitz\\behavior_validation\\appps1_cpp\\data\\cohort6\\4016\\4016_cpptask_day04 for video 4024_N_pretest-03042024093023 and scorer DLC_resnet50_ephys1_cpp2024Jul15shuffle1_200000.\n",
      "Filtering with median model Y:\\laura_berkowitz\\behavior_validation\\appps1_cpp\\data\\cohort6\\4025\\4025_cpptask_day04\\4025_L_pairingA-03042024091458.avi\n",
      "No unfiltered data file found in Y:\\laura_berkowitz\\behavior_validation\\appps1_cpp\\data\\cohort6\\4016\\4016_cpptask_day04 for video 4025_L_pairingA-03042024091458 and scorer DLC_resnet50_ephys1_cpp2024Jul15shuffle1_200000.\n",
      "Filtering with median model Y:\\laura_berkowitz\\behavior_validation\\appps1_cpp\\data\\cohort6\\4025\\4025_cpptask_day04\\4025_L_pairingB-03042024090125.avi\n",
      "No unfiltered data file found in Y:\\laura_berkowitz\\behavior_validation\\appps1_cpp\\data\\cohort6\\4016\\4016_cpptask_day04 for video 4025_L_pairingB-03042024090125 and scorer DLC_resnet50_ephys1_cpp2024Jul15shuffle1_200000.\n",
      "Filtering with median model Y:\\laura_berkowitz\\behavior_validation\\appps1_cpp\\data\\cohort6\\4025\\4025_cpptask_day04\\4025_L_posttest-03042024102904.avi\n",
      "No unfiltered data file found in Y:\\laura_berkowitz\\behavior_validation\\appps1_cpp\\data\\cohort6\\4016\\4016_cpptask_day04 for video 4025_L_posttest-03042024102904 and scorer DLC_resnet50_ephys1_cpp2024Jul15shuffle1_200000.\n",
      "Filtering with median model Y:\\laura_berkowitz\\behavior_validation\\appps1_cpp\\data\\cohort6\\4025\\4025_cpptask_day04\\4025_L_pretest-03042024083821.avi\n",
      "No unfiltered data file found in Y:\\laura_berkowitz\\behavior_validation\\appps1_cpp\\data\\cohort6\\4016\\4016_cpptask_day04 for video 4025_L_pretest-03042024083821 and scorer DLC_resnet50_ephys1_cpp2024Jul15shuffle1_200000.\n",
      "Filtering with median model Y:\\laura_berkowitz\\behavior_validation\\appps1_cpp\\data\\cohort6\\4028\\4028_cpptask_day04\\4028_2L_pairingA-03042024111730.avi\n",
      "No unfiltered data file found in Y:\\laura_berkowitz\\behavior_validation\\appps1_cpp\\data\\cohort6\\4016\\4016_cpptask_day04 for video 4028_2L_pairingA-03042024111730 and scorer DLC_resnet50_ephys1_cpp2024Jul15shuffle1_200000.\n",
      "Filtering with median model Y:\\laura_berkowitz\\behavior_validation\\appps1_cpp\\data\\cohort6\\4028\\4028_cpptask_day04\\4028_2L_pairingB-03042024110321.avi\n",
      "No unfiltered data file found in Y:\\laura_berkowitz\\behavior_validation\\appps1_cpp\\data\\cohort6\\4016\\4016_cpptask_day04 for video 4028_2L_pairingB-03042024110321 and scorer DLC_resnet50_ephys1_cpp2024Jul15shuffle1_200000.\n",
      "Filtering with median model Y:\\laura_berkowitz\\behavior_validation\\appps1_cpp\\data\\cohort6\\4028\\4028_cpptask_day04\\4028_2L_posttest-03042024122959.avi\n",
      "No unfiltered data file found in Y:\\laura_berkowitz\\behavior_validation\\appps1_cpp\\data\\cohort6\\4016\\4016_cpptask_day04 for video 4028_2L_posttest-03042024122959 and scorer DLC_resnet50_ephys1_cpp2024Jul15shuffle1_200000.\n",
      "Filtering with median model Y:\\laura_berkowitz\\behavior_validation\\appps1_cpp\\data\\cohort6\\4028\\4028_cpptask_day04\\4028_2L_pretest-03042024104639.avi\n",
      "No unfiltered data file found in Y:\\laura_berkowitz\\behavior_validation\\appps1_cpp\\data\\cohort6\\4016\\4016_cpptask_day04 for video 4028_2L_pretest-03042024104639 and scorer DLC_resnet50_ephys1_cpp2024Jul15shuffle1_200000.\n",
      "Filtering with median model Y:\\laura_berkowitz\\behavior_validation\\appps1_cpp\\data\\cohort6\\4104\\4104_cpptask_day04\\4104_baseline_day04-03102024083438.avi\n",
      "No unfiltered data file found in Y:\\laura_berkowitz\\behavior_validation\\appps1_cpp\\data\\cohort6\\4016\\4016_cpptask_day04 for video 4104_baseline_day04-03102024083438 and scorer DLC_resnet50_ephys1_cpp2024Jul15shuffle1_200000.\n",
      "Filtering with median model Y:\\laura_berkowitz\\behavior_validation\\appps1_cpp\\data\\cohort6\\4104\\4104_cpptask_day04\\4104_pairingA_day04-03102024085205.avi\n",
      "No unfiltered data file found in Y:\\laura_berkowitz\\behavior_validation\\appps1_cpp\\data\\cohort6\\4016\\4016_cpptask_day04 for video 4104_pairingA_day04-03102024085205 and scorer DLC_resnet50_ephys1_cpp2024Jul15shuffle1_200000.\n",
      "Filtering with median model Y:\\laura_berkowitz\\behavior_validation\\appps1_cpp\\data\\cohort6\\4104\\4104_cpptask_day04\\4104_pairingB_day04-03102024090400.avi\n",
      "No unfiltered data file found in Y:\\laura_berkowitz\\behavior_validation\\appps1_cpp\\data\\cohort6\\4016\\4016_cpptask_day04 for video 4104_pairingB_day04-03102024090400 and scorer DLC_resnet50_ephys1_cpp2024Jul15shuffle1_200000.\n",
      "Filtering with median model Y:\\laura_berkowitz\\behavior_validation\\appps1_cpp\\data\\cohort6\\4104\\4104_cpptask_day04\\4104_posttest_day04-03102024101332.avi\n",
      "No unfiltered data file found in Y:\\laura_berkowitz\\behavior_validation\\appps1_cpp\\data\\cohort6\\4016\\4016_cpptask_day04 for video 4104_posttest_day04-03102024101332 and scorer DLC_resnet50_ephys1_cpp2024Jul15shuffle1_200000.\n",
      "Filtering with median model Y:\\laura_berkowitz\\behavior_validation\\appps1_cpp\\data\\cohort6\\4105\\4105_cpptask_day04\\4105_baseline_day04-03102024091558.avi\n",
      "No unfiltered data file found in Y:\\laura_berkowitz\\behavior_validation\\appps1_cpp\\data\\cohort6\\4016\\4016_cpptask_day04 for video 4105_baseline_day04-03102024091558 and scorer DLC_resnet50_ephys1_cpp2024Jul15shuffle1_200000.\n",
      "Filtering with median model Y:\\laura_berkowitz\\behavior_validation\\appps1_cpp\\data\\cohort6\\4105\\4105_cpptask_day04\\4105_pairingA_day04-03102024093211.avi\n",
      "No unfiltered data file found in Y:\\laura_berkowitz\\behavior_validation\\appps1_cpp\\data\\cohort6\\4016\\4016_cpptask_day04 for video 4105_pairingA_day04-03102024093211 and scorer DLC_resnet50_ephys1_cpp2024Jul15shuffle1_200000.\n",
      "Filtering with median model Y:\\laura_berkowitz\\behavior_validation\\appps1_cpp\\data\\cohort6\\4105\\4105_cpptask_day04\\4105_pairingB_day04-03102024094405.avi\n",
      "No unfiltered data file found in Y:\\laura_berkowitz\\behavior_validation\\appps1_cpp\\data\\cohort6\\4016\\4016_cpptask_day04 for video 4105_pairingB_day04-03102024094405 and scorer DLC_resnet50_ephys1_cpp2024Jul15shuffle1_200000.\n",
      "Filtering with median model Y:\\laura_berkowitz\\behavior_validation\\appps1_cpp\\data\\cohort6\\4105\\4105_cpptask_day04\\4105_posttest_day04-03102024105410.avi\n",
      "No unfiltered data file found in Y:\\laura_berkowitz\\behavior_validation\\appps1_cpp\\data\\cohort6\\4016\\4016_cpptask_day04 for video 4105_posttest_day04-03102024105410 and scorer DLC_resnet50_ephys1_cpp2024Jul15shuffle1_200000.\n",
      "Filtering with median model Y:\\laura_berkowitz\\behavior_validation\\appps1_cpp\\data\\cohort6\\4116\\4116_cpptask_day04\\4116_baseline_day04-03052024080332.avi\n",
      "No unfiltered data file found in Y:\\laura_berkowitz\\behavior_validation\\appps1_cpp\\data\\cohort6\\4016\\4016_cpptask_day04 for video 4116_baseline_day04-03052024080332 and scorer DLC_resnet50_ephys1_cpp2024Jul15shuffle1_200000.\n",
      "Filtering with median model Y:\\laura_berkowitz\\behavior_validation\\appps1_cpp\\data\\cohort6\\4116\\4116_cpptask_day04\\4116_cpptest_day04-03052024094501.avi\n",
      "No unfiltered data file found in Y:\\laura_berkowitz\\behavior_validation\\appps1_cpp\\data\\cohort6\\4016\\4016_cpptask_day04 for video 4116_cpptest_day04-03052024094501 and scorer DLC_resnet50_ephys1_cpp2024Jul15shuffle1_200000.\n",
      "Filtering with median model Y:\\laura_berkowitz\\behavior_validation\\appps1_cpp\\data\\cohort6\\4116\\4116_cpptask_day04\\4116_pairingA_day04-03052024081921.avi\n",
      "No unfiltered data file found in Y:\\laura_berkowitz\\behavior_validation\\appps1_cpp\\data\\cohort6\\4016\\4016_cpptask_day04 for video 4116_pairingA_day04-03052024081921 and scorer DLC_resnet50_ephys1_cpp2024Jul15shuffle1_200000.\n",
      "Filtering with median model Y:\\laura_berkowitz\\behavior_validation\\appps1_cpp\\data\\cohort6\\4116\\4116_cpptask_day04\\4116_pairingB_day04-03052024083216.avi\n",
      "No unfiltered data file found in Y:\\laura_berkowitz\\behavior_validation\\appps1_cpp\\data\\cohort6\\4016\\4016_cpptask_day04 for video 4116_pairingB_day04-03052024083216 and scorer DLC_resnet50_ephys1_cpp2024Jul15shuffle1_200000.\n",
      "Filtering with median model Y:\\laura_berkowitz\\behavior_validation\\appps1_cpp\\data\\cohort6\\4117\\4117_cpptask_day04\\4117_baseline_day04-03052024084510.avi\n",
      "No unfiltered data file found in Y:\\laura_berkowitz\\behavior_validation\\appps1_cpp\\data\\cohort6\\4016\\4016_cpptask_day04 for video 4117_baseline_day04-03052024084510 and scorer DLC_resnet50_ephys1_cpp2024Jul15shuffle1_200000.\n",
      "Filtering with median model Y:\\laura_berkowitz\\behavior_validation\\appps1_cpp\\data\\cohort6\\4117\\4117_cpptask_day04\\4117_cpptest_day04-03052024103036.avi\n",
      "No unfiltered data file found in Y:\\laura_berkowitz\\behavior_validation\\appps1_cpp\\data\\cohort6\\4016\\4016_cpptask_day04 for video 4117_cpptest_day04-03052024103036 and scorer DLC_resnet50_ephys1_cpp2024Jul15shuffle1_200000.\n",
      "Filtering with median model Y:\\laura_berkowitz\\behavior_validation\\appps1_cpp\\data\\cohort6\\4117\\4117_cpptask_day04\\4117_pairingA_day04-03052024091517.avi\n",
      "No unfiltered data file found in Y:\\laura_berkowitz\\behavior_validation\\appps1_cpp\\data\\cohort6\\4016\\4016_cpptask_day04 for video 4117_pairingA_day04-03052024091517 and scorer DLC_resnet50_ephys1_cpp2024Jul15shuffle1_200000.\n",
      "Filtering with median model Y:\\laura_berkowitz\\behavior_validation\\appps1_cpp\\data\\cohort6\\4117\\4117_cpptask_day04\\4117_pairingB_day04-03052024090223.avi\n",
      "No unfiltered data file found in Y:\\laura_berkowitz\\behavior_validation\\appps1_cpp\\data\\cohort6\\4016\\4016_cpptask_day04 for video 4117_pairingB_day04-03052024090223 and scorer DLC_resnet50_ephys1_cpp2024Jul15shuffle1_200000.\n",
      "Filtering with median model Y:\\laura_berkowitz\\behavior_validation\\appps1_cpp\\data\\cohort6\\4122\\4122_cpptask_day04\\4122_baseline_day04-02182024094235.avi\n",
      "No unfiltered data file found in Y:\\laura_berkowitz\\behavior_validation\\appps1_cpp\\data\\cohort6\\4016\\4016_cpptask_day04 for video 4122_baseline_day04-02182024094235 and scorer DLC_resnet50_ephys1_cpp2024Jul15shuffle1_200000.\n",
      "Filtering with median model Y:\\laura_berkowitz\\behavior_validation\\appps1_cpp\\data\\cohort6\\4122\\4122_cpptask_day04\\4122_pairingA_day04-02182024100922.avi\n",
      "No unfiltered data file found in Y:\\laura_berkowitz\\behavior_validation\\appps1_cpp\\data\\cohort6\\4016\\4016_cpptask_day04 for video 4122_pairingA_day04-02182024100922 and scorer DLC_resnet50_ephys1_cpp2024Jul15shuffle1_200000.\n",
      "Filtering with median model Y:\\laura_berkowitz\\behavior_validation\\appps1_cpp\\data\\cohort6\\4122\\4122_cpptask_day04\\4122_pairingB_day04-02182024095806.avi\n",
      "No unfiltered data file found in Y:\\laura_berkowitz\\behavior_validation\\appps1_cpp\\data\\cohort6\\4016\\4016_cpptask_day04 for video 4122_pairingB_day04-02182024095806 and scorer DLC_resnet50_ephys1_cpp2024Jul15shuffle1_200000.\n",
      "Filtering with median model Y:\\laura_berkowitz\\behavior_validation\\appps1_cpp\\data\\cohort6\\4122\\4122_cpptask_day04\\4122_posttest_day04-02182024112223.avi\n",
      "No unfiltered data file found in Y:\\laura_berkowitz\\behavior_validation\\appps1_cpp\\data\\cohort6\\4016\\4016_cpptask_day04 for video 4122_posttest_day04-02182024112223 and scorer DLC_resnet50_ephys1_cpp2024Jul15shuffle1_200000.\n",
      "Filtering with median model Y:\\laura_berkowitz\\behavior_validation\\appps1_cpp\\data\\cohort6\\4123\\4123_cpptask_day04\\4123_baseline_day04-02182024090100.avi\n",
      "No unfiltered data file found in Y:\\laura_berkowitz\\behavior_validation\\appps1_cpp\\data\\cohort6\\4016\\4016_cpptask_day04 for video 4123_baseline_day04-02182024090100 and scorer DLC_resnet50_ephys1_cpp2024Jul15shuffle1_200000.\n",
      "Filtering with median model Y:\\laura_berkowitz\\behavior_validation\\appps1_cpp\\data\\cohort6\\4123\\4123_cpptask_day04\\4123_pairingA_day04-02182024092959.avi\n",
      "No unfiltered data file found in Y:\\laura_berkowitz\\behavior_validation\\appps1_cpp\\data\\cohort6\\4016\\4016_cpptask_day04 for video 4123_pairingA_day04-02182024092959 and scorer DLC_resnet50_ephys1_cpp2024Jul15shuffle1_200000.\n",
      "Filtering with median model Y:\\laura_berkowitz\\behavior_validation\\appps1_cpp\\data\\cohort6\\4123\\4123_cpptask_day04\\4123_pairingB_day04-02182024091753.avi\n",
      "No unfiltered data file found in Y:\\laura_berkowitz\\behavior_validation\\appps1_cpp\\data\\cohort6\\4016\\4016_cpptask_day04 for video 4123_pairingB_day04-02182024091753 and scorer DLC_resnet50_ephys1_cpp2024Jul15shuffle1_200000.\n",
      "Filtering with median model Y:\\laura_berkowitz\\behavior_validation\\appps1_cpp\\data\\cohort6\\4123\\4123_cpptask_day04\\4123_posttest_day04-02182024104026.avi\n",
      "No unfiltered data file found in Y:\\laura_berkowitz\\behavior_validation\\appps1_cpp\\data\\cohort6\\4016\\4016_cpptask_day04 for video 4123_posttest_day04-02182024104026 and scorer DLC_resnet50_ephys1_cpp2024Jul15shuffle1_200000.\n",
      "Filtering with median model Y:\\laura_berkowitz\\behavior_validation\\appps1_cpp\\data\\cohort6\\4129\\4129_cpptask_day04\\4129_baseline_day04-03082024084837.avi\n",
      "No unfiltered data file found in Y:\\laura_berkowitz\\behavior_validation\\appps1_cpp\\data\\cohort6\\4016\\4016_cpptask_day04 for video 4129_baseline_day04-03082024084837 and scorer DLC_resnet50_ephys1_cpp2024Jul15shuffle1_200000.\n",
      "Filtering with median model Y:\\laura_berkowitz\\behavior_validation\\appps1_cpp\\data\\cohort6\\4129\\4129_cpptask_day04\\4129_pairingA_day04-03082024093405.avi\n",
      "No unfiltered data file found in Y:\\laura_berkowitz\\behavior_validation\\appps1_cpp\\data\\cohort6\\4016\\4016_cpptask_day04 for video 4129_pairingA_day04-03082024093405 and scorer DLC_resnet50_ephys1_cpp2024Jul15shuffle1_200000.\n",
      "Filtering with median model Y:\\laura_berkowitz\\behavior_validation\\appps1_cpp\\data\\cohort6\\4129\\4129_cpptask_day04\\4129_pairingB_day04-03082024092059.avi\n",
      "No unfiltered data file found in Y:\\laura_berkowitz\\behavior_validation\\appps1_cpp\\data\\cohort6\\4016\\4016_cpptask_day04 for video 4129_pairingB_day04-03082024092059 and scorer DLC_resnet50_ephys1_cpp2024Jul15shuffle1_200000.\n",
      "Filtering with median model Y:\\laura_berkowitz\\behavior_validation\\appps1_cpp\\data\\cohort6\\4129\\4129_cpptask_day04\\4129_posttest_day04-03082024105055.avi\n",
      "No unfiltered data file found in Y:\\laura_berkowitz\\behavior_validation\\appps1_cpp\\data\\cohort6\\4016\\4016_cpptask_day04 for video 4129_posttest_day04-03082024105055 and scorer DLC_resnet50_ephys1_cpp2024Jul15shuffle1_200000.\n",
      "Filtering with median model Y:\\laura_berkowitz\\behavior_validation\\appps1_cpp\\data\\cohort6\\4130\\4130_cpptask_day04\\4130_baseline_day04-03082024094910.avi\n",
      "No unfiltered data file found in Y:\\laura_berkowitz\\behavior_validation\\appps1_cpp\\data\\cohort6\\4016\\4016_cpptask_day04 for video 4130_baseline_day04-03082024094910 and scorer DLC_resnet50_ephys1_cpp2024Jul15shuffle1_200000.\n",
      "Filtering with median model Y:\\laura_berkowitz\\behavior_validation\\appps1_cpp\\data\\cohort6\\4130\\4130_cpptask_day04\\4130_pairingA_day04-03082024101958.avi\n",
      "No unfiltered data file found in Y:\\laura_berkowitz\\behavior_validation\\appps1_cpp\\data\\cohort6\\4016\\4016_cpptask_day04 for video 4130_pairingA_day04-03082024101958 and scorer DLC_resnet50_ephys1_cpp2024Jul15shuffle1_200000.\n",
      "Filtering with median model Y:\\laura_berkowitz\\behavior_validation\\appps1_cpp\\data\\cohort6\\4130\\4130_cpptask_day04\\4130_pairingB_day04-03082024100636.avi\n",
      "No unfiltered data file found in Y:\\laura_berkowitz\\behavior_validation\\appps1_cpp\\data\\cohort6\\4016\\4016_cpptask_day04 for video 4130_pairingB_day04-03082024100636 and scorer DLC_resnet50_ephys1_cpp2024Jul15shuffle1_200000.\n",
      "Filtering with median model Y:\\laura_berkowitz\\behavior_validation\\appps1_cpp\\data\\cohort6\\4130\\4130_cpptask_day04\\4130_posttest_day04-03082024113250.avi\n",
      "No unfiltered data file found in Y:\\laura_berkowitz\\behavior_validation\\appps1_cpp\\data\\cohort6\\4016\\4016_cpptask_day04 for video 4130_posttest_day04-03082024113250 and scorer DLC_resnet50_ephys1_cpp2024Jul15shuffle1_200000.\n",
      "Filtering with median model Y:\\laura_berkowitz\\behavior_validation\\appps1_cpp\\data\\cohort6\\4139\\4139_cpptask_day09\\4139_baseline_day09-03022024091942.avi\n",
      "No unfiltered data file found in Y:\\laura_berkowitz\\behavior_validation\\appps1_cpp\\data\\cohort6\\4016\\4016_cpptask_day04 for video 4139_baseline_day09-03022024091942 and scorer DLC_resnet50_ephys1_cpp2024Jul15shuffle1_200000.\n",
      "Filtering with median model Y:\\laura_berkowitz\\behavior_validation\\appps1_cpp\\data\\cohort6\\4139\\4139_cpptask_day09\\4139_cpptest_day09-03022024105625.avi\n",
      "No unfiltered data file found in Y:\\laura_berkowitz\\behavior_validation\\appps1_cpp\\data\\cohort6\\4016\\4016_cpptask_day04 for video 4139_cpptest_day09-03022024105625 and scorer DLC_resnet50_ephys1_cpp2024Jul15shuffle1_200000.\n",
      "Filtering with median model Y:\\laura_berkowitz\\behavior_validation\\appps1_cpp\\data\\cohort6\\4139\\4139_cpptask_day09\\4139_pairingA_day09-03022024093453.avi\n",
      "No unfiltered data file found in Y:\\laura_berkowitz\\behavior_validation\\appps1_cpp\\data\\cohort6\\4016\\4016_cpptask_day04 for video 4139_pairingA_day09-03022024093453 and scorer DLC_resnet50_ephys1_cpp2024Jul15shuffle1_200000.\n",
      "Filtering with median model Y:\\laura_berkowitz\\behavior_validation\\appps1_cpp\\data\\cohort6\\4139\\4139_cpptask_day09\\4139_pairingB_day09-03022024094649.avi\n",
      "No unfiltered data file found in Y:\\laura_berkowitz\\behavior_validation\\appps1_cpp\\data\\cohort6\\4016\\4016_cpptask_day04 for video 4139_pairingB_day09-03022024094649 and scorer DLC_resnet50_ephys1_cpp2024Jul15shuffle1_200000.\n",
      "Filtering with median model Y:\\laura_berkowitz\\behavior_validation\\appps1_cpp\\data\\cohort6\\4140\\4140_cpptask_day08\\4140_baseline_day08-03032024083712.avi\n",
      "No unfiltered data file found in Y:\\laura_berkowitz\\behavior_validation\\appps1_cpp\\data\\cohort6\\4016\\4016_cpptask_day04 for video 4140_baseline_day08-03032024083712 and scorer DLC_resnet50_ephys1_cpp2024Jul15shuffle1_200000.\n",
      "Filtering with median model Y:\\laura_berkowitz\\behavior_validation\\appps1_cpp\\data\\cohort6\\4140\\4140_cpptask_day08\\4140_pairingA_day08-03032024085455.avi\n",
      "No unfiltered data file found in Y:\\laura_berkowitz\\behavior_validation\\appps1_cpp\\data\\cohort6\\4016\\4016_cpptask_day04 for video 4140_pairingA_day08-03032024085455 and scorer DLC_resnet50_ephys1_cpp2024Jul15shuffle1_200000.\n",
      "Filtering with median model Y:\\laura_berkowitz\\behavior_validation\\appps1_cpp\\data\\cohort6\\4140\\4140_cpptask_day08\\4140_pairingB_day08-03032024090657.avi\n",
      "No unfiltered data file found in Y:\\laura_berkowitz\\behavior_validation\\appps1_cpp\\data\\cohort6\\4016\\4016_cpptask_day04 for video 4140_pairingB_day08-03032024090657 and scorer DLC_resnet50_ephys1_cpp2024Jul15shuffle1_200000.\n",
      "Filtering with median model Y:\\laura_berkowitz\\behavior_validation\\appps1_cpp\\data\\cohort6\\4140\\4140_cpptask_day08\\4140_posttest_day08-03032024101646.avi\n",
      "No unfiltered data file found in Y:\\laura_berkowitz\\behavior_validation\\appps1_cpp\\data\\cohort6\\4016\\4016_cpptask_day04 for video 4140_posttest_day08-03032024101646 and scorer DLC_resnet50_ephys1_cpp2024Jul15shuffle1_200000.\n",
      "Filtering with median model Y:\\laura_berkowitz\\behavior_validation\\appps1_cpp\\data\\cohort6\\4141\\4141_cpptask_day09\\4141_baseline_day09-03022024083456.avi\n",
      "No unfiltered data file found in Y:\\laura_berkowitz\\behavior_validation\\appps1_cpp\\data\\cohort6\\4016\\4016_cpptask_day04 for video 4141_baseline_day09-03022024083456 and scorer DLC_resnet50_ephys1_cpp2024Jul15shuffle1_200000.\n",
      "Filtering with median model Y:\\laura_berkowitz\\behavior_validation\\appps1_cpp\\data\\cohort6\\4141\\4141_cpptask_day09\\4141_cpptest_day09-03022024101529.avi\n",
      "No unfiltered data file found in Y:\\laura_berkowitz\\behavior_validation\\appps1_cpp\\data\\cohort6\\4016\\4016_cpptask_day04 for video 4141_cpptest_day09-03022024101529 and scorer DLC_resnet50_ephys1_cpp2024Jul15shuffle1_200000.\n",
      "Filtering with median model Y:\\laura_berkowitz\\behavior_validation\\appps1_cpp\\data\\cohort6\\4141\\4141_cpptask_day09\\4141_pairingA_day09-03022024090557.avi\n",
      "No unfiltered data file found in Y:\\laura_berkowitz\\behavior_validation\\appps1_cpp\\data\\cohort6\\4016\\4016_cpptask_day04 for video 4141_pairingA_day09-03022024090557 and scorer DLC_resnet50_ephys1_cpp2024Jul15shuffle1_200000.\n",
      "Filtering with median model Y:\\laura_berkowitz\\behavior_validation\\appps1_cpp\\data\\cohort6\\4141\\4141_cpptask_day09\\4141_pairingB_day09-03022024085417.avi\n",
      "No unfiltered data file found in Y:\\laura_berkowitz\\behavior_validation\\appps1_cpp\\data\\cohort6\\4016\\4016_cpptask_day04 for video 4141_pairingB_day09-03022024085417 and scorer DLC_resnet50_ephys1_cpp2024Jul15shuffle1_200000.\n",
      "Filtering with median model Y:\\laura_berkowitz\\behavior_validation\\appps1_cpp\\data\\cohort6\\4142\\4142_cpptask_day08\\4142_baseline_day08-03032024091903.avi\n",
      "No unfiltered data file found in Y:\\laura_berkowitz\\behavior_validation\\appps1_cpp\\data\\cohort6\\4016\\4016_cpptask_day04 for video 4142_baseline_day08-03032024091903 and scorer DLC_resnet50_ephys1_cpp2024Jul15shuffle1_200000.\n",
      "Filtering with median model Y:\\laura_berkowitz\\behavior_validation\\appps1_cpp\\data\\cohort6\\4142\\4142_cpptask_day08\\4142_pairingA_day08-03032024094019.avi\n",
      "No unfiltered data file found in Y:\\laura_berkowitz\\behavior_validation\\appps1_cpp\\data\\cohort6\\4016\\4016_cpptask_day04 for video 4142_pairingA_day08-03032024094019 and scorer DLC_resnet50_ephys1_cpp2024Jul15shuffle1_200000.\n",
      "Filtering with median model Y:\\laura_berkowitz\\behavior_validation\\appps1_cpp\\data\\cohort6\\4142\\4142_cpptask_day08\\4142_pairingB_day08-03032024095211.avi\n",
      "No unfiltered data file found in Y:\\laura_berkowitz\\behavior_validation\\appps1_cpp\\data\\cohort6\\4016\\4016_cpptask_day04 for video 4142_pairingB_day08-03032024095211 and scorer DLC_resnet50_ephys1_cpp2024Jul15shuffle1_200000.\n",
      "Filtering with median model Y:\\laura_berkowitz\\behavior_validation\\appps1_cpp\\data\\cohort6\\4142\\4142_cpptask_day08\\4142_posttest_day08-03032024110155.avi\n",
      "No unfiltered data file found in Y:\\laura_berkowitz\\behavior_validation\\appps1_cpp\\data\\cohort6\\4016\\4016_cpptask_day04 for video 4142_posttest_day08-03032024110155 and scorer DLC_resnet50_ephys1_cpp2024Jul15shuffle1_200000.\n",
      "Filtering with median model Y:\\laura_berkowitz\\behavior_validation\\appps1_cpp\\data\\cohort6\\4220\\4220_cpptask_day04\\4220_baseline_day04-03122024080054.avi\n",
      "No unfiltered data file found in Y:\\laura_berkowitz\\behavior_validation\\appps1_cpp\\data\\cohort6\\4016\\4016_cpptask_day04 for video 4220_baseline_day04-03122024080054 and scorer DLC_resnet50_ephys1_cpp2024Jul15shuffle1_200000.\n",
      "Filtering with median model Y:\\laura_berkowitz\\behavior_validation\\appps1_cpp\\data\\cohort6\\4220\\4220_cpptask_day04\\4220_cpptest_day04-03122024094303.avi\n",
      "No unfiltered data file found in Y:\\laura_berkowitz\\behavior_validation\\appps1_cpp\\data\\cohort6\\4016\\4016_cpptask_day04 for video 4220_cpptest_day04-03122024094303 and scorer DLC_resnet50_ephys1_cpp2024Jul15shuffle1_200000.\n",
      "Filtering with median model Y:\\laura_berkowitz\\behavior_validation\\appps1_cpp\\data\\cohort6\\4220\\4220_cpptask_day04\\4220_pairingA_day04-03122024081623.avi\n",
      "No unfiltered data file found in Y:\\laura_berkowitz\\behavior_validation\\appps1_cpp\\data\\cohort6\\4016\\4016_cpptask_day04 for video 4220_pairingA_day04-03122024081623 and scorer DLC_resnet50_ephys1_cpp2024Jul15shuffle1_200000.\n",
      "Filtering with median model Y:\\laura_berkowitz\\behavior_validation\\appps1_cpp\\data\\cohort6\\4220\\4220_cpptask_day04\\4220_pairingB_day04-03122024082935.avi\n",
      "No unfiltered data file found in Y:\\laura_berkowitz\\behavior_validation\\appps1_cpp\\data\\cohort6\\4016\\4016_cpptask_day04 for video 4220_pairingB_day04-03122024082935 and scorer DLC_resnet50_ephys1_cpp2024Jul15shuffle1_200000.\n",
      "Filtering with median model Y:\\laura_berkowitz\\behavior_validation\\appps1_cpp\\data\\cohort6\\4221\\4221_cpptask_day04\\baseline_4221_L_day04-03112024092439.avi\n",
      "No unfiltered data file found in Y:\\laura_berkowitz\\behavior_validation\\appps1_cpp\\data\\cohort6\\4016\\4016_cpptask_day04 for video baseline_4221_L_day04-03112024092439 and scorer DLC_resnet50_ephys1_cpp2024Jul15shuffle1_200000.\n",
      "Filtering with median model Y:\\laura_berkowitz\\behavior_validation\\appps1_cpp\\data\\cohort6\\4221\\4221_cpptask_day04\\pairingA_4221_L_day04-03112024094224.avi\n",
      "No unfiltered data file found in Y:\\laura_berkowitz\\behavior_validation\\appps1_cpp\\data\\cohort6\\4016\\4016_cpptask_day04 for video pairingA_4221_L_day04-03112024094224 and scorer DLC_resnet50_ephys1_cpp2024Jul15shuffle1_200000.\n",
      "Filtering with median model Y:\\laura_berkowitz\\behavior_validation\\appps1_cpp\\data\\cohort6\\4221\\4221_cpptask_day04\\pairingB_4221_L_day04-03112024095541.avi\n",
      "No unfiltered data file found in Y:\\laura_berkowitz\\behavior_validation\\appps1_cpp\\data\\cohort6\\4016\\4016_cpptask_day04 for video pairingB_4221_L_day04-03112024095541 and scorer DLC_resnet50_ephys1_cpp2024Jul15shuffle1_200000.\n",
      "Filtering with median model Y:\\laura_berkowitz\\behavior_validation\\appps1_cpp\\data\\cohort6\\4221\\4221_cpptask_day04\\posttest_4221_L_day04-03112024111339.avi\n",
      "No unfiltered data file found in Y:\\laura_berkowitz\\behavior_validation\\appps1_cpp\\data\\cohort6\\4016\\4016_cpptask_day04 for video posttest_4221_L_day04-03112024111339 and scorer DLC_resnet50_ephys1_cpp2024Jul15shuffle1_200000.\n",
      "Filtering with median model Y:\\laura_berkowitz\\behavior_validation\\appps1_cpp\\data\\cohort6\\4222\\4222_cpptask_day04\\4222_baseline_day04-03122024090014.avi\n",
      "No unfiltered data file found in Y:\\laura_berkowitz\\behavior_validation\\appps1_cpp\\data\\cohort6\\4016\\4016_cpptask_day04 for video 4222_baseline_day04-03122024090014 and scorer DLC_resnet50_ephys1_cpp2024Jul15shuffle1_200000.\n",
      "Filtering with median model Y:\\laura_berkowitz\\behavior_validation\\appps1_cpp\\data\\cohort6\\4222\\4222_cpptask_day04\\4222_pairingA_day04-03122024092930.avi\n",
      "No unfiltered data file found in Y:\\laura_berkowitz\\behavior_validation\\appps1_cpp\\data\\cohort6\\4016\\4016_cpptask_day04 for video 4222_pairingA_day04-03122024092930 and scorer DLC_resnet50_ephys1_cpp2024Jul15shuffle1_200000.\n",
      "Filtering with median model Y:\\laura_berkowitz\\behavior_validation\\appps1_cpp\\data\\cohort6\\4222\\4222_cpptask_day04\\4222_pairingB_day04-03122024091629.avi\n",
      "No unfiltered data file found in Y:\\laura_berkowitz\\behavior_validation\\appps1_cpp\\data\\cohort6\\4016\\4016_cpptask_day04 for video 4222_pairingB_day04-03122024091629 and scorer DLC_resnet50_ephys1_cpp2024Jul15shuffle1_200000.\n",
      "Filtering with median model Y:\\laura_berkowitz\\behavior_validation\\appps1_cpp\\data\\cohort6\\4223\\4223_cpptask_day04\\baseline_4223_B_day04-03112024083835.avi\n",
      "No unfiltered data file found in Y:\\laura_berkowitz\\behavior_validation\\appps1_cpp\\data\\cohort6\\4016\\4016_cpptask_day04 for video baseline_4223_B_day04-03112024083835 and scorer DLC_resnet50_ephys1_cpp2024Jul15shuffle1_200000.\n",
      "Filtering with median model Y:\\laura_berkowitz\\behavior_validation\\appps1_cpp\\data\\cohort6\\4223\\4223_cpptask_day04\\pairingA_4223_B_day04-03112024091023.avi\n",
      "No unfiltered data file found in Y:\\laura_berkowitz\\behavior_validation\\appps1_cpp\\data\\cohort6\\4016\\4016_cpptask_day04 for video pairingA_4223_B_day04-03112024091023 and scorer DLC_resnet50_ephys1_cpp2024Jul15shuffle1_200000.\n",
      "Filtering with median model Y:\\laura_berkowitz\\behavior_validation\\appps1_cpp\\data\\cohort6\\4223\\4223_cpptask_day04\\pairingB_4223_B_day04-03112024085641.avi\n",
      "No unfiltered data file found in Y:\\laura_berkowitz\\behavior_validation\\appps1_cpp\\data\\cohort6\\4016\\4016_cpptask_day04 for video pairingB_4223_B_day04-03112024085641 and scorer DLC_resnet50_ephys1_cpp2024Jul15shuffle1_200000.\n",
      "Filtering with median model Y:\\laura_berkowitz\\behavior_validation\\appps1_cpp\\data\\cohort6\\4223\\4223_cpptask_day04\\posttest_4223_B_day04-03112024102313.avi\n",
      "No unfiltered data file found in Y:\\laura_berkowitz\\behavior_validation\\appps1_cpp\\data\\cohort6\\4016\\4016_cpptask_day04 for video posttest_4223_B_day04-03112024102313 and scorer DLC_resnet50_ephys1_cpp2024Jul15shuffle1_200000.\n"
     ]
    }
   ],
   "source": [
    "config_path = r\"Y:\\laura_berkowitz\\dlc_models\\ephys1_cpp2024-berkowitz-2024-07-15\\config.yaml\"\n",
    "\n",
    "deeplabcut.analyze_videos(config_path, video_files, videotype='avi', shuffle=1, trainingsetindex=0, save_as_csv=True)\n",
    "\n",
    "deeplabcut.filterpredictions(config_path, video_files)\n"
   ]
  },
  {
   "cell_type": "code",
   "execution_count": 1,
   "metadata": {},
   "outputs": [
    {
     "ename": "UnicodeDecodeError",
     "evalue": "'utf-8' codec can't decode byte 0x92 in position 16736: invalid start byte",
     "output_type": "error",
     "traceback": [
      "\u001b[1;31m---------------------------------------------------------------------------\u001b[0m",
      "\u001b[1;31mUnicodeDecodeError\u001b[0m                        Traceback (most recent call last)",
      "Cell \u001b[1;32mIn[1], line 3\u001b[0m\n\u001b[0;32m      1\u001b[0m \u001b[38;5;66;03m#load the dataframe \u001b[39;00m\n\u001b[0;32m      2\u001b[0m \u001b[38;5;28;01mimport\u001b[39;00m \u001b[38;5;21;01mpandas\u001b[39;00m \u001b[38;5;28;01mas\u001b[39;00m \u001b[38;5;21;01mpd\u001b[39;00m \n\u001b[1;32m----> 3\u001b[0m df \u001b[38;5;241m=\u001b[39m \u001b[43mpd\u001b[49m\u001b[38;5;241;43m.\u001b[39;49m\u001b[43mread_csv\u001b[49m\u001b[43m(\u001b[49m\u001b[38;5;124;43mr\u001b[39;49m\u001b[38;5;124;43m'\u001b[39;49m\u001b[38;5;124;43mY:\u001b[39;49m\u001b[38;5;124;43m\\\u001b[39;49m\u001b[38;5;124;43mlaura_berkowitz\u001b[39;49m\u001b[38;5;124;43m\\\u001b[39;49m\u001b[38;5;124;43mapp_ps1_ephys\u001b[39;49m\u001b[38;5;124;43m\\\u001b[39;49m\u001b[38;5;124;43mDLC_status_sessions.csv\u001b[39;49m\u001b[38;5;124;43m'\u001b[39;49m\u001b[43m)\u001b[49m\n\u001b[0;32m      4\u001b[0m df\n\u001b[0;32m      5\u001b[0m \u001b[38;5;66;03m# # use os.path.normpath to fix filesep differences within df.basepath \u001b[39;00m\n\u001b[0;32m      6\u001b[0m \u001b[38;5;66;03m# df.basepath=df.basepath.apply(lambda x: os.path.normpath(x))\u001b[39;00m\n\u001b[0;32m      7\u001b[0m \u001b[38;5;66;03m# df.basepath\u001b[39;00m\n",
      "File \u001b[1;32mc:\\Users\\schafferlab\\anaconda3\\envs\\appps1_analysis\\lib\\site-packages\\pandas\\io\\parsers\\readers.py:1026\u001b[0m, in \u001b[0;36mread_csv\u001b[1;34m(filepath_or_buffer, sep, delimiter, header, names, index_col, usecols, dtype, engine, converters, true_values, false_values, skipinitialspace, skiprows, skipfooter, nrows, na_values, keep_default_na, na_filter, verbose, skip_blank_lines, parse_dates, infer_datetime_format, keep_date_col, date_parser, date_format, dayfirst, cache_dates, iterator, chunksize, compression, thousands, decimal, lineterminator, quotechar, quoting, doublequote, escapechar, comment, encoding, encoding_errors, dialect, on_bad_lines, delim_whitespace, low_memory, memory_map, float_precision, storage_options, dtype_backend)\u001b[0m\n\u001b[0;32m   1013\u001b[0m kwds_defaults \u001b[38;5;241m=\u001b[39m _refine_defaults_read(\n\u001b[0;32m   1014\u001b[0m     dialect,\n\u001b[0;32m   1015\u001b[0m     delimiter,\n\u001b[1;32m   (...)\u001b[0m\n\u001b[0;32m   1022\u001b[0m     dtype_backend\u001b[38;5;241m=\u001b[39mdtype_backend,\n\u001b[0;32m   1023\u001b[0m )\n\u001b[0;32m   1024\u001b[0m kwds\u001b[38;5;241m.\u001b[39mupdate(kwds_defaults)\n\u001b[1;32m-> 1026\u001b[0m \u001b[38;5;28;01mreturn\u001b[39;00m \u001b[43m_read\u001b[49m\u001b[43m(\u001b[49m\u001b[43mfilepath_or_buffer\u001b[49m\u001b[43m,\u001b[49m\u001b[43m \u001b[49m\u001b[43mkwds\u001b[49m\u001b[43m)\u001b[49m\n",
      "File \u001b[1;32mc:\\Users\\schafferlab\\anaconda3\\envs\\appps1_analysis\\lib\\site-packages\\pandas\\io\\parsers\\readers.py:620\u001b[0m, in \u001b[0;36m_read\u001b[1;34m(filepath_or_buffer, kwds)\u001b[0m\n\u001b[0;32m    617\u001b[0m _validate_names(kwds\u001b[38;5;241m.\u001b[39mget(\u001b[38;5;124m\"\u001b[39m\u001b[38;5;124mnames\u001b[39m\u001b[38;5;124m\"\u001b[39m, \u001b[38;5;28;01mNone\u001b[39;00m))\n\u001b[0;32m    619\u001b[0m \u001b[38;5;66;03m# Create the parser.\u001b[39;00m\n\u001b[1;32m--> 620\u001b[0m parser \u001b[38;5;241m=\u001b[39m TextFileReader(filepath_or_buffer, \u001b[38;5;241m*\u001b[39m\u001b[38;5;241m*\u001b[39mkwds)\n\u001b[0;32m    622\u001b[0m \u001b[38;5;28;01mif\u001b[39;00m chunksize \u001b[38;5;129;01mor\u001b[39;00m iterator:\n\u001b[0;32m    623\u001b[0m     \u001b[38;5;28;01mreturn\u001b[39;00m parser\n",
      "File \u001b[1;32mc:\\Users\\schafferlab\\anaconda3\\envs\\appps1_analysis\\lib\\site-packages\\pandas\\io\\parsers\\readers.py:1620\u001b[0m, in \u001b[0;36mTextFileReader.__init__\u001b[1;34m(self, f, engine, **kwds)\u001b[0m\n\u001b[0;32m   1617\u001b[0m     \u001b[38;5;28mself\u001b[39m\u001b[38;5;241m.\u001b[39moptions[\u001b[38;5;124m\"\u001b[39m\u001b[38;5;124mhas_index_names\u001b[39m\u001b[38;5;124m\"\u001b[39m] \u001b[38;5;241m=\u001b[39m kwds[\u001b[38;5;124m\"\u001b[39m\u001b[38;5;124mhas_index_names\u001b[39m\u001b[38;5;124m\"\u001b[39m]\n\u001b[0;32m   1619\u001b[0m \u001b[38;5;28mself\u001b[39m\u001b[38;5;241m.\u001b[39mhandles: IOHandles \u001b[38;5;241m|\u001b[39m \u001b[38;5;28;01mNone\u001b[39;00m \u001b[38;5;241m=\u001b[39m \u001b[38;5;28;01mNone\u001b[39;00m\n\u001b[1;32m-> 1620\u001b[0m \u001b[38;5;28mself\u001b[39m\u001b[38;5;241m.\u001b[39m_engine \u001b[38;5;241m=\u001b[39m \u001b[38;5;28;43mself\u001b[39;49m\u001b[38;5;241;43m.\u001b[39;49m\u001b[43m_make_engine\u001b[49m\u001b[43m(\u001b[49m\u001b[43mf\u001b[49m\u001b[43m,\u001b[49m\u001b[43m \u001b[49m\u001b[38;5;28;43mself\u001b[39;49m\u001b[38;5;241;43m.\u001b[39;49m\u001b[43mengine\u001b[49m\u001b[43m)\u001b[49m\n",
      "File \u001b[1;32mc:\\Users\\schafferlab\\anaconda3\\envs\\appps1_analysis\\lib\\site-packages\\pandas\\io\\parsers\\readers.py:1898\u001b[0m, in \u001b[0;36mTextFileReader._make_engine\u001b[1;34m(self, f, engine)\u001b[0m\n\u001b[0;32m   1895\u001b[0m     \u001b[38;5;28;01mraise\u001b[39;00m \u001b[38;5;167;01mValueError\u001b[39;00m(msg)\n\u001b[0;32m   1897\u001b[0m \u001b[38;5;28;01mtry\u001b[39;00m:\n\u001b[1;32m-> 1898\u001b[0m     \u001b[38;5;28;01mreturn\u001b[39;00m mapping[engine](f, \u001b[38;5;241m*\u001b[39m\u001b[38;5;241m*\u001b[39m\u001b[38;5;28mself\u001b[39m\u001b[38;5;241m.\u001b[39moptions)\n\u001b[0;32m   1899\u001b[0m \u001b[38;5;28;01mexcept\u001b[39;00m \u001b[38;5;167;01mException\u001b[39;00m:\n\u001b[0;32m   1900\u001b[0m     \u001b[38;5;28;01mif\u001b[39;00m \u001b[38;5;28mself\u001b[39m\u001b[38;5;241m.\u001b[39mhandles \u001b[38;5;129;01mis\u001b[39;00m \u001b[38;5;129;01mnot\u001b[39;00m \u001b[38;5;28;01mNone\u001b[39;00m:\n",
      "File \u001b[1;32mc:\\Users\\schafferlab\\anaconda3\\envs\\appps1_analysis\\lib\\site-packages\\pandas\\io\\parsers\\c_parser_wrapper.py:93\u001b[0m, in \u001b[0;36mCParserWrapper.__init__\u001b[1;34m(self, src, **kwds)\u001b[0m\n\u001b[0;32m     90\u001b[0m \u001b[38;5;28;01mif\u001b[39;00m kwds[\u001b[38;5;124m\"\u001b[39m\u001b[38;5;124mdtype_backend\u001b[39m\u001b[38;5;124m\"\u001b[39m] \u001b[38;5;241m==\u001b[39m \u001b[38;5;124m\"\u001b[39m\u001b[38;5;124mpyarrow\u001b[39m\u001b[38;5;124m\"\u001b[39m:\n\u001b[0;32m     91\u001b[0m     \u001b[38;5;66;03m# Fail here loudly instead of in cython after reading\u001b[39;00m\n\u001b[0;32m     92\u001b[0m     import_optional_dependency(\u001b[38;5;124m\"\u001b[39m\u001b[38;5;124mpyarrow\u001b[39m\u001b[38;5;124m\"\u001b[39m)\n\u001b[1;32m---> 93\u001b[0m \u001b[38;5;28mself\u001b[39m\u001b[38;5;241m.\u001b[39m_reader \u001b[38;5;241m=\u001b[39m parsers\u001b[38;5;241m.\u001b[39mTextReader(src, \u001b[38;5;241m*\u001b[39m\u001b[38;5;241m*\u001b[39mkwds)\n\u001b[0;32m     95\u001b[0m \u001b[38;5;28mself\u001b[39m\u001b[38;5;241m.\u001b[39munnamed_cols \u001b[38;5;241m=\u001b[39m \u001b[38;5;28mself\u001b[39m\u001b[38;5;241m.\u001b[39m_reader\u001b[38;5;241m.\u001b[39munnamed_cols\n\u001b[0;32m     97\u001b[0m \u001b[38;5;66;03m# error: Cannot determine type of 'names'\u001b[39;00m\n",
      "File \u001b[1;32mparsers.pyx:574\u001b[0m, in \u001b[0;36mpandas._libs.parsers.TextReader.__cinit__\u001b[1;34m()\u001b[0m\n",
      "File \u001b[1;32mparsers.pyx:663\u001b[0m, in \u001b[0;36mpandas._libs.parsers.TextReader._get_header\u001b[1;34m()\u001b[0m\n",
      "File \u001b[1;32mparsers.pyx:874\u001b[0m, in \u001b[0;36mpandas._libs.parsers.TextReader._tokenize_rows\u001b[1;34m()\u001b[0m\n",
      "File \u001b[1;32mparsers.pyx:891\u001b[0m, in \u001b[0;36mpandas._libs.parsers.TextReader._check_tokenize_status\u001b[1;34m()\u001b[0m\n",
      "File \u001b[1;32mparsers.pyx:2053\u001b[0m, in \u001b[0;36mpandas._libs.parsers.raise_parser_error\u001b[1;34m()\u001b[0m\n",
      "\u001b[1;31mUnicodeDecodeError\u001b[0m: 'utf-8' codec can't decode byte 0x92 in position 16736: invalid start byte"
     ]
    }
   ],
   "source": [
    "#load the dataframe \n",
    "import pandas as pd \n",
    "df = pd.read_csv(r'Y:\\laura_berkowitz\\app_ps1_ephys\\DLC_status_sessions.csv')\n",
    "df\n",
    "# # use os.path.normpath to fix filesep differences within df.basepath \n",
    "# df.basepath=df.basepath.apply(lambda x: os.path.normpath(x))\n",
    "# df.basepath"
   ]
  },
  {
   "cell_type": "code",
   "execution_count": 7,
   "metadata": {},
   "outputs": [
    {
     "ename": "NameError",
     "evalue": "name 'df' is not defined",
     "output_type": "error",
     "traceback": [
      "\u001b[1;31m---------------------------------------------------------------------------\u001b[0m",
      "\u001b[1;31mNameError\u001b[0m                                 Traceback (most recent call last)",
      "\u001b[1;32mC:\\Users\\SCHAFF~1\\AppData\\Local\\Temp/ipykernel_1784/1271205133.py\u001b[0m in \u001b[0;36m<module>\u001b[1;34m\u001b[0m\n\u001b[0;32m      1\u001b[0m \u001b[1;31m#iterate through all the DLC models\u001b[0m\u001b[1;33m\u001b[0m\u001b[1;33m\u001b[0m\u001b[1;33m\u001b[0m\u001b[0m\n\u001b[1;32m----> 2\u001b[1;33m \u001b[0mdlc_models\u001b[0m\u001b[1;33m=\u001b[0m \u001b[0mdf\u001b[0m\u001b[1;33m[\u001b[0m\u001b[1;34m'dlc_model'\u001b[0m\u001b[1;33m]\u001b[0m\u001b[1;33m.\u001b[0m\u001b[0munique\u001b[0m\u001b[1;33m(\u001b[0m\u001b[1;33m)\u001b[0m\u001b[1;33m\u001b[0m\u001b[1;33m\u001b[0m\u001b[0m\n\u001b[0m\u001b[0;32m      3\u001b[0m \u001b[0mprint\u001b[0m\u001b[1;33m(\u001b[0m\u001b[0mdlc_models\u001b[0m\u001b[1;33m)\u001b[0m\u001b[1;33m\u001b[0m\u001b[1;33m\u001b[0m\u001b[0m\n",
      "\u001b[1;31mNameError\u001b[0m: name 'df' is not defined"
     ]
    }
   ],
   "source": [
    "\n",
    "#iterate through all the DLC models\n",
    "dlc_models= df['dlc_model'].unique()\n",
    "print(dlc_models)"
   ]
  },
  {
   "cell_type": "code",
   "execution_count": 10,
   "metadata": {},
   "outputs": [
    {
     "ename": "NameError",
     "evalue": "name 'dlc_models' is not defined",
     "output_type": "error",
     "traceback": [
      "\u001b[1;31m---------------------------------------------------------------------------\u001b[0m",
      "\u001b[1;31mNameError\u001b[0m                                 Traceback (most recent call last)",
      "\u001b[1;32mC:\\Users\\SCHAFF~1\\AppData\\Local\\Temp/ipykernel_1784/2816521941.py\u001b[0m in \u001b[0;36m<module>\u001b[1;34m\u001b[0m\n\u001b[0;32m      2\u001b[0m \u001b[1;33m\u001b[0m\u001b[0m\n\u001b[0;32m      3\u001b[0m \u001b[1;33m\u001b[0m\u001b[0m\n\u001b[1;32m----> 4\u001b[1;33m \u001b[1;32mfor\u001b[0m \u001b[0mmodel\u001b[0m \u001b[1;32min\u001b[0m \u001b[0mdlc_models\u001b[0m\u001b[1;33m:\u001b[0m\u001b[1;33m\u001b[0m\u001b[1;33m\u001b[0m\u001b[0m\n\u001b[0m\u001b[0;32m      5\u001b[0m \u001b[1;33m\u001b[0m\u001b[0m\n\u001b[0;32m      6\u001b[0m     \u001b[1;32mif\u001b[0m \u001b[0mmodel\u001b[0m\u001b[1;33m==\u001b[0m\u001b[1;34m'none'\u001b[0m\u001b[1;33m:\u001b[0m\u001b[1;33m\u001b[0m\u001b[1;33m\u001b[0m\u001b[0m\n",
      "\u001b[1;31mNameError\u001b[0m: name 'dlc_models' is not defined"
     ]
    }
   ],
   "source": [
    "base_config_dir= r\"Y:\\laura_berkowitz\\dlc_models\"\n",
    "\n",
    "\n",
    "for model in dlc_models:\n",
    "\n",
    "    if model=='none':\n",
    "        continue \n",
    "    print('running videos for model:', model)\n",
    "\n",
    "    temp_df=df[(df['dlc_model']== model) & (df['DLC_flag']==False)]\n",
    "    config_path = os.path.join(base_config_dir, model, 'config.yaml')\n",
    "\n",
    "    #in temp df need to join basepath and filename and add .avi to filename \n",
    "    temp_df['video_path']= temp_df['basepath'] + '\\\\' + temp_df['file_name'] + '.avi'\n",
    "\n",
    "    # make a list of video file paths from video_path column\n",
    "    # video_files = list\n",
    "    video_files= temp_df['video_path'].tolist()\n",
    "\n",
    "    deeplabcut.analyze_videos(config_path, video_files, videotype='avi', shuffle=1, trainingsetindex=0, save_as_csv=True)\n",
    "    deeplabcut.filterpredictions(config_path, video_files)\n",
    "\n",
    "    # update the dlc flag to true\n",
    "    temp_df=temp_df=df[(df['dlc_model']== model) & (df['DLC_flag']==True)]\n",
    "# save the updated df \n",
    "# df.to_csv(r\"Y:\\laura_berkowitz\\app_ps1_ephys\\DLC_status_sessions.csv\", index=False)"
   ]
  },
  {
   "cell_type": "code",
   "execution_count": null,
   "metadata": {},
   "outputs": [],
   "source": [
    "for base_paths in df['basepath'].unique():\n",
    "        video_files= glob.glob(base_paths + '*.avi', recursive=False)\n",
    "        for video in video_files:\n",
    "            if any(param in video for param in required_params):\n",
    "                video_files.append(video)"
   ]
  }
 ],
 "metadata": {
  "kernelspec": {
   "display_name": "appps1_analysis",
   "language": "python",
   "name": "python3"
  },
  "language_info": {
   "codemirror_mode": {
    "name": "ipython",
    "version": 3
   },
   "file_extension": ".py",
   "mimetype": "text/x-python",
   "name": "python",
   "nbconvert_exporter": "python",
   "pygments_lexer": "ipython3",
   "version": "3.9.18"
  }
 },
 "nbformat": 4,
 "nbformat_minor": 2
}
