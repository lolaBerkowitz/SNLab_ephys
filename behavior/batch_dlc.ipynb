{
 "cells": [
  {
   "cell_type": "code",
   "execution_count": 5,
   "metadata": {},
   "outputs": [],
   "source": [
    "import deeplabcut\n",
    "import glob\n",
    "import os\n",
    "import pandas as pd"
   ]
  },
  {
   "cell_type": "markdown",
   "metadata": {},
   "source": [
    "## Paths to DLC configs on the SNLab server3"
   ]
  },
  {
   "cell_type": "code",
   "execution_count": 36,
   "metadata": {},
   "outputs": [],
   "source": [
    "# get folders containing config.yaml \n",
    "config_paths = glob.glob('Y:/laura_berkowitz/dlc_models/**/*config.yaml')\n",
    "\n",
    "dlc_model_df = pd.DataFrame(columns=['config_path'])\n",
    "dlc_model_df['config_path'] = config_paths"
   ]
  },
  {
   "cell_type": "markdown",
   "metadata": {},
   "source": [
    "### Load dataframe of video files to run \n",
    "\n",
    "Expects a csv with file_name, basepath, dlc_model \n"
   ]
  },
  {
   "cell_type": "code",
   "execution_count": 16,
   "metadata": {},
   "outputs": [],
   "source": [
    "dlc_videos = pd.read_csv('Y:/laura_berkowitz/app_ps1_ephys/DLC_status_sessions.csv')   "
   ]
  },
  {
   "cell_type": "markdown",
   "metadata": {},
   "source": [
    "### get a path to all videos and grab the dlc config\n",
    "\n",
    "* set dlc_model as a string variable of the DLC model name (will be the DLC main folder name and the name indicated on the dlc_videos dataframe)"
   ]
  },
  {
   "cell_type": "code",
   "execution_count": 46,
   "metadata": {},
   "outputs": [],
   "source": [
    "## restrict to the video files you want to analyze\n",
    "dlc_model = '30cm_open_field-berkowitz-2022-07-14'\n",
    "dlc_run = dlc_videos.loc[(dlc_videos['DLC_flag'] == False) & (dlc_videos['dlc_model'].str.contains(dlc_model)),:].copy()   \n",
    "\n",
    "video_files = []\n",
    "for file,basepath in zip(dlc_run.file_name,dlc_run.basepath):\n",
    "    # append .avi to the file name\n",
    "    file_name = file + '.avi'\n",
    "    # get the folder name\n",
    "    video_files.append(os.path.normpath(os.path.join(basepath,file_name)))\n",
    "\n",
    "video_files\n",
    "config = os.path.normpath(config_paths[dlc_model in config_paths])"
   ]
  },
  {
   "cell_type": "markdown",
   "metadata": {},
   "source": [
    "### Analyze the video_files (list of video paths to analyze) and the config (path to the config file for DLC model)"
   ]
  },
  {
   "cell_type": "code",
   "execution_count": 47,
   "metadata": {},
   "outputs": [
    {
     "name": "stdout",
     "output_type": "stream",
     "text": [
      "Using snapshot-250000 for model Y:\\laura_berkowitz\\dlc_models\\30cm_open_field-berkowitz-2022-07-14\\dlc-models\\iteration-0\\30cm_open_fieldJul14-trainset95shuffle1\n"
     ]
    },
    {
     "name": "stderr",
     "output_type": "stream",
     "text": [
      "c:\\Users\\schafferlab\\anaconda3\\envs\\DLC-GPU\\lib\\site-packages\\tensorflow\\python\\keras\\engine\\base_layer_v1.py:1694: UserWarning: `layer.apply` is deprecated and will be removed in a future version. Please use `layer.__call__` method instead.\n",
      "  warnings.warn('`layer.apply` is deprecated and '\n"
     ]
    },
    {
     "name": "stdout",
     "output_type": "stream",
     "text": [
      "Starting to analyze %  Y:\\laura_berkowitz\\app_ps1_ephys\\data\\hpc11\\hpc11_day16_221027_100515\\hpc11_circularTrack_day16-10272022144405.avi\n",
      "Loading  Y:\\laura_berkowitz\\app_ps1_ephys\\data\\hpc11\\hpc11_day16_221027_100515\\hpc11_circularTrack_day16-10272022144405.avi\n",
      "Duration of video [s]:  1578.33 , recorded with  60.0 fps!\n",
      "Overall # of frames:  94700  found with (before cropping) frame dimensions:  1440 1080\n",
      "Starting to extract posture\n"
     ]
    },
    {
     "name": "stderr",
     "output_type": "stream",
     "text": [
      "100%|██████████| 94700/94700 [3:51:23<00:00,  6.82it/s]  \n"
     ]
    },
    {
     "name": "stdout",
     "output_type": "stream",
     "text": [
      "Saving results in Y:\\laura_berkowitz\\app_ps1_ephys\\data\\hpc11\\hpc11_day16_221027_100515...\n",
      "Saving csv poses!\n",
      "Starting to analyze %  Y:\\laura_berkowitz\\app_ps1_ephys\\data\\hpc09\\hpc09_day43_220711_093702\\hpc09_OF_day43-07112022123018.avi\n",
      "Loading  Y:\\laura_berkowitz\\app_ps1_ephys\\data\\hpc09\\hpc09_day43_220711_093702\\hpc09_OF_day43-07112022123018.avi\n",
      "Duration of video [s]:  1065.08 , recorded with  60.0 fps!\n",
      "Overall # of frames:  63905  found with (before cropping) frame dimensions:  1440 1080\n",
      "Starting to extract posture\n"
     ]
    },
    {
     "name": "stderr",
     "output_type": "stream",
     "text": [
      "100%|█████████▉| 63900/63905 [3:52:02<00:01,  4.59it/s]  \n"
     ]
    },
    {
     "name": "stdout",
     "output_type": "stream",
     "text": [
      "Saving results in Y:\\laura_berkowitz\\app_ps1_ephys\\data\\hpc09\\hpc09_day43_220711_093702...\n",
      "Saving csv poses!\n",
      "Starting to analyze %  Y:\\laura_berkowitz\\app_ps1_ephys\\data\\hpc10\\hpc10_day41_220615_123134\\hpc10_OFhab_day15-05122022122730.avi\n",
      "Loading  Y:\\laura_berkowitz\\app_ps1_ephys\\data\\hpc10\\hpc10_day41_220615_123134\\hpc10_OFhab_day15-05122022122730.avi\n",
      "Duration of video [s]:  807.68 , recorded with  60.0 fps!\n",
      "Overall # of frames:  48461  found with (before cropping) frame dimensions:  1440 1080\n",
      "Starting to extract posture\n"
     ]
    },
    {
     "name": "stderr",
     "output_type": "stream",
     "text": [
      "100%|█████████▉| 48400/48461 [3:40:33<00:16,  3.66it/s]  \n"
     ]
    },
    {
     "name": "stdout",
     "output_type": "stream",
     "text": [
      "Saving results in Y:\\laura_berkowitz\\app_ps1_ephys\\data\\hpc10\\hpc10_day41_220615_123134...\n",
      "Saving csv poses!\n",
      "Starting to analyze %  Y:\\laura_berkowitz\\app_ps1_ephys\\data\\hpc11\\hpc11_day09_221018_094018\\hpc11_OF_day09-10182022123202.avi\n",
      "Loading  Y:\\laura_berkowitz\\app_ps1_ephys\\data\\hpc11\\hpc11_day09_221018_094018\\hpc11_OF_day09-10182022123202.avi\n",
      "Duration of video [s]:  2657.08 , recorded with  60.0 fps!\n",
      "Overall # of frames:  159425  found with (before cropping) frame dimensions:  1440 1080\n",
      "Starting to extract posture\n"
     ]
    },
    {
     "name": "stderr",
     "output_type": "stream",
     "text": [
      "100%|█████████▉| 159400/159425 [10:50:07<00:06,  4.09it/s] \n"
     ]
    },
    {
     "name": "stdout",
     "output_type": "stream",
     "text": [
      "Saving results in Y:\\laura_berkowitz\\app_ps1_ephys\\data\\hpc11\\hpc11_day09_221018_094018...\n",
      "Saving csv poses!\n",
      "Starting to analyze %  Y:\\laura_berkowitz\\app_ps1_ephys\\data\\hpc11\\hpc11_day20_221103_104043\\hpc11_OF_day20-11032022160731.avi\n",
      "Loading  Y:\\laura_berkowitz\\app_ps1_ephys\\data\\hpc11\\hpc11_day20_221103_104043\\hpc11_OF_day20-11032022160731.avi\n",
      "Duration of video [s]:  1345.58 , recorded with  60.0 fps!\n",
      "Overall # of frames:  80735  found with (before cropping) frame dimensions:  1440 1080\n",
      "Starting to extract posture\n"
     ]
    },
    {
     "name": "stderr",
     "output_type": "stream",
     "text": [
      "100%|█████████▉| 80700/80735 [3:39:56<00:05,  6.12it/s]  \n"
     ]
    },
    {
     "name": "stdout",
     "output_type": "stream",
     "text": [
      "Saving results in Y:\\laura_berkowitz\\app_ps1_ephys\\data\\hpc11\\hpc11_day20_221103_104043...\n",
      "Saving csv poses!\n",
      "Starting to analyze %  Y:\\laura_berkowitz\\app_ps1_ephys\\data\\hpc11\\hpc11_day26_221130_143642\\hpc11_OF_day26-11302022161838.avi\n",
      "Loading  Y:\\laura_berkowitz\\app_ps1_ephys\\data\\hpc11\\hpc11_day26_221130_143642\\hpc11_OF_day26-11302022161838.avi\n",
      "Duration of video [s]:  1508.12 , recorded with  60.0 fps!\n",
      "Overall # of frames:  90487  found with (before cropping) frame dimensions:  1440 1080\n",
      "Starting to extract posture\n"
     ]
    },
    {
     "name": "stderr",
     "output_type": "stream",
     "text": [
      "100%|█████████▉| 90400/90487 [2:21:14<00:08, 10.67it/s]  \n"
     ]
    },
    {
     "name": "stdout",
     "output_type": "stream",
     "text": [
      "Saving results in Y:\\laura_berkowitz\\app_ps1_ephys\\data\\hpc11\\hpc11_day26_221130_143642...\n",
      "Saving csv poses!\n",
      "Starting to analyze %  Y:\\laura_berkowitz\\app_ps1_ephys\\data\\hpc11\\hpc11_day28_221205_093423\\hpc11_OF_day28-12052022124208.avi\n",
      "Loading  Y:\\laura_berkowitz\\app_ps1_ephys\\data\\hpc11\\hpc11_day28_221205_093423\\hpc11_OF_day28-12052022124208.avi\n",
      "Duration of video [s]:  1400.92 , recorded with  60.0 fps!\n",
      "Overall # of frames:  84055  found with (before cropping) frame dimensions:  1440 1080\n",
      "Starting to extract posture\n"
     ]
    },
    {
     "name": "stderr",
     "output_type": "stream",
     "text": [
      "100%|█████████▉| 84000/84055 [2:11:21<00:05, 10.66it/s]  \n"
     ]
    },
    {
     "name": "stdout",
     "output_type": "stream",
     "text": [
      "Saving results in Y:\\laura_berkowitz\\app_ps1_ephys\\data\\hpc11\\hpc11_day28_221205_093423...\n",
      "Saving csv poses!\n",
      "The videos are analyzed. Now your research can truly start! \n",
      " You can create labeled videos with 'create_labeled_video'\n",
      "If the tracking is not satisfactory for some videos, consider expanding the training set. You can use the function 'extract_outlier_frames' to extract a few representative outlier frames.\n",
      "Filtering with median model Y:\\laura_berkowitz\\app_ps1_ephys\\data\\hpc11\\hpc11_day16_221027_100515\\hpc11_circularTrack_day16-10272022144405.avi\n",
      "Saving filtered csv poses!\n",
      "Filtering with median model Y:\\laura_berkowitz\\app_ps1_ephys\\data\\hpc09\\hpc09_day43_220711_093702\\hpc09_OF_day43-07112022123018.avi\n",
      "No unfiltered data file found in Y:\\laura_berkowitz\\app_ps1_ephys\\data\\hpc11\\hpc11_day16_221027_100515 for video hpc09_OF_day43-07112022123018 and scorer DLC_resnet50_30cm_open_fieldJul14shuffle1_250000.\n",
      "Filtering with median model Y:\\laura_berkowitz\\app_ps1_ephys\\data\\hpc10\\hpc10_day41_220615_123134\\hpc10_OFhab_day15-05122022122730.avi\n",
      "No unfiltered data file found in Y:\\laura_berkowitz\\app_ps1_ephys\\data\\hpc11\\hpc11_day16_221027_100515 for video hpc10_OFhab_day15-05122022122730 and scorer DLC_resnet50_30cm_open_fieldJul14shuffle1_250000.\n",
      "Filtering with median model Y:\\laura_berkowitz\\app_ps1_ephys\\data\\hpc11\\hpc11_day09_221018_094018\\hpc11_OF_day09-10182022123202.avi\n",
      "No unfiltered data file found in Y:\\laura_berkowitz\\app_ps1_ephys\\data\\hpc11\\hpc11_day16_221027_100515 for video hpc11_OF_day09-10182022123202 and scorer DLC_resnet50_30cm_open_fieldJul14shuffle1_250000.\n",
      "Filtering with median model Y:\\laura_berkowitz\\app_ps1_ephys\\data\\hpc11\\hpc11_day20_221103_104043\\hpc11_OF_day20-11032022160731.avi\n",
      "No unfiltered data file found in Y:\\laura_berkowitz\\app_ps1_ephys\\data\\hpc11\\hpc11_day16_221027_100515 for video hpc11_OF_day20-11032022160731 and scorer DLC_resnet50_30cm_open_fieldJul14shuffle1_250000.\n",
      "Filtering with median model Y:\\laura_berkowitz\\app_ps1_ephys\\data\\hpc11\\hpc11_day26_221130_143642\\hpc11_OF_day26-11302022161838.avi\n",
      "No unfiltered data file found in Y:\\laura_berkowitz\\app_ps1_ephys\\data\\hpc11\\hpc11_day16_221027_100515 for video hpc11_OF_day26-11302022161838 and scorer DLC_resnet50_30cm_open_fieldJul14shuffle1_250000.\n",
      "Filtering with median model Y:\\laura_berkowitz\\app_ps1_ephys\\data\\hpc11\\hpc11_day28_221205_093423\\hpc11_OF_day28-12052022124208.avi\n",
      "No unfiltered data file found in Y:\\laura_berkowitz\\app_ps1_ephys\\data\\hpc11\\hpc11_day16_221027_100515 for video hpc11_OF_day28-12052022124208 and scorer DLC_resnet50_30cm_open_fieldJul14shuffle1_250000.\n"
     ]
    }
   ],
   "source": [
    "# this line will analyze all the videos in the video_files list\n",
    "deeplabcut.analyze_videos(config, video_files, videotype='avi', shuffle=1, trainingsetindex=0, save_as_csv=True)\n",
    "\n",
    "# this line will filter the results \n",
    "deeplabcut.filterpredictions(config, video_files)"
   ]
  },
  {
   "cell_type": "markdown",
   "metadata": {},
   "source": [
    "## Alternative approach: for a data directory that can be run on the same DLC model"
   ]
  },
  {
   "cell_type": "markdown",
   "metadata": {},
   "source": [
    "### Set path to data directory and use glob to get paths to all video files "
   ]
  },
  {
   "cell_type": "code",
   "execution_count": 2,
   "metadata": {},
   "outputs": [
    {
     "data": {
      "text/plain": [
       "['Y:/laura_berkowitz/behavior_validation/appps1_cpp/data/cohort6\\\\4028\\\\4028_cpptask_day01\\\\4139_habituation_day1-02172024085051.avi',\n",
       " 'Y:/laura_berkowitz/behavior_validation/appps1_cpp/data/cohort6\\\\4122\\\\4122_cpptask_day01\\\\4122_habituation_day1-02152024094619.avi',\n",
       " 'Y:/laura_berkowitz/behavior_validation/appps1_cpp/data/cohort6\\\\4122\\\\4122_cpptask_day02\\\\4122_habituation_day02-02162024114946.avi',\n",
       " 'Y:/laura_berkowitz/behavior_validation/appps1_cpp/data/cohort6\\\\4122\\\\4122_cpptask_day03\\\\4122_habituation_day3-02172024081420.avi',\n",
       " 'Y:/laura_berkowitz/behavior_validation/appps1_cpp/data/cohort6\\\\4123\\\\4123_cpptask_day01\\\\4123_habituation_day1-02152024094017.avi',\n",
       " 'Y:/laura_berkowitz/behavior_validation/appps1_cpp/data/cohort6\\\\4123\\\\4123_cpptask_day02\\\\4123_habituation_day02-02162024113443.avi',\n",
       " 'Y:/laura_berkowitz/behavior_validation/appps1_cpp/data/cohort6\\\\4123\\\\4123_cpptask_day03\\\\4123_habituation_day3-02172024082158.avi',\n",
       " 'Y:/laura_berkowitz/behavior_validation/appps1_cpp/data/cohort6\\\\4124\\\\4124_cpptask_day01\\\\4124_habituation_day1-02152024095212.avi',\n",
       " 'Y:/laura_berkowitz/behavior_validation/appps1_cpp/data/cohort6\\\\4124\\\\4124_cpptask_day02\\\\4124_habituation_day02-02162024114249.avi',\n",
       " 'Y:/laura_berkowitz/behavior_validation/appps1_cpp/data/cohort6\\\\4124\\\\4124_cpptask_day03\\\\4124_habituation_day2-02172024082824.avi',\n",
       " 'Y:/laura_berkowitz/behavior_validation/appps1_cpp/data/cohort6\\\\4125\\\\4125_cpptask_day01\\\\4125_habituation_day1-02152024095740.avi',\n",
       " 'Y:/laura_berkowitz/behavior_validation/appps1_cpp/data/cohort6\\\\4125\\\\4125_cpptask_day02\\\\4125_habituation_day02-02162024112647.avi',\n",
       " 'Y:/laura_berkowitz/behavior_validation/appps1_cpp/data/cohort6\\\\4125\\\\4125_cpptask_day03\\\\4125_habituation_day2-02172024083454.avi',\n",
       " 'Y:/laura_berkowitz/behavior_validation/appps1_cpp/data/cohort6\\\\4139\\\\4139_cpptask_day01\\\\4139_habituation_day1-02172024085051.avi',\n",
       " 'Y:/laura_berkowitz/behavior_validation/appps1_cpp/data/cohort6\\\\4141\\\\4141_cpptask_day01\\\\4141_habituation_day1-02172024084226.avi']"
      ]
     },
     "execution_count": 2,
     "metadata": {},
     "output_type": "execute_result"
    }
   ],
   "source": [
    "\n",
    "# Data path \n",
    "data_path = r'Y:/laura_berkowitz/behavior_validation/appps1_cpp/data/cohort6'\n",
    "\n",
    "# use glob to find path to all .avi files \n",
    "video_files = glob.glob(data_path + '/**/*.avi', recursive=True)\n",
    "video_files"
   ]
  },
  {
   "cell_type": "markdown",
   "metadata": {},
   "source": [
    "### Set DLC config and analyze videos. If video is already run (H5 or CSV in folder, DLC will continue to next video)"
   ]
  },
  {
   "cell_type": "code",
   "execution_count": 4,
   "metadata": {},
   "outputs": [
    {
     "name": "stdout",
     "output_type": "stream",
     "text": [
      "Using snapshot-175000 for model D:\\DLC_analysis\\mouse_cpp-berkowitz-2023-06-28\\dlc-models\\iteration-0\\mouse_cppJun28-trainset95shuffle1\n"
     ]
    },
    {
     "name": "stderr",
     "output_type": "stream",
     "text": [
      "c:\\Users\\schafferlab\\anaconda3\\envs\\DLC-GPU\\lib\\site-packages\\tensorflow\\python\\keras\\engine\\base_layer_v1.py:1694: UserWarning: `layer.apply` is deprecated and will be removed in a future version. Please use `layer.__call__` method instead.\n",
      "  warnings.warn('`layer.apply` is deprecated and '\n"
     ]
    },
    {
     "name": "stdout",
     "output_type": "stream",
     "text": [
      "Starting to analyze %  Y:/laura_berkowitz/behavior_validation/appps1_cpp/data/cohort6\\4028\\4028_cpptask_day01\\4139_habituation_day1-02172024085051.avi\n",
      "Loading  Y:/laura_berkowitz/behavior_validation/appps1_cpp/data/cohort6\\4028\\4028_cpptask_day01\\4139_habituation_day1-02172024085051.avi\n",
      "Duration of video [s]:  332.47 , recorded with  30.0 fps!\n",
      "Overall # of frames:  9974  found with (before cropping) frame dimensions:  1440 1080\n",
      "Starting to extract posture\n"
     ]
    },
    {
     "name": "stderr",
     "output_type": "stream",
     "text": [
      " 99%|█████████▉| 9900/9974 [07:04<00:03, 23.31it/s]\n"
     ]
    },
    {
     "name": "stdout",
     "output_type": "stream",
     "text": [
      "Saving results in Y:\\laura_berkowitz\\behavior_validation\\appps1_cpp\\data\\cohort6\\4028\\4028_cpptask_day01...\n",
      "Saving csv poses!\n",
      "Starting to analyze %  Y:/laura_berkowitz/behavior_validation/appps1_cpp/data/cohort6\\4122\\4122_cpptask_day01\\4122_habituation_day1-02152024094619.avi\n",
      "Starting to analyze %  Y:/laura_berkowitz/behavior_validation/appps1_cpp/data/cohort6\\4122\\4122_cpptask_day02\\4122_habituation_day02-02162024114946.avi\n",
      "Starting to analyze %  Y:/laura_berkowitz/behavior_validation/appps1_cpp/data/cohort6\\4122\\4122_cpptask_day03\\4122_habituation_day3-02172024081420.avi\n",
      "Loading  Y:/laura_berkowitz/behavior_validation/appps1_cpp/data/cohort6\\4122\\4122_cpptask_day03\\4122_habituation_day3-02172024081420.avi\n",
      "Duration of video [s]:  332.53 , recorded with  30.0 fps!\n",
      "Overall # of frames:  9976  found with (before cropping) frame dimensions:  1440 1080\n",
      "Starting to extract posture\n"
     ]
    },
    {
     "name": "stderr",
     "output_type": "stream",
     "text": [
      " 99%|█████████▉| 9900/9976 [07:01<00:03, 23.51it/s]\n"
     ]
    },
    {
     "name": "stdout",
     "output_type": "stream",
     "text": [
      "Saving results in Y:\\laura_berkowitz\\behavior_validation\\appps1_cpp\\data\\cohort6\\4122\\4122_cpptask_day03...\n",
      "Saving csv poses!\n",
      "Starting to analyze %  Y:/laura_berkowitz/behavior_validation/appps1_cpp/data/cohort6\\4123\\4123_cpptask_day01\\4123_habituation_day1-02152024094017.avi\n",
      "Starting to analyze %  Y:/laura_berkowitz/behavior_validation/appps1_cpp/data/cohort6\\4123\\4123_cpptask_day02\\4123_habituation_day02-02162024113443.avi\n",
      "Starting to analyze %  Y:/laura_berkowitz/behavior_validation/appps1_cpp/data/cohort6\\4123\\4123_cpptask_day03\\4123_habituation_day3-02172024082158.avi\n",
      "Loading  Y:/laura_berkowitz/behavior_validation/appps1_cpp/data/cohort6\\4123\\4123_cpptask_day03\\4123_habituation_day3-02172024082158.avi\n",
      "Duration of video [s]:  322.8 , recorded with  30.0 fps!\n",
      "Overall # of frames:  9684  found with (before cropping) frame dimensions:  1440 1080\n",
      "Starting to extract posture\n"
     ]
    },
    {
     "name": "stderr",
     "output_type": "stream",
     "text": [
      " 99%|█████████▉| 9600/9684 [06:51<00:03, 23.34it/s]\n"
     ]
    },
    {
     "name": "stdout",
     "output_type": "stream",
     "text": [
      "Saving results in Y:\\laura_berkowitz\\behavior_validation\\appps1_cpp\\data\\cohort6\\4123\\4123_cpptask_day03...\n",
      "Saving csv poses!\n",
      "Starting to analyze %  Y:/laura_berkowitz/behavior_validation/appps1_cpp/data/cohort6\\4124\\4124_cpptask_day01\\4124_habituation_day1-02152024095212.avi\n",
      "Starting to analyze %  Y:/laura_berkowitz/behavior_validation/appps1_cpp/data/cohort6\\4124\\4124_cpptask_day02\\4124_habituation_day02-02162024114249.avi\n",
      "Starting to analyze %  Y:/laura_berkowitz/behavior_validation/appps1_cpp/data/cohort6\\4124\\4124_cpptask_day03\\4124_habituation_day2-02172024082824.avi\n",
      "Loading  Y:/laura_berkowitz/behavior_validation/appps1_cpp/data/cohort6\\4124\\4124_cpptask_day03\\4124_habituation_day2-02172024082824.avi\n",
      "Duration of video [s]:  325.7 , recorded with  30.0 fps!\n",
      "Overall # of frames:  9771  found with (before cropping) frame dimensions:  1440 1080\n",
      "Starting to extract posture\n"
     ]
    },
    {
     "name": "stderr",
     "output_type": "stream",
     "text": [
      " 99%|█████████▉| 9700/9771 [07:14<00:03, 22.34it/s]\n"
     ]
    },
    {
     "name": "stdout",
     "output_type": "stream",
     "text": [
      "Saving results in Y:\\laura_berkowitz\\behavior_validation\\appps1_cpp\\data\\cohort6\\4124\\4124_cpptask_day03...\n",
      "Saving csv poses!\n",
      "Starting to analyze %  Y:/laura_berkowitz/behavior_validation/appps1_cpp/data/cohort6\\4125\\4125_cpptask_day01\\4125_habituation_day1-02152024095740.avi\n",
      "Starting to analyze %  Y:/laura_berkowitz/behavior_validation/appps1_cpp/data/cohort6\\4125\\4125_cpptask_day02\\4125_habituation_day02-02162024112647.avi\n",
      "Starting to analyze %  Y:/laura_berkowitz/behavior_validation/appps1_cpp/data/cohort6\\4125\\4125_cpptask_day03\\4125_habituation_day2-02172024083454.avi\n",
      "Loading  Y:/laura_berkowitz/behavior_validation/appps1_cpp/data/cohort6\\4125\\4125_cpptask_day03\\4125_habituation_day2-02172024083454.avi\n",
      "Duration of video [s]:  344.07 , recorded with  30.0 fps!\n",
      "Overall # of frames:  10322  found with (before cropping) frame dimensions:  1440 1080\n",
      "Starting to extract posture\n"
     ]
    },
    {
     "name": "stderr",
     "output_type": "stream",
     "text": [
      "100%|█████████▉| 10300/10322 [07:32<00:00, 22.74it/s]\n"
     ]
    },
    {
     "name": "stdout",
     "output_type": "stream",
     "text": [
      "Saving results in Y:\\laura_berkowitz\\behavior_validation\\appps1_cpp\\data\\cohort6\\4125\\4125_cpptask_day03...\n",
      "Saving csv poses!\n",
      "Starting to analyze %  Y:/laura_berkowitz/behavior_validation/appps1_cpp/data/cohort6\\4139\\4139_cpptask_day01\\4139_habituation_day1-02172024085051.avi\n",
      "Loading  Y:/laura_berkowitz/behavior_validation/appps1_cpp/data/cohort6\\4139\\4139_cpptask_day01\\4139_habituation_day1-02172024085051.avi\n",
      "Duration of video [s]:  332.47 , recorded with  30.0 fps!\n",
      "Overall # of frames:  9974  found with (before cropping) frame dimensions:  1440 1080\n",
      "Starting to extract posture\n"
     ]
    },
    {
     "name": "stderr",
     "output_type": "stream",
     "text": [
      " 99%|█████████▉| 9900/9974 [07:18<00:03, 22.57it/s]\n"
     ]
    },
    {
     "name": "stdout",
     "output_type": "stream",
     "text": [
      "Saving results in Y:\\laura_berkowitz\\behavior_validation\\appps1_cpp\\data\\cohort6\\4139\\4139_cpptask_day01...\n",
      "Saving csv poses!\n",
      "Starting to analyze %  Y:/laura_berkowitz/behavior_validation/appps1_cpp/data/cohort6\\4141\\4141_cpptask_day01\\4141_habituation_day1-02172024084226.avi\n",
      "Loading  Y:/laura_berkowitz/behavior_validation/appps1_cpp/data/cohort6\\4141\\4141_cpptask_day01\\4141_habituation_day1-02172024084226.avi\n",
      "Duration of video [s]:  321.0 , recorded with  30.0 fps!\n",
      "Overall # of frames:  9630  found with (before cropping) frame dimensions:  1440 1080\n",
      "Starting to extract posture\n"
     ]
    },
    {
     "name": "stderr",
     "output_type": "stream",
     "text": [
      "100%|█████████▉| 9600/9630 [07:03<00:01, 22.65it/s]\n"
     ]
    },
    {
     "name": "stdout",
     "output_type": "stream",
     "text": [
      "Saving results in Y:\\laura_berkowitz\\behavior_validation\\appps1_cpp\\data\\cohort6\\4141\\4141_cpptask_day01...\n",
      "Saving csv poses!\n",
      "The videos are analyzed. Now your research can truly start! \n",
      " You can create labeled videos with 'create_labeled_video'\n",
      "If the tracking is not satisfactory for some videos, consider expanding the training set. You can use the function 'extract_outlier_frames' to extract a few representative outlier frames.\n",
      "Filtering with median model Y:/laura_berkowitz/behavior_validation/appps1_cpp/data/cohort6\\4028\\4028_cpptask_day01\\4139_habituation_day1-02172024085051.avi\n",
      "Saving filtered csv poses!\n",
      "Filtering with median model Y:/laura_berkowitz/behavior_validation/appps1_cpp/data/cohort6\\4122\\4122_cpptask_day01\\4122_habituation_day1-02152024094619.avi\n",
      "No unfiltered data file found in Y:\\laura_berkowitz\\behavior_validation\\appps1_cpp\\data\\cohort6\\4028\\4028_cpptask_day01 for video 4122_habituation_day1-02152024094619 and scorer DLC_resnet50_mouse_cppJun28shuffle1_175000.\n",
      "Filtering with median model Y:/laura_berkowitz/behavior_validation/appps1_cpp/data/cohort6\\4122\\4122_cpptask_day02\\4122_habituation_day02-02162024114946.avi\n",
      "No unfiltered data file found in Y:\\laura_berkowitz\\behavior_validation\\appps1_cpp\\data\\cohort6\\4028\\4028_cpptask_day01 for video 4122_habituation_day02-02162024114946 and scorer DLC_resnet50_mouse_cppJun28shuffle1_175000.\n",
      "Filtering with median model Y:/laura_berkowitz/behavior_validation/appps1_cpp/data/cohort6\\4122\\4122_cpptask_day03\\4122_habituation_day3-02172024081420.avi\n",
      "No unfiltered data file found in Y:\\laura_berkowitz\\behavior_validation\\appps1_cpp\\data\\cohort6\\4028\\4028_cpptask_day01 for video 4122_habituation_day3-02172024081420 and scorer DLC_resnet50_mouse_cppJun28shuffle1_175000.\n",
      "Filtering with median model Y:/laura_berkowitz/behavior_validation/appps1_cpp/data/cohort6\\4123\\4123_cpptask_day01\\4123_habituation_day1-02152024094017.avi\n",
      "No unfiltered data file found in Y:\\laura_berkowitz\\behavior_validation\\appps1_cpp\\data\\cohort6\\4028\\4028_cpptask_day01 for video 4123_habituation_day1-02152024094017 and scorer DLC_resnet50_mouse_cppJun28shuffle1_175000.\n",
      "Filtering with median model Y:/laura_berkowitz/behavior_validation/appps1_cpp/data/cohort6\\4123\\4123_cpptask_day02\\4123_habituation_day02-02162024113443.avi\n",
      "No unfiltered data file found in Y:\\laura_berkowitz\\behavior_validation\\appps1_cpp\\data\\cohort6\\4028\\4028_cpptask_day01 for video 4123_habituation_day02-02162024113443 and scorer DLC_resnet50_mouse_cppJun28shuffle1_175000.\n",
      "Filtering with median model Y:/laura_berkowitz/behavior_validation/appps1_cpp/data/cohort6\\4123\\4123_cpptask_day03\\4123_habituation_day3-02172024082158.avi\n",
      "No unfiltered data file found in Y:\\laura_berkowitz\\behavior_validation\\appps1_cpp\\data\\cohort6\\4028\\4028_cpptask_day01 for video 4123_habituation_day3-02172024082158 and scorer DLC_resnet50_mouse_cppJun28shuffle1_175000.\n",
      "Filtering with median model Y:/laura_berkowitz/behavior_validation/appps1_cpp/data/cohort6\\4124\\4124_cpptask_day01\\4124_habituation_day1-02152024095212.avi\n",
      "No unfiltered data file found in Y:\\laura_berkowitz\\behavior_validation\\appps1_cpp\\data\\cohort6\\4028\\4028_cpptask_day01 for video 4124_habituation_day1-02152024095212 and scorer DLC_resnet50_mouse_cppJun28shuffle1_175000.\n",
      "Filtering with median model Y:/laura_berkowitz/behavior_validation/appps1_cpp/data/cohort6\\4124\\4124_cpptask_day02\\4124_habituation_day02-02162024114249.avi\n",
      "No unfiltered data file found in Y:\\laura_berkowitz\\behavior_validation\\appps1_cpp\\data\\cohort6\\4028\\4028_cpptask_day01 for video 4124_habituation_day02-02162024114249 and scorer DLC_resnet50_mouse_cppJun28shuffle1_175000.\n",
      "Filtering with median model Y:/laura_berkowitz/behavior_validation/appps1_cpp/data/cohort6\\4124\\4124_cpptask_day03\\4124_habituation_day2-02172024082824.avi\n",
      "No unfiltered data file found in Y:\\laura_berkowitz\\behavior_validation\\appps1_cpp\\data\\cohort6\\4028\\4028_cpptask_day01 for video 4124_habituation_day2-02172024082824 and scorer DLC_resnet50_mouse_cppJun28shuffle1_175000.\n",
      "Filtering with median model Y:/laura_berkowitz/behavior_validation/appps1_cpp/data/cohort6\\4125\\4125_cpptask_day01\\4125_habituation_day1-02152024095740.avi\n",
      "No unfiltered data file found in Y:\\laura_berkowitz\\behavior_validation\\appps1_cpp\\data\\cohort6\\4028\\4028_cpptask_day01 for video 4125_habituation_day1-02152024095740 and scorer DLC_resnet50_mouse_cppJun28shuffle1_175000.\n",
      "Filtering with median model Y:/laura_berkowitz/behavior_validation/appps1_cpp/data/cohort6\\4125\\4125_cpptask_day02\\4125_habituation_day02-02162024112647.avi\n",
      "No unfiltered data file found in Y:\\laura_berkowitz\\behavior_validation\\appps1_cpp\\data\\cohort6\\4028\\4028_cpptask_day01 for video 4125_habituation_day02-02162024112647 and scorer DLC_resnet50_mouse_cppJun28shuffle1_175000.\n",
      "Filtering with median model Y:/laura_berkowitz/behavior_validation/appps1_cpp/data/cohort6\\4125\\4125_cpptask_day03\\4125_habituation_day2-02172024083454.avi\n",
      "No unfiltered data file found in Y:\\laura_berkowitz\\behavior_validation\\appps1_cpp\\data\\cohort6\\4028\\4028_cpptask_day01 for video 4125_habituation_day2-02172024083454 and scorer DLC_resnet50_mouse_cppJun28shuffle1_175000.\n",
      "Filtering with median model Y:/laura_berkowitz/behavior_validation/appps1_cpp/data/cohort6\\4139\\4139_cpptask_day01\\4139_habituation_day1-02172024085051.avi\n",
      "Data from 4139_habituation_day1-02172024085051 were already filtered. Skipping...\n",
      "Filtering with median model Y:/laura_berkowitz/behavior_validation/appps1_cpp/data/cohort6\\4141\\4141_cpptask_day01\\4141_habituation_day1-02172024084226.avi\n",
      "No unfiltered data file found in Y:\\laura_berkowitz\\behavior_validation\\appps1_cpp\\data\\cohort6\\4028\\4028_cpptask_day01 for video 4141_habituation_day1-02172024084226 and scorer DLC_resnet50_mouse_cppJun28shuffle1_175000.\n"
     ]
    }
   ],
   "source": [
    "config_path = r\"D:\\DLC_analysis\\mouse_cpp-berkowitz-2023-06-28\\config.yaml\"\n",
    "\n",
    "deeplabcut.analyze_videos(config_path, video_files, videotype='avi', shuffle=1, trainingsetindex=0, save_as_csv=True)\n",
    "\n",
    "deeplabcut.filterpredictions(config_path, video_files)"
   ]
  }
 ],
 "metadata": {
  "kernelspec": {
   "display_name": "DLC-GPU",
   "language": "python",
   "name": "python3"
  },
  "language_info": {
   "codemirror_mode": {
    "name": "ipython",
    "version": 3
   },
   "file_extension": ".py",
   "mimetype": "text/x-python",
   "name": "python",
   "nbconvert_exporter": "python",
   "pygments_lexer": "ipython3",
   "version": "3.7.12"
  }
 },
 "nbformat": 4,
 "nbformat_minor": 2
}
