{
 "cells": [
  {
   "cell_type": "code",
   "execution_count": 1,
   "metadata": {},
   "outputs": [
    {
     "name": "stdout",
     "output_type": "stream",
     "text": [
      "Loading DLC 2.2.1.1...\n"
     ]
    }
   ],
   "source": [
    "import deeplabcut\n",
    "import glob\n",
    "import os\n"
   ]
  },
  {
   "cell_type": "markdown",
   "metadata": {},
   "source": [
    "## Paths to DLC configs on 'The Hook'\n",
    "```\n",
    "r\"D:\\DLC_analysis\\30cm_open_field-berkowitz-2022-07-14\\config.yaml\"\n",
    "r\"D:\\DLC_analysis\\40cm_open_field-berkowitz-2022-07-22\\config.yaml\"\n",
    "r\"D:\\DLC_analysis\\40cm_OR-berkowitz-2023-02-17\\config.yaml\"\n",
    "r\"D:\\DLC_analysis\\aya_poorlight-berkowitz-2024-01-08\\config.yaml\"\n",
    "r\"D:\\DLC_analysis\\dim_cpp-berkowitz-2023-10-10\\config.yaml\"\n",
    "r\"D:\\DLC_analysis\\linear_track-Berkowitz-2021-11-15\\config.yaml\"\n",
    "r\"D:\\DLC_analysis\\mouse_close_camera_multi_maze-ryan-2023-01-03\\config.yaml\"\n",
    "r\"D:\\DLC_analysis\\mouse_cpp-berkowitz-2023-06-28\\config.yaml\"\n",
    "r\"D:\\DLC_analysis\\multianimal_OL-berkowitz-2022-04-30\\config.yaml\"\n",
    "\n",
    "```"
   ]
  },
  {
   "cell_type": "markdown",
   "metadata": {},
   "source": [
    "## Set path to data directory and use glob to get paths to all video files "
   ]
  },
  {
   "cell_type": "code",
   "execution_count": 2,
   "metadata": {},
   "outputs": [
    {
     "data": {
      "text/plain": [
       "['Y:/laura_berkowitz/behavior_validation/appps1_cpp/data/cohort6\\\\4028\\\\4028_cpptask_day01\\\\4139_habituation_day1-02172024085051.avi',\n",
       " 'Y:/laura_berkowitz/behavior_validation/appps1_cpp/data/cohort6\\\\4122\\\\4122_cpptask_day01\\\\4122_habituation_day1-02152024094619.avi',\n",
       " 'Y:/laura_berkowitz/behavior_validation/appps1_cpp/data/cohort6\\\\4122\\\\4122_cpptask_day02\\\\4122_habituation_day02-02162024114946.avi',\n",
       " 'Y:/laura_berkowitz/behavior_validation/appps1_cpp/data/cohort6\\\\4122\\\\4122_cpptask_day03\\\\4122_habituation_day3-02172024081420.avi',\n",
       " 'Y:/laura_berkowitz/behavior_validation/appps1_cpp/data/cohort6\\\\4123\\\\4123_cpptask_day01\\\\4123_habituation_day1-02152024094017.avi',\n",
       " 'Y:/laura_berkowitz/behavior_validation/appps1_cpp/data/cohort6\\\\4123\\\\4123_cpptask_day02\\\\4123_habituation_day02-02162024113443.avi',\n",
       " 'Y:/laura_berkowitz/behavior_validation/appps1_cpp/data/cohort6\\\\4123\\\\4123_cpptask_day03\\\\4123_habituation_day3-02172024082158.avi',\n",
       " 'Y:/laura_berkowitz/behavior_validation/appps1_cpp/data/cohort6\\\\4124\\\\4124_cpptask_day01\\\\4124_habituation_day1-02152024095212.avi',\n",
       " 'Y:/laura_berkowitz/behavior_validation/appps1_cpp/data/cohort6\\\\4124\\\\4124_cpptask_day02\\\\4124_habituation_day02-02162024114249.avi',\n",
       " 'Y:/laura_berkowitz/behavior_validation/appps1_cpp/data/cohort6\\\\4124\\\\4124_cpptask_day03\\\\4124_habituation_day2-02172024082824.avi',\n",
       " 'Y:/laura_berkowitz/behavior_validation/appps1_cpp/data/cohort6\\\\4125\\\\4125_cpptask_day01\\\\4125_habituation_day1-02152024095740.avi',\n",
       " 'Y:/laura_berkowitz/behavior_validation/appps1_cpp/data/cohort6\\\\4125\\\\4125_cpptask_day02\\\\4125_habituation_day02-02162024112647.avi',\n",
       " 'Y:/laura_berkowitz/behavior_validation/appps1_cpp/data/cohort6\\\\4125\\\\4125_cpptask_day03\\\\4125_habituation_day2-02172024083454.avi',\n",
       " 'Y:/laura_berkowitz/behavior_validation/appps1_cpp/data/cohort6\\\\4139\\\\4139_cpptask_day01\\\\4139_habituation_day1-02172024085051.avi',\n",
       " 'Y:/laura_berkowitz/behavior_validation/appps1_cpp/data/cohort6\\\\4141\\\\4141_cpptask_day01\\\\4141_habituation_day1-02172024084226.avi']"
      ]
     },
     "execution_count": 2,
     "metadata": {},
     "output_type": "execute_result"
    }
   ],
   "source": [
    "\n",
    "# Data path \n",
    "data_path = r'Y:/laura_berkowitz/behavior_validation/appps1_cpp/data/cohort6'\n",
    "\n",
    "# use glob to find path to all .avi files \n",
    "\n",
    "video_files = glob.glob(data_path + '/**/*.avi', recursive=True)\n",
    "video_files"
   ]
  },
  {
   "cell_type": "markdown",
   "metadata": {},
   "source": [
    "## Set DLC config and analyze videos. If video is already run (H5 or CSV in folder, DLC will continue to next video)"
   ]
  },
  {
   "cell_type": "code",
   "execution_count": 4,
   "metadata": {},
   "outputs": [
    {
     "name": "stdout",
     "output_type": "stream",
     "text": [
      "Using snapshot-175000 for model D:\\DLC_analysis\\mouse_cpp-berkowitz-2023-06-28\\dlc-models\\iteration-0\\mouse_cppJun28-trainset95shuffle1\n"
     ]
    },
    {
     "name": "stderr",
     "output_type": "stream",
     "text": [
      "c:\\Users\\schafferlab\\anaconda3\\envs\\DLC-GPU\\lib\\site-packages\\tensorflow\\python\\keras\\engine\\base_layer_v1.py:1694: UserWarning: `layer.apply` is deprecated and will be removed in a future version. Please use `layer.__call__` method instead.\n",
      "  warnings.warn('`layer.apply` is deprecated and '\n"
     ]
    },
    {
     "name": "stdout",
     "output_type": "stream",
     "text": [
      "Starting to analyze %  Y:/laura_berkowitz/behavior_validation/appps1_cpp/data/cohort6\\4028\\4028_cpptask_day01\\4139_habituation_day1-02172024085051.avi\n",
      "Loading  Y:/laura_berkowitz/behavior_validation/appps1_cpp/data/cohort6\\4028\\4028_cpptask_day01\\4139_habituation_day1-02172024085051.avi\n",
      "Duration of video [s]:  332.47 , recorded with  30.0 fps!\n",
      "Overall # of frames:  9974  found with (before cropping) frame dimensions:  1440 1080\n",
      "Starting to extract posture\n"
     ]
    },
    {
     "name": "stderr",
     "output_type": "stream",
     "text": [
      "  0%|          | 0/9974 [00:00<?, ?it/s]"
     ]
    }
   ],
   "source": [
    "config_path = r\"D:\\DLC_analysis\\mouse_cpp-berkowitz-2023-06-28\\config.yaml\"\n",
    "\n",
    "deeplabcut.analyze_videos(config_path, video_files, videotype='avi', shuffle=1, trainingsetindex=0, save_as_csv=True)\n",
    "\n",
    "deeplabcut.filterpredictions(config_path, video_files)"
   ]
  }
 ],
 "metadata": {
  "kernelspec": {
   "display_name": "DLC-GPU",
   "language": "python",
   "name": "python3"
  },
  "language_info": {
   "codemirror_mode": {
    "name": "ipython",
    "version": 3
   },
   "file_extension": ".py",
   "mimetype": "text/x-python",
   "name": "python",
   "nbconvert_exporter": "python",
   "pygments_lexer": "ipython3",
   "version": "3.7.12"
  }
 },
 "nbformat": 4,
 "nbformat_minor": 2
}
