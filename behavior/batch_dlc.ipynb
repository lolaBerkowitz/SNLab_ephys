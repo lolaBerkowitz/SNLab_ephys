{
 "cells": [
  {
   "cell_type": "code",
   "execution_count": 6,
   "metadata": {},
   "outputs": [
    {
     "name": "stdout",
     "output_type": "stream",
     "text": [
      "Loading DLC 2.3.9...\n"
     ]
    }
   ],
   "source": [
    "import deeplabcut\n",
    "import glob\n",
    "import os\n"
   ]
  },
  {
   "cell_type": "markdown",
   "metadata": {},
   "source": [
    "## Paths to DLC configs on 'The Hook'\n",
    "```\n",
    "r\"D:\\DLC_analysis\\30cm_open_field-berkowitz-2022-07-14\\config.yaml\"\n",
    "r\"D:\\DLC_analysis\\40cm_open_field-berkowitz-2022-07-22\\config.yaml\"\n",
    "r\"D:\\DLC_analysis\\40cm_OR-berkowitz-2023-02-17\\config.yaml\"\n",
    "r\"D:\\DLC_analysis\\aya_poorlight-berkowitz-2024-01-08\\config.yaml\"\n",
    "r\"D:\\DLC_analysis\\dim_cpp-berkowitz-2023-10-10\\config.yaml\"\n",
    "r\"D:\\DLC_analysis\\linear_track-Berkowitz-2021-11-15\\config.yaml\"\n",
    "r\"D:\\DLC_analysis\\mouse_close_camera_multi_maze-ryan-2023-01-03\\config.yaml\"\n",
    "r\"D:\\DLC_analysis\\mouse_cpp-berkowitz-2023-06-28\\config.yaml\"\n",
    "r\"D:\\DLC_analysis\\multianimal_OL-berkowitz-2022-04-30\\config.yaml\"\n",
    "\n",
    "```"
   ]
  },
  {
   "cell_type": "markdown",
   "metadata": {},
   "source": [
    "## Set path to data directory and use glob to get paths to all video files "
   ]
  },
  {
   "cell_type": "code",
   "execution_count": 7,
   "metadata": {},
   "outputs": [
    {
     "data": {
      "text/plain": [
       "['Y:\\\\laura_berkowitz\\\\behavior_validation\\\\appps1_cpp\\\\data\\\\cohort2\\\\3768\\\\3768_pairing_day02\\\\3768N_paring2_A-07132023072102.avi',\n",
       " 'Y:\\\\laura_berkowitz\\\\behavior_validation\\\\appps1_cpp\\\\data\\\\cohort2\\\\3768\\\\3768_pairing_day02\\\\3768N_paring2_B-07132023073857.avi',\n",
       " 'Y:\\\\laura_berkowitz\\\\behavior_validation\\\\appps1_cpp\\\\data\\\\cohort2\\\\3768\\\\3768_pairing_posttest_day03\\\\3768N_paring3_A-07142023070138.avi',\n",
       " 'Y:\\\\laura_berkowitz\\\\behavior_validation\\\\appps1_cpp\\\\data\\\\cohort2\\\\3768\\\\3768_pairing_posttest_day03\\\\3768N_paring3_B-07142023072049.avi',\n",
       " 'Y:\\\\laura_berkowitz\\\\behavior_validation\\\\appps1_cpp\\\\data\\\\cohort2\\\\3768\\\\3768_pairing_posttest_day03\\\\3768N_posttest-07142023102245.avi',\n",
       " 'Y:\\\\laura_berkowitz\\\\behavior_validation\\\\appps1_cpp\\\\data\\\\cohort2\\\\3768\\\\3768_pretest_pairing_day01\\\\3768N-pretest-07122023070728.avi',\n",
       " 'Y:\\\\laura_berkowitz\\\\behavior_validation\\\\appps1_cpp\\\\data\\\\cohort2\\\\3768\\\\3768_pretest_pairing_day01\\\\3768N_pairing1_A-07122023090924.avi',\n",
       " 'Y:\\\\laura_berkowitz\\\\behavior_validation\\\\appps1_cpp\\\\data\\\\cohort2\\\\3768\\\\3768_pretest_pairing_day01\\\\3768N_pairing1_B-07122023092750.avi',\n",
       " 'Y:\\\\laura_berkowitz\\\\behavior_validation\\\\appps1_cpp\\\\data\\\\cohort2\\\\3769\\\\3769_pairing_day02\\\\3769L_paring2_A-07132023091234.avi',\n",
       " 'Y:\\\\laura_berkowitz\\\\behavior_validation\\\\appps1_cpp\\\\data\\\\cohort2\\\\3769\\\\3769_pairing_day02\\\\3769L_paring2_B-07132023093034.avi',\n",
       " 'Y:\\\\laura_berkowitz\\\\behavior_validation\\\\appps1_cpp\\\\data\\\\cohort2\\\\3769\\\\3769_pairing_posttest_day03\\\\3769L_paring3_A-07142023091303.avi',\n",
       " 'Y:\\\\laura_berkowitz\\\\behavior_validation\\\\appps1_cpp\\\\data\\\\cohort2\\\\3769\\\\3769_pairing_posttest_day03\\\\3769L_paring3_B-07142023085513.avi',\n",
       " 'Y:\\\\laura_berkowitz\\\\behavior_validation\\\\appps1_cpp\\\\data\\\\cohort2\\\\3769\\\\3769_pairing_posttest_day03\\\\3769L_posttest-07142023111859.avi',\n",
       " 'Y:\\\\laura_berkowitz\\\\behavior_validation\\\\appps1_cpp\\\\data\\\\cohort2\\\\3769\\\\3769_pretest_pairing_day01\\\\3769L_pairing1_A-07122023111233.avi',\n",
       " 'Y:\\\\laura_berkowitz\\\\behavior_validation\\\\appps1_cpp\\\\data\\\\cohort2\\\\3769\\\\3769_pretest_pairing_day01\\\\3769L_pairing1_B-07122023113203.avi',\n",
       " 'Y:\\\\laura_berkowitz\\\\behavior_validation\\\\appps1_cpp\\\\data\\\\cohort2\\\\3769\\\\3769_pretest_pairing_day01\\\\3769L_pretest-07122023082428.avi',\n",
       " 'Y:\\\\laura_berkowitz\\\\behavior_validation\\\\appps1_cpp\\\\data\\\\cohort2\\\\3770\\\\3770_pairing_day02\\\\3770R_paring2_A-07132023081652.avi',\n",
       " 'Y:\\\\laura_berkowitz\\\\behavior_validation\\\\appps1_cpp\\\\data\\\\cohort2\\\\3770\\\\3770_pairing_day02\\\\3770R_paring2_B-07132023075917.avi',\n",
       " 'Y:\\\\laura_berkowitz\\\\behavior_validation\\\\appps1_cpp\\\\data\\\\cohort2\\\\3770\\\\3770_pairing_posttest_day03\\\\3770R_paring3_A-07142023075720.avi',\n",
       " 'Y:\\\\laura_berkowitz\\\\behavior_validation\\\\appps1_cpp\\\\data\\\\cohort2\\\\3770\\\\3770_pairing_posttest_day03\\\\3770R_paring3_B-07142023073902.avi',\n",
       " 'Y:\\\\laura_berkowitz\\\\behavior_validation\\\\appps1_cpp\\\\data\\\\cohort2\\\\3770\\\\3770_pairing_posttest_day03\\\\3770R_posttest-07142023104133.avi',\n",
       " 'Y:\\\\laura_berkowitz\\\\behavior_validation\\\\appps1_cpp\\\\data\\\\cohort2\\\\3770\\\\3770_pretest_pairing_day01\\\\3770R-pretest-07122023073031.avi',\n",
       " 'Y:\\\\laura_berkowitz\\\\behavior_validation\\\\appps1_cpp\\\\data\\\\cohort2\\\\3770\\\\3770_pretest_pairing_day01\\\\3770R_pairing1_A-07122023100601.avi',\n",
       " 'Y:\\\\laura_berkowitz\\\\behavior_validation\\\\appps1_cpp\\\\data\\\\cohort2\\\\3770\\\\3770_pretest_pairing_day01\\\\3770R_pairing1_B-07122023094747.avi',\n",
       " 'Y:\\\\laura_berkowitz\\\\behavior_validation\\\\appps1_cpp\\\\data\\\\cohort2\\\\3775\\\\3775_pairing_day02\\\\3775N_paring2_A-07132023105907.avi',\n",
       " 'Y:\\\\laura_berkowitz\\\\behavior_validation\\\\appps1_cpp\\\\data\\\\cohort2\\\\3775\\\\3775_pairing_day02\\\\3775N_paring2_B-07132023104012.avi',\n",
       " 'Y:\\\\laura_berkowitz\\\\behavior_validation\\\\appps1_cpp\\\\data\\\\cohort2\\\\3775\\\\3775_pairing_posttest_day03\\\\3775N_pairing3_A-07142023122439.avi',\n",
       " 'Y:\\\\laura_berkowitz\\\\behavior_validation\\\\appps1_cpp\\\\data\\\\cohort2\\\\3775\\\\3775_pairing_posttest_day03\\\\3775N_pairing3_B-07142023120640.avi',\n",
       " 'Y:\\\\laura_berkowitz\\\\behavior_validation\\\\appps1_cpp\\\\data\\\\cohort2\\\\3775\\\\3775_pairing_posttest_day03\\\\3775N_posttest-07142023144234.avi',\n",
       " 'Y:\\\\laura_berkowitz\\\\behavior_validation\\\\appps1_cpp\\\\data\\\\cohort2\\\\3775\\\\3775_pretest_pairing_day01\\\\3775N_pairing1_A-07122023150743.avi',\n",
       " 'Y:\\\\laura_berkowitz\\\\behavior_validation\\\\appps1_cpp\\\\data\\\\cohort2\\\\3775\\\\3775_pretest_pairing_day01\\\\3775N_pairing1_B-07122023144922.avi',\n",
       " 'Y:\\\\laura_berkowitz\\\\behavior_validation\\\\appps1_cpp\\\\data\\\\cohort2\\\\3775\\\\3775_pretest_pairing_day01\\\\3775N_pretest-07122023121951.avi',\n",
       " 'Y:\\\\laura_berkowitz\\\\behavior_validation\\\\appps1_cpp\\\\data\\\\cohort2\\\\3778\\\\3778_pairing_day02\\\\3778B_paring2_A-07132023100102.avi',\n",
       " 'Y:\\\\laura_berkowitz\\\\behavior_validation\\\\appps1_cpp\\\\data\\\\cohort2\\\\3778\\\\3778_pairing_day02\\\\3778B_paring2_B-07132023102017.avi',\n",
       " 'Y:\\\\laura_berkowitz\\\\behavior_validation\\\\appps1_cpp\\\\data\\\\cohort2\\\\3778\\\\3778_pairing_posttest_day03\\\\3778B_paring3_A-07142023093138.avi',\n",
       " 'Y:\\\\laura_berkowitz\\\\behavior_validation\\\\appps1_cpp\\\\data\\\\cohort2\\\\3778\\\\3778_pairing_posttest_day03\\\\3778B_paring3_B-07142023095210.avi',\n",
       " 'Y:\\\\laura_berkowitz\\\\behavior_validation\\\\appps1_cpp\\\\data\\\\cohort2\\\\3778\\\\3778_pairing_posttest_day03\\\\3778B_posttest-07142023113809.avi',\n",
       " 'Y:\\\\laura_berkowitz\\\\behavior_validation\\\\appps1_cpp\\\\data\\\\cohort2\\\\3778\\\\3778_pretest_pairing_day01\\\\3778B_pairing1_A-07122023140215.avi',\n",
       " 'Y:\\\\laura_berkowitz\\\\behavior_validation\\\\appps1_cpp\\\\data\\\\cohort2\\\\3778\\\\3778_pretest_pairing_day01\\\\3778B_pairing1_B-07122023142043.avi',\n",
       " 'Y:\\\\laura_berkowitz\\\\behavior_validation\\\\appps1_cpp\\\\data\\\\cohort2\\\\3778\\\\3778_pretest_pairing_day01\\\\3778B_pretest-07122023115709.avi',\n",
       " 'Y:\\\\laura_berkowitz\\\\behavior_validation\\\\appps1_cpp\\\\data\\\\cohort2\\\\3779\\\\3779_pairing_day02\\\\3779_2L_paring2_A-07132023085320.avi',\n",
       " 'Y:\\\\laura_berkowitz\\\\behavior_validation\\\\appps1_cpp\\\\data\\\\cohort2\\\\3779\\\\3779_pairing_day02\\\\3779_2L_paring2_B-07132023083513.avi',\n",
       " 'Y:\\\\laura_berkowitz\\\\behavior_validation\\\\appps1_cpp\\\\data\\\\cohort2\\\\3779\\\\3779_pairing_posttest_day03\\\\37792L_paring3_A-07142023083601.avi',\n",
       " 'Y:\\\\laura_berkowitz\\\\behavior_validation\\\\appps1_cpp\\\\data\\\\cohort2\\\\3779\\\\3779_pairing_posttest_day03\\\\37792L_paring3_B-07142023081738.avi',\n",
       " 'Y:\\\\laura_berkowitz\\\\behavior_validation\\\\appps1_cpp\\\\data\\\\cohort2\\\\3779\\\\3779_pairing_posttest_day03\\\\37792L_posttest-07142023110051.avi',\n",
       " 'Y:\\\\laura_berkowitz\\\\behavior_validation\\\\appps1_cpp\\\\data\\\\cohort2\\\\3779\\\\3779_pretest_pairing_day01\\\\3779_2L_pairing1_A-07122023104836.avi',\n",
       " 'Y:\\\\laura_berkowitz\\\\behavior_validation\\\\appps1_cpp\\\\data\\\\cohort2\\\\3779\\\\3779_pretest_pairing_day01\\\\3779_2L_pairing1_B-07122023102834.avi',\n",
       " 'Y:\\\\laura_berkowitz\\\\behavior_validation\\\\appps1_cpp\\\\data\\\\cohort2\\\\3779\\\\3779_pretest_pairing_day01\\\\3779_2L_pretest-07122023080357.avi']"
      ]
     },
     "execution_count": 7,
     "metadata": {},
     "output_type": "execute_result"
    }
   ],
   "source": [
    "\n",
    "# Data path \n",
    "data_path = r'Y:\\laura_berkowitz\\behavior_validation\\appps1_cpp\\data\\cohort2'\n",
    "\n",
    "# use glob to find path to all .avi files \n",
    "\n",
    "video_files = glob.glob(data_path + '/**/*.avi', recursive=True)\n",
    "video_files"
   ]
  },
  {
   "cell_type": "markdown",
   "metadata": {},
   "source": [
    "## Set DLC config and analyze videos. If video is already run (H5 or CSV in folder, DLC will continue to next video)"
   ]
  },
  {
   "cell_type": "code",
   "execution_count": 8,
   "metadata": {},
   "outputs": [
    {
     "name": "stdout",
     "output_type": "stream",
     "text": [
      "Using snapshot-175000 for model Y:\\laura_berkowitz\\dlc_models\\mouse_cpp-berkowitz-2023-06-28\\dlc-models\\iteration-0\\mouse_cppJun28-trainset95shuffle1\n"
     ]
    },
    {
     "name": "stderr",
     "output_type": "stream",
     "text": [
      "c:\\Users\\schafferlab\\anaconda3\\envs\\DEEPLABCUT\\lib\\site-packages\\tensorflow\\python\\keras\\engine\\base_layer_v1.py:1694: UserWarning: `layer.apply` is deprecated and will be removed in a future version. Please use `layer.__call__` method instead.\n",
      "  warnings.warn('`layer.apply` is deprecated and '\n"
     ]
    },
    {
     "name": "stdout",
     "output_type": "stream",
     "text": [
      "Starting to analyze %  Y:\\laura_berkowitz\\behavior_validation\\appps1_cpp\\data\\cohort2\\3768\\3768_pairing_day02\\3768N_paring2_A-07132023072102.avi\n",
      "Starting to analyze %  Y:\\laura_berkowitz\\behavior_validation\\appps1_cpp\\data\\cohort2\\3768\\3768_pairing_day02\\3768N_paring2_B-07132023073857.avi\n",
      "Starting to analyze %  Y:\\laura_berkowitz\\behavior_validation\\appps1_cpp\\data\\cohort2\\3768\\3768_pairing_posttest_day03\\3768N_paring3_A-07142023070138.avi\n",
      "Starting to analyze %  Y:\\laura_berkowitz\\behavior_validation\\appps1_cpp\\data\\cohort2\\3768\\3768_pairing_posttest_day03\\3768N_paring3_B-07142023072049.avi\n",
      "Starting to analyze %  Y:\\laura_berkowitz\\behavior_validation\\appps1_cpp\\data\\cohort2\\3768\\3768_pairing_posttest_day03\\3768N_posttest-07142023102245.avi\n",
      "Starting to analyze %  Y:\\laura_berkowitz\\behavior_validation\\appps1_cpp\\data\\cohort2\\3768\\3768_pretest_pairing_day01\\3768N-pretest-07122023070728.avi\n",
      "Starting to analyze %  Y:\\laura_berkowitz\\behavior_validation\\appps1_cpp\\data\\cohort2\\3768\\3768_pretest_pairing_day01\\3768N_pairing1_A-07122023090924.avi\n",
      "Starting to analyze %  Y:\\laura_berkowitz\\behavior_validation\\appps1_cpp\\data\\cohort2\\3768\\3768_pretest_pairing_day01\\3768N_pairing1_B-07122023092750.avi\n",
      "Starting to analyze %  Y:\\laura_berkowitz\\behavior_validation\\appps1_cpp\\data\\cohort2\\3769\\3769_pairing_day02\\3769L_paring2_A-07132023091234.avi\n",
      "Starting to analyze %  Y:\\laura_berkowitz\\behavior_validation\\appps1_cpp\\data\\cohort2\\3769\\3769_pairing_day02\\3769L_paring2_B-07132023093034.avi\n",
      "Starting to analyze %  Y:\\laura_berkowitz\\behavior_validation\\appps1_cpp\\data\\cohort2\\3769\\3769_pairing_posttest_day03\\3769L_paring3_A-07142023091303.avi\n",
      "Starting to analyze %  Y:\\laura_berkowitz\\behavior_validation\\appps1_cpp\\data\\cohort2\\3769\\3769_pairing_posttest_day03\\3769L_paring3_B-07142023085513.avi\n",
      "Starting to analyze %  Y:\\laura_berkowitz\\behavior_validation\\appps1_cpp\\data\\cohort2\\3769\\3769_pairing_posttest_day03\\3769L_posttest-07142023111859.avi\n",
      "Starting to analyze %  Y:\\laura_berkowitz\\behavior_validation\\appps1_cpp\\data\\cohort2\\3769\\3769_pretest_pairing_day01\\3769L_pairing1_A-07122023111233.avi\n",
      "Starting to analyze %  Y:\\laura_berkowitz\\behavior_validation\\appps1_cpp\\data\\cohort2\\3769\\3769_pretest_pairing_day01\\3769L_pairing1_B-07122023113203.avi\n",
      "Starting to analyze %  Y:\\laura_berkowitz\\behavior_validation\\appps1_cpp\\data\\cohort2\\3769\\3769_pretest_pairing_day01\\3769L_pretest-07122023082428.avi\n",
      "Starting to analyze %  Y:\\laura_berkowitz\\behavior_validation\\appps1_cpp\\data\\cohort2\\3770\\3770_pairing_day02\\3770R_paring2_A-07132023081652.avi\n",
      "Starting to analyze %  Y:\\laura_berkowitz\\behavior_validation\\appps1_cpp\\data\\cohort2\\3770\\3770_pairing_day02\\3770R_paring2_B-07132023075917.avi\n",
      "Starting to analyze %  Y:\\laura_berkowitz\\behavior_validation\\appps1_cpp\\data\\cohort2\\3770\\3770_pairing_posttest_day03\\3770R_paring3_A-07142023075720.avi\n",
      "Starting to analyze %  Y:\\laura_berkowitz\\behavior_validation\\appps1_cpp\\data\\cohort2\\3770\\3770_pairing_posttest_day03\\3770R_paring3_B-07142023073902.avi\n",
      "Starting to analyze %  Y:\\laura_berkowitz\\behavior_validation\\appps1_cpp\\data\\cohort2\\3770\\3770_pairing_posttest_day03\\3770R_posttest-07142023104133.avi\n",
      "Starting to analyze %  Y:\\laura_berkowitz\\behavior_validation\\appps1_cpp\\data\\cohort2\\3770\\3770_pretest_pairing_day01\\3770R-pretest-07122023073031.avi\n",
      "Starting to analyze %  Y:\\laura_berkowitz\\behavior_validation\\appps1_cpp\\data\\cohort2\\3770\\3770_pretest_pairing_day01\\3770R_pairing1_A-07122023100601.avi\n",
      "Starting to analyze %  Y:\\laura_berkowitz\\behavior_validation\\appps1_cpp\\data\\cohort2\\3770\\3770_pretest_pairing_day01\\3770R_pairing1_B-07122023094747.avi\n",
      "Starting to analyze %  Y:\\laura_berkowitz\\behavior_validation\\appps1_cpp\\data\\cohort2\\3775\\3775_pairing_day02\\3775N_paring2_A-07132023105907.avi\n",
      "Starting to analyze %  Y:\\laura_berkowitz\\behavior_validation\\appps1_cpp\\data\\cohort2\\3775\\3775_pairing_day02\\3775N_paring2_B-07132023104012.avi\n",
      "Starting to analyze %  Y:\\laura_berkowitz\\behavior_validation\\appps1_cpp\\data\\cohort2\\3775\\3775_pairing_posttest_day03\\3775N_pairing3_A-07142023122439.avi\n",
      "Starting to analyze %  Y:\\laura_berkowitz\\behavior_validation\\appps1_cpp\\data\\cohort2\\3775\\3775_pairing_posttest_day03\\3775N_pairing3_B-07142023120640.avi\n",
      "Starting to analyze %  Y:\\laura_berkowitz\\behavior_validation\\appps1_cpp\\data\\cohort2\\3775\\3775_pairing_posttest_day03\\3775N_posttest-07142023144234.avi\n",
      "Starting to analyze %  Y:\\laura_berkowitz\\behavior_validation\\appps1_cpp\\data\\cohort2\\3775\\3775_pretest_pairing_day01\\3775N_pairing1_A-07122023150743.avi\n",
      "Starting to analyze %  Y:\\laura_berkowitz\\behavior_validation\\appps1_cpp\\data\\cohort2\\3775\\3775_pretest_pairing_day01\\3775N_pairing1_B-07122023144922.avi\n",
      "Starting to analyze %  Y:\\laura_berkowitz\\behavior_validation\\appps1_cpp\\data\\cohort2\\3775\\3775_pretest_pairing_day01\\3775N_pretest-07122023121951.avi\n",
      "Starting to analyze %  Y:\\laura_berkowitz\\behavior_validation\\appps1_cpp\\data\\cohort2\\3778\\3778_pairing_day02\\3778B_paring2_A-07132023100102.avi\n",
      "Starting to analyze %  Y:\\laura_berkowitz\\behavior_validation\\appps1_cpp\\data\\cohort2\\3778\\3778_pairing_day02\\3778B_paring2_B-07132023102017.avi\n",
      "Starting to analyze %  Y:\\laura_berkowitz\\behavior_validation\\appps1_cpp\\data\\cohort2\\3778\\3778_pairing_posttest_day03\\3778B_paring3_A-07142023093138.avi\n",
      "Starting to analyze %  Y:\\laura_berkowitz\\behavior_validation\\appps1_cpp\\data\\cohort2\\3778\\3778_pairing_posttest_day03\\3778B_paring3_B-07142023095210.avi\n",
      "Starting to analyze %  Y:\\laura_berkowitz\\behavior_validation\\appps1_cpp\\data\\cohort2\\3778\\3778_pairing_posttest_day03\\3778B_posttest-07142023113809.avi\n",
      "Starting to analyze %  Y:\\laura_berkowitz\\behavior_validation\\appps1_cpp\\data\\cohort2\\3778\\3778_pretest_pairing_day01\\3778B_pairing1_A-07122023140215.avi\n",
      "Starting to analyze %  Y:\\laura_berkowitz\\behavior_validation\\appps1_cpp\\data\\cohort2\\3778\\3778_pretest_pairing_day01\\3778B_pairing1_B-07122023142043.avi\n",
      "Starting to analyze %  Y:\\laura_berkowitz\\behavior_validation\\appps1_cpp\\data\\cohort2\\3778\\3778_pretest_pairing_day01\\3778B_pretest-07122023115709.avi\n",
      "Starting to analyze %  Y:\\laura_berkowitz\\behavior_validation\\appps1_cpp\\data\\cohort2\\3779\\3779_pairing_day02\\3779_2L_paring2_A-07132023085320.avi\n",
      "Starting to analyze %  Y:\\laura_berkowitz\\behavior_validation\\appps1_cpp\\data\\cohort2\\3779\\3779_pairing_day02\\3779_2L_paring2_B-07132023083513.avi\n",
      "Starting to analyze %  Y:\\laura_berkowitz\\behavior_validation\\appps1_cpp\\data\\cohort2\\3779\\3779_pairing_posttest_day03\\37792L_paring3_A-07142023083601.avi\n",
      "Starting to analyze %  Y:\\laura_berkowitz\\behavior_validation\\appps1_cpp\\data\\cohort2\\3779\\3779_pairing_posttest_day03\\37792L_paring3_B-07142023081738.avi\n",
      "Starting to analyze %  Y:\\laura_berkowitz\\behavior_validation\\appps1_cpp\\data\\cohort2\\3779\\3779_pairing_posttest_day03\\37792L_posttest-07142023110051.avi\n",
      "Starting to analyze %  Y:\\laura_berkowitz\\behavior_validation\\appps1_cpp\\data\\cohort2\\3779\\3779_pretest_pairing_day01\\3779_2L_pairing1_A-07122023104836.avi\n",
      "Starting to analyze %  Y:\\laura_berkowitz\\behavior_validation\\appps1_cpp\\data\\cohort2\\3779\\3779_pretest_pairing_day01\\3779_2L_pairing1_B-07122023102834.avi\n",
      "Starting to analyze %  Y:\\laura_berkowitz\\behavior_validation\\appps1_cpp\\data\\cohort2\\3779\\3779_pretest_pairing_day01\\3779_2L_pretest-07122023080357.avi\n",
      "The videos are analyzed. Now your research can truly start! \n",
      " You can create labeled videos with 'create_labeled_video'\n",
      "If the tracking is not satisfactory for some videos, consider expanding the training set. You can use the function 'extract_outlier_frames' to extract a few representative outlier frames.\n",
      "Filtering with median model Y:\\laura_berkowitz\\behavior_validation\\appps1_cpp\\data\\cohort2\\3768\\3768_pairing_day02\\3768N_paring2_A-07132023072102.avi\n",
      "Data from 3768N_paring2_A-07132023072102 were already filtered. Skipping...\n",
      "Filtering with median model Y:\\laura_berkowitz\\behavior_validation\\appps1_cpp\\data\\cohort2\\3768\\3768_pairing_day02\\3768N_paring2_B-07132023073857.avi\n",
      "Data from 3768N_paring2_B-07132023073857 were already filtered. Skipping...\n",
      "Filtering with median model Y:\\laura_berkowitz\\behavior_validation\\appps1_cpp\\data\\cohort2\\3768\\3768_pairing_posttest_day03\\3768N_paring3_A-07142023070138.avi\n",
      "No unfiltered data file found in Y:\\laura_berkowitz\\behavior_validation\\appps1_cpp\\data\\cohort2\\3768\\3768_pairing_day02 for video 3768N_paring3_A-07142023070138 and scorer DLC_resnet50_mouse_cppJun28shuffle1_175000.\n",
      "Filtering with median model Y:\\laura_berkowitz\\behavior_validation\\appps1_cpp\\data\\cohort2\\3768\\3768_pairing_posttest_day03\\3768N_paring3_B-07142023072049.avi\n",
      "No unfiltered data file found in Y:\\laura_berkowitz\\behavior_validation\\appps1_cpp\\data\\cohort2\\3768\\3768_pairing_day02 for video 3768N_paring3_B-07142023072049 and scorer DLC_resnet50_mouse_cppJun28shuffle1_175000.\n",
      "Filtering with median model Y:\\laura_berkowitz\\behavior_validation\\appps1_cpp\\data\\cohort2\\3768\\3768_pairing_posttest_day03\\3768N_posttest-07142023102245.avi\n",
      "No unfiltered data file found in Y:\\laura_berkowitz\\behavior_validation\\appps1_cpp\\data\\cohort2\\3768\\3768_pairing_day02 for video 3768N_posttest-07142023102245 and scorer DLC_resnet50_mouse_cppJun28shuffle1_175000.\n",
      "Filtering with median model Y:\\laura_berkowitz\\behavior_validation\\appps1_cpp\\data\\cohort2\\3768\\3768_pretest_pairing_day01\\3768N-pretest-07122023070728.avi\n",
      "No unfiltered data file found in Y:\\laura_berkowitz\\behavior_validation\\appps1_cpp\\data\\cohort2\\3768\\3768_pairing_day02 for video 3768N-pretest-07122023070728 and scorer DLC_resnet50_mouse_cppJun28shuffle1_175000.\n",
      "Filtering with median model Y:\\laura_berkowitz\\behavior_validation\\appps1_cpp\\data\\cohort2\\3768\\3768_pretest_pairing_day01\\3768N_pairing1_A-07122023090924.avi\n",
      "No unfiltered data file found in Y:\\laura_berkowitz\\behavior_validation\\appps1_cpp\\data\\cohort2\\3768\\3768_pairing_day02 for video 3768N_pairing1_A-07122023090924 and scorer DLC_resnet50_mouse_cppJun28shuffle1_175000.\n",
      "Filtering with median model Y:\\laura_berkowitz\\behavior_validation\\appps1_cpp\\data\\cohort2\\3768\\3768_pretest_pairing_day01\\3768N_pairing1_B-07122023092750.avi\n",
      "No unfiltered data file found in Y:\\laura_berkowitz\\behavior_validation\\appps1_cpp\\data\\cohort2\\3768\\3768_pairing_day02 for video 3768N_pairing1_B-07122023092750 and scorer DLC_resnet50_mouse_cppJun28shuffle1_175000.\n",
      "Filtering with median model Y:\\laura_berkowitz\\behavior_validation\\appps1_cpp\\data\\cohort2\\3769\\3769_pairing_day02\\3769L_paring2_A-07132023091234.avi\n",
      "No unfiltered data file found in Y:\\laura_berkowitz\\behavior_validation\\appps1_cpp\\data\\cohort2\\3768\\3768_pairing_day02 for video 3769L_paring2_A-07132023091234 and scorer DLC_resnet50_mouse_cppJun28shuffle1_175000.\n",
      "Filtering with median model Y:\\laura_berkowitz\\behavior_validation\\appps1_cpp\\data\\cohort2\\3769\\3769_pairing_day02\\3769L_paring2_B-07132023093034.avi\n",
      "No unfiltered data file found in Y:\\laura_berkowitz\\behavior_validation\\appps1_cpp\\data\\cohort2\\3768\\3768_pairing_day02 for video 3769L_paring2_B-07132023093034 and scorer DLC_resnet50_mouse_cppJun28shuffle1_175000.\n",
      "Filtering with median model Y:\\laura_berkowitz\\behavior_validation\\appps1_cpp\\data\\cohort2\\3769\\3769_pairing_posttest_day03\\3769L_paring3_A-07142023091303.avi\n",
      "No unfiltered data file found in Y:\\laura_berkowitz\\behavior_validation\\appps1_cpp\\data\\cohort2\\3768\\3768_pairing_day02 for video 3769L_paring3_A-07142023091303 and scorer DLC_resnet50_mouse_cppJun28shuffle1_175000.\n",
      "Filtering with median model Y:\\laura_berkowitz\\behavior_validation\\appps1_cpp\\data\\cohort2\\3769\\3769_pairing_posttest_day03\\3769L_paring3_B-07142023085513.avi\n",
      "No unfiltered data file found in Y:\\laura_berkowitz\\behavior_validation\\appps1_cpp\\data\\cohort2\\3768\\3768_pairing_day02 for video 3769L_paring3_B-07142023085513 and scorer DLC_resnet50_mouse_cppJun28shuffle1_175000.\n",
      "Filtering with median model Y:\\laura_berkowitz\\behavior_validation\\appps1_cpp\\data\\cohort2\\3769\\3769_pairing_posttest_day03\\3769L_posttest-07142023111859.avi\n",
      "No unfiltered data file found in Y:\\laura_berkowitz\\behavior_validation\\appps1_cpp\\data\\cohort2\\3768\\3768_pairing_day02 for video 3769L_posttest-07142023111859 and scorer DLC_resnet50_mouse_cppJun28shuffle1_175000.\n",
      "Filtering with median model Y:\\laura_berkowitz\\behavior_validation\\appps1_cpp\\data\\cohort2\\3769\\3769_pretest_pairing_day01\\3769L_pairing1_A-07122023111233.avi\n",
      "No unfiltered data file found in Y:\\laura_berkowitz\\behavior_validation\\appps1_cpp\\data\\cohort2\\3768\\3768_pairing_day02 for video 3769L_pairing1_A-07122023111233 and scorer DLC_resnet50_mouse_cppJun28shuffle1_175000.\n",
      "Filtering with median model Y:\\laura_berkowitz\\behavior_validation\\appps1_cpp\\data\\cohort2\\3769\\3769_pretest_pairing_day01\\3769L_pairing1_B-07122023113203.avi\n",
      "No unfiltered data file found in Y:\\laura_berkowitz\\behavior_validation\\appps1_cpp\\data\\cohort2\\3768\\3768_pairing_day02 for video 3769L_pairing1_B-07122023113203 and scorer DLC_resnet50_mouse_cppJun28shuffle1_175000.\n",
      "Filtering with median model Y:\\laura_berkowitz\\behavior_validation\\appps1_cpp\\data\\cohort2\\3769\\3769_pretest_pairing_day01\\3769L_pretest-07122023082428.avi\n",
      "No unfiltered data file found in Y:\\laura_berkowitz\\behavior_validation\\appps1_cpp\\data\\cohort2\\3768\\3768_pairing_day02 for video 3769L_pretest-07122023082428 and scorer DLC_resnet50_mouse_cppJun28shuffle1_175000.\n",
      "Filtering with median model Y:\\laura_berkowitz\\behavior_validation\\appps1_cpp\\data\\cohort2\\3770\\3770_pairing_day02\\3770R_paring2_A-07132023081652.avi\n",
      "No unfiltered data file found in Y:\\laura_berkowitz\\behavior_validation\\appps1_cpp\\data\\cohort2\\3768\\3768_pairing_day02 for video 3770R_paring2_A-07132023081652 and scorer DLC_resnet50_mouse_cppJun28shuffle1_175000.\n",
      "Filtering with median model Y:\\laura_berkowitz\\behavior_validation\\appps1_cpp\\data\\cohort2\\3770\\3770_pairing_day02\\3770R_paring2_B-07132023075917.avi\n",
      "No unfiltered data file found in Y:\\laura_berkowitz\\behavior_validation\\appps1_cpp\\data\\cohort2\\3768\\3768_pairing_day02 for video 3770R_paring2_B-07132023075917 and scorer DLC_resnet50_mouse_cppJun28shuffle1_175000.\n",
      "Filtering with median model Y:\\laura_berkowitz\\behavior_validation\\appps1_cpp\\data\\cohort2\\3770\\3770_pairing_posttest_day03\\3770R_paring3_A-07142023075720.avi\n",
      "No unfiltered data file found in Y:\\laura_berkowitz\\behavior_validation\\appps1_cpp\\data\\cohort2\\3768\\3768_pairing_day02 for video 3770R_paring3_A-07142023075720 and scorer DLC_resnet50_mouse_cppJun28shuffle1_175000.\n",
      "Filtering with median model Y:\\laura_berkowitz\\behavior_validation\\appps1_cpp\\data\\cohort2\\3770\\3770_pairing_posttest_day03\\3770R_paring3_B-07142023073902.avi\n",
      "No unfiltered data file found in Y:\\laura_berkowitz\\behavior_validation\\appps1_cpp\\data\\cohort2\\3768\\3768_pairing_day02 for video 3770R_paring3_B-07142023073902 and scorer DLC_resnet50_mouse_cppJun28shuffle1_175000.\n",
      "Filtering with median model Y:\\laura_berkowitz\\behavior_validation\\appps1_cpp\\data\\cohort2\\3770\\3770_pairing_posttest_day03\\3770R_posttest-07142023104133.avi\n",
      "No unfiltered data file found in Y:\\laura_berkowitz\\behavior_validation\\appps1_cpp\\data\\cohort2\\3768\\3768_pairing_day02 for video 3770R_posttest-07142023104133 and scorer DLC_resnet50_mouse_cppJun28shuffle1_175000.\n",
      "Filtering with median model Y:\\laura_berkowitz\\behavior_validation\\appps1_cpp\\data\\cohort2\\3770\\3770_pretest_pairing_day01\\3770R-pretest-07122023073031.avi\n",
      "No unfiltered data file found in Y:\\laura_berkowitz\\behavior_validation\\appps1_cpp\\data\\cohort2\\3768\\3768_pairing_day02 for video 3770R-pretest-07122023073031 and scorer DLC_resnet50_mouse_cppJun28shuffle1_175000.\n",
      "Filtering with median model Y:\\laura_berkowitz\\behavior_validation\\appps1_cpp\\data\\cohort2\\3770\\3770_pretest_pairing_day01\\3770R_pairing1_A-07122023100601.avi\n",
      "No unfiltered data file found in Y:\\laura_berkowitz\\behavior_validation\\appps1_cpp\\data\\cohort2\\3768\\3768_pairing_day02 for video 3770R_pairing1_A-07122023100601 and scorer DLC_resnet50_mouse_cppJun28shuffle1_175000.\n",
      "Filtering with median model Y:\\laura_berkowitz\\behavior_validation\\appps1_cpp\\data\\cohort2\\3770\\3770_pretest_pairing_day01\\3770R_pairing1_B-07122023094747.avi\n",
      "No unfiltered data file found in Y:\\laura_berkowitz\\behavior_validation\\appps1_cpp\\data\\cohort2\\3768\\3768_pairing_day02 for video 3770R_pairing1_B-07122023094747 and scorer DLC_resnet50_mouse_cppJun28shuffle1_175000.\n",
      "Filtering with median model Y:\\laura_berkowitz\\behavior_validation\\appps1_cpp\\data\\cohort2\\3775\\3775_pairing_day02\\3775N_paring2_A-07132023105907.avi\n",
      "No unfiltered data file found in Y:\\laura_berkowitz\\behavior_validation\\appps1_cpp\\data\\cohort2\\3768\\3768_pairing_day02 for video 3775N_paring2_A-07132023105907 and scorer DLC_resnet50_mouse_cppJun28shuffle1_175000.\n",
      "Filtering with median model Y:\\laura_berkowitz\\behavior_validation\\appps1_cpp\\data\\cohort2\\3775\\3775_pairing_day02\\3775N_paring2_B-07132023104012.avi\n",
      "No unfiltered data file found in Y:\\laura_berkowitz\\behavior_validation\\appps1_cpp\\data\\cohort2\\3768\\3768_pairing_day02 for video 3775N_paring2_B-07132023104012 and scorer DLC_resnet50_mouse_cppJun28shuffle1_175000.\n",
      "Filtering with median model Y:\\laura_berkowitz\\behavior_validation\\appps1_cpp\\data\\cohort2\\3775\\3775_pairing_posttest_day03\\3775N_pairing3_A-07142023122439.avi\n",
      "No unfiltered data file found in Y:\\laura_berkowitz\\behavior_validation\\appps1_cpp\\data\\cohort2\\3768\\3768_pairing_day02 for video 3775N_pairing3_A-07142023122439 and scorer DLC_resnet50_mouse_cppJun28shuffle1_175000.\n",
      "Filtering with median model Y:\\laura_berkowitz\\behavior_validation\\appps1_cpp\\data\\cohort2\\3775\\3775_pairing_posttest_day03\\3775N_pairing3_B-07142023120640.avi\n",
      "No unfiltered data file found in Y:\\laura_berkowitz\\behavior_validation\\appps1_cpp\\data\\cohort2\\3768\\3768_pairing_day02 for video 3775N_pairing3_B-07142023120640 and scorer DLC_resnet50_mouse_cppJun28shuffle1_175000.\n",
      "Filtering with median model Y:\\laura_berkowitz\\behavior_validation\\appps1_cpp\\data\\cohort2\\3775\\3775_pairing_posttest_day03\\3775N_posttest-07142023144234.avi\n",
      "No unfiltered data file found in Y:\\laura_berkowitz\\behavior_validation\\appps1_cpp\\data\\cohort2\\3768\\3768_pairing_day02 for video 3775N_posttest-07142023144234 and scorer DLC_resnet50_mouse_cppJun28shuffle1_175000.\n",
      "Filtering with median model Y:\\laura_berkowitz\\behavior_validation\\appps1_cpp\\data\\cohort2\\3775\\3775_pretest_pairing_day01\\3775N_pairing1_A-07122023150743.avi\n",
      "No unfiltered data file found in Y:\\laura_berkowitz\\behavior_validation\\appps1_cpp\\data\\cohort2\\3768\\3768_pairing_day02 for video 3775N_pairing1_A-07122023150743 and scorer DLC_resnet50_mouse_cppJun28shuffle1_175000.\n",
      "Filtering with median model Y:\\laura_berkowitz\\behavior_validation\\appps1_cpp\\data\\cohort2\\3775\\3775_pretest_pairing_day01\\3775N_pairing1_B-07122023144922.avi\n",
      "No unfiltered data file found in Y:\\laura_berkowitz\\behavior_validation\\appps1_cpp\\data\\cohort2\\3768\\3768_pairing_day02 for video 3775N_pairing1_B-07122023144922 and scorer DLC_resnet50_mouse_cppJun28shuffle1_175000.\n",
      "Filtering with median model Y:\\laura_berkowitz\\behavior_validation\\appps1_cpp\\data\\cohort2\\3775\\3775_pretest_pairing_day01\\3775N_pretest-07122023121951.avi\n",
      "No unfiltered data file found in Y:\\laura_berkowitz\\behavior_validation\\appps1_cpp\\data\\cohort2\\3768\\3768_pairing_day02 for video 3775N_pretest-07122023121951 and scorer DLC_resnet50_mouse_cppJun28shuffle1_175000.\n",
      "Filtering with median model Y:\\laura_berkowitz\\behavior_validation\\appps1_cpp\\data\\cohort2\\3778\\3778_pairing_day02\\3778B_paring2_A-07132023100102.avi\n",
      "No unfiltered data file found in Y:\\laura_berkowitz\\behavior_validation\\appps1_cpp\\data\\cohort2\\3768\\3768_pairing_day02 for video 3778B_paring2_A-07132023100102 and scorer DLC_resnet50_mouse_cppJun28shuffle1_175000.\n",
      "Filtering with median model Y:\\laura_berkowitz\\behavior_validation\\appps1_cpp\\data\\cohort2\\3778\\3778_pairing_day02\\3778B_paring2_B-07132023102017.avi\n",
      "No unfiltered data file found in Y:\\laura_berkowitz\\behavior_validation\\appps1_cpp\\data\\cohort2\\3768\\3768_pairing_day02 for video 3778B_paring2_B-07132023102017 and scorer DLC_resnet50_mouse_cppJun28shuffle1_175000.\n",
      "Filtering with median model Y:\\laura_berkowitz\\behavior_validation\\appps1_cpp\\data\\cohort2\\3778\\3778_pairing_posttest_day03\\3778B_paring3_A-07142023093138.avi\n",
      "No unfiltered data file found in Y:\\laura_berkowitz\\behavior_validation\\appps1_cpp\\data\\cohort2\\3768\\3768_pairing_day02 for video 3778B_paring3_A-07142023093138 and scorer DLC_resnet50_mouse_cppJun28shuffle1_175000.\n",
      "Filtering with median model Y:\\laura_berkowitz\\behavior_validation\\appps1_cpp\\data\\cohort2\\3778\\3778_pairing_posttest_day03\\3778B_paring3_B-07142023095210.avi\n",
      "No unfiltered data file found in Y:\\laura_berkowitz\\behavior_validation\\appps1_cpp\\data\\cohort2\\3768\\3768_pairing_day02 for video 3778B_paring3_B-07142023095210 and scorer DLC_resnet50_mouse_cppJun28shuffle1_175000.\n",
      "Filtering with median model Y:\\laura_berkowitz\\behavior_validation\\appps1_cpp\\data\\cohort2\\3778\\3778_pairing_posttest_day03\\3778B_posttest-07142023113809.avi\n",
      "No unfiltered data file found in Y:\\laura_berkowitz\\behavior_validation\\appps1_cpp\\data\\cohort2\\3768\\3768_pairing_day02 for video 3778B_posttest-07142023113809 and scorer DLC_resnet50_mouse_cppJun28shuffle1_175000.\n",
      "Filtering with median model Y:\\laura_berkowitz\\behavior_validation\\appps1_cpp\\data\\cohort2\\3778\\3778_pretest_pairing_day01\\3778B_pairing1_A-07122023140215.avi\n",
      "No unfiltered data file found in Y:\\laura_berkowitz\\behavior_validation\\appps1_cpp\\data\\cohort2\\3768\\3768_pairing_day02 for video 3778B_pairing1_A-07122023140215 and scorer DLC_resnet50_mouse_cppJun28shuffle1_175000.\n",
      "Filtering with median model Y:\\laura_berkowitz\\behavior_validation\\appps1_cpp\\data\\cohort2\\3778\\3778_pretest_pairing_day01\\3778B_pairing1_B-07122023142043.avi\n",
      "No unfiltered data file found in Y:\\laura_berkowitz\\behavior_validation\\appps1_cpp\\data\\cohort2\\3768\\3768_pairing_day02 for video 3778B_pairing1_B-07122023142043 and scorer DLC_resnet50_mouse_cppJun28shuffle1_175000.\n",
      "Filtering with median model Y:\\laura_berkowitz\\behavior_validation\\appps1_cpp\\data\\cohort2\\3778\\3778_pretest_pairing_day01\\3778B_pretest-07122023115709.avi\n",
      "No unfiltered data file found in Y:\\laura_berkowitz\\behavior_validation\\appps1_cpp\\data\\cohort2\\3768\\3768_pairing_day02 for video 3778B_pretest-07122023115709 and scorer DLC_resnet50_mouse_cppJun28shuffle1_175000.\n",
      "Filtering with median model Y:\\laura_berkowitz\\behavior_validation\\appps1_cpp\\data\\cohort2\\3779\\3779_pairing_day02\\3779_2L_paring2_A-07132023085320.avi\n",
      "No unfiltered data file found in Y:\\laura_berkowitz\\behavior_validation\\appps1_cpp\\data\\cohort2\\3768\\3768_pairing_day02 for video 3779_2L_paring2_A-07132023085320 and scorer DLC_resnet50_mouse_cppJun28shuffle1_175000.\n",
      "Filtering with median model Y:\\laura_berkowitz\\behavior_validation\\appps1_cpp\\data\\cohort2\\3779\\3779_pairing_day02\\3779_2L_paring2_B-07132023083513.avi\n",
      "No unfiltered data file found in Y:\\laura_berkowitz\\behavior_validation\\appps1_cpp\\data\\cohort2\\3768\\3768_pairing_day02 for video 3779_2L_paring2_B-07132023083513 and scorer DLC_resnet50_mouse_cppJun28shuffle1_175000.\n",
      "Filtering with median model Y:\\laura_berkowitz\\behavior_validation\\appps1_cpp\\data\\cohort2\\3779\\3779_pairing_posttest_day03\\37792L_paring3_A-07142023083601.avi\n",
      "No unfiltered data file found in Y:\\laura_berkowitz\\behavior_validation\\appps1_cpp\\data\\cohort2\\3768\\3768_pairing_day02 for video 37792L_paring3_A-07142023083601 and scorer DLC_resnet50_mouse_cppJun28shuffle1_175000.\n",
      "Filtering with median model Y:\\laura_berkowitz\\behavior_validation\\appps1_cpp\\data\\cohort2\\3779\\3779_pairing_posttest_day03\\37792L_paring3_B-07142023081738.avi\n",
      "No unfiltered data file found in Y:\\laura_berkowitz\\behavior_validation\\appps1_cpp\\data\\cohort2\\3768\\3768_pairing_day02 for video 37792L_paring3_B-07142023081738 and scorer DLC_resnet50_mouse_cppJun28shuffle1_175000.\n",
      "Filtering with median model Y:\\laura_berkowitz\\behavior_validation\\appps1_cpp\\data\\cohort2\\3779\\3779_pairing_posttest_day03\\37792L_posttest-07142023110051.avi\n",
      "No unfiltered data file found in Y:\\laura_berkowitz\\behavior_validation\\appps1_cpp\\data\\cohort2\\3768\\3768_pairing_day02 for video 37792L_posttest-07142023110051 and scorer DLC_resnet50_mouse_cppJun28shuffle1_175000.\n",
      "Filtering with median model Y:\\laura_berkowitz\\behavior_validation\\appps1_cpp\\data\\cohort2\\3779\\3779_pretest_pairing_day01\\3779_2L_pairing1_A-07122023104836.avi\n",
      "No unfiltered data file found in Y:\\laura_berkowitz\\behavior_validation\\appps1_cpp\\data\\cohort2\\3768\\3768_pairing_day02 for video 3779_2L_pairing1_A-07122023104836 and scorer DLC_resnet50_mouse_cppJun28shuffle1_175000.\n",
      "Filtering with median model Y:\\laura_berkowitz\\behavior_validation\\appps1_cpp\\data\\cohort2\\3779\\3779_pretest_pairing_day01\\3779_2L_pairing1_B-07122023102834.avi\n",
      "No unfiltered data file found in Y:\\laura_berkowitz\\behavior_validation\\appps1_cpp\\data\\cohort2\\3768\\3768_pairing_day02 for video 3779_2L_pairing1_B-07122023102834 and scorer DLC_resnet50_mouse_cppJun28shuffle1_175000.\n",
      "Filtering with median model Y:\\laura_berkowitz\\behavior_validation\\appps1_cpp\\data\\cohort2\\3779\\3779_pretest_pairing_day01\\3779_2L_pretest-07122023080357.avi\n",
      "No unfiltered data file found in Y:\\laura_berkowitz\\behavior_validation\\appps1_cpp\\data\\cohort2\\3768\\3768_pairing_day02 for video 3779_2L_pretest-07122023080357 and scorer DLC_resnet50_mouse_cppJun28shuffle1_175000.\n"
     ]
    }
   ],
   "source": [
    "config_path = r\"Y:\\laura_berkowitz\\dlc_models\\mouse_cpp-berkowitz-2023-06-28\\config.yaml\"\n",
    "\n",
    "deeplabcut.analyze_videos(config_path, video_files, videotype='avi', shuffle=1, trainingsetindex=0, save_as_csv=True)\n",
    "\n",
    "deeplabcut.filterpredictions(config_path, video_files)\n"
   ]
  },
  {
   "cell_type": "code",
   "execution_count": 10,
   "metadata": {},
   "outputs": [
    {
     "data": {
      "text/plain": [
       "0      Y:\\laura_berkowitz\\app_ps1_ephys\\data\\hpc13\\hp...\n",
       "1      Y:\\laura_berkowitz\\app_ps1_ephys\\data\\hpc11\\hp...\n",
       "2      Y:\\laura_berkowitz\\app_ps1_ephys\\data\\hpc07\\hp...\n",
       "3      Y:\\laura_berkowitz\\app_ps1_ephys\\data\\hpc07\\hp...\n",
       "4      Y:\\laura_berkowitz\\app_ps1_ephys\\data\\hpc07\\hp...\n",
       "                             ...                        \n",
       "344    Y:\\laura_berkowitz\\app_ps1_ephys\\data\\hpc06\\hp...\n",
       "345    Y:\\laura_berkowitz\\app_ps1_ephys\\data\\hpc06\\hp...\n",
       "346    Y:\\laura_berkowitz\\app_ps1_ephys\\data\\hpc11\\hp...\n",
       "347    Y:\\laura_berkowitz\\app_ps1_ephys\\data\\hpc13\\hp...\n",
       "348    Y:\\laura_berkowitz\\app_ps1_ephys\\data\\hpc14\\hp...\n",
       "Name: basepath, Length: 349, dtype: object"
      ]
     },
     "execution_count": 10,
     "metadata": {},
     "output_type": "execute_result"
    }
   ],
   "source": [
    "#load the dataframe \n",
    "import pandas as pd \n",
    "df = pd.read_csv(r\"Y:\\laura_berkowitz\\app_ps1_ephys\\DLC_status_sessions.csv\")\n",
    "df\n",
    "# use os.path.normpath to fix filesep differences within df.basepath \n",
    "df.basepath=df.basepath.apply(lambda x: os.path.normpath(x))\n",
    "df.basepath"
   ]
  },
  {
   "cell_type": "code",
   "execution_count": 11,
   "metadata": {},
   "outputs": [
    {
     "name": "stdout",
     "output_type": "stream",
     "text": [
      "['none' '30cm_open_field-berkowitz-2022-07-14'\n",
      " 'ephys1_dim-berkowitz-2024-08-22' 'linear_track-Berkowitz-2021-11-15'\n",
      " 'ephys1_linear-berkowitz-2024-08-19' nan\n",
      " '40cm_open_field-berkowitz-2022-07-22']\n"
     ]
    }
   ],
   "source": [
    "\n",
    "#iterate through all the DLC models\n",
    "dlc_models= df['dlc_model'].unique()\n",
    "print(dlc_models)"
   ]
  },
  {
   "cell_type": "code",
   "execution_count": 14,
   "metadata": {},
   "outputs": [
    {
     "name": "stdout",
     "output_type": "stream",
     "text": [
      "running videos for model: 30cm_open_field-berkowitz-2022-07-14\n"
     ]
    },
    {
     "name": "stderr",
     "output_type": "stream",
     "text": [
      "C:\\Users\\schafferlab\\AppData\\Local\\Temp\\ipykernel_14492\\3165268602.py:14: SettingWithCopyWarning: \n",
      "A value is trying to be set on a copy of a slice from a DataFrame.\n",
      "Try using .loc[row_indexer,col_indexer] = value instead\n",
      "\n",
      "See the caveats in the documentation: https://pandas.pydata.org/pandas-docs/stable/user_guide/indexing.html#returning-a-view-versus-a-copy\n",
      "  temp_df['video_path']= temp_df['basepath'] + '\\\\' + temp_df['file_name'] + '.avi'\n"
     ]
    },
    {
     "name": "stdout",
     "output_type": "stream",
     "text": [
      "Using snapshot-250000 for model Y:\\laura_berkowitz\\dlc_models\\30cm_open_field-berkowitz-2022-07-14\\dlc-models\\iteration-0\\30cm_open_fieldJul14-trainset95shuffle1\n"
     ]
    },
    {
     "name": "stderr",
     "output_type": "stream",
     "text": [
      "c:\\Users\\schafferlab\\anaconda3\\envs\\DEEPLABCUT\\lib\\site-packages\\tensorflow\\python\\keras\\engine\\base_layer_v1.py:1694: UserWarning: `layer.apply` is deprecated and will be removed in a future version. Please use `layer.__call__` method instead.\n",
      "  warnings.warn('`layer.apply` is deprecated and '\n"
     ]
    },
    {
     "name": "stdout",
     "output_type": "stream",
     "text": [
      "Starting to analyze %  Y:\\laura_berkowitz\\app_ps1_ephys\\data\\hpc09\\hpc09_day43_220711_093702\\hpc09_OF_day43-07112022123018.avi\n",
      "Starting to analyze %  Y:\\laura_berkowitz\\app_ps1_ephys\\data\\hpc11\\hpc11_day09_221018_094018\\hpc11_OF_day09-10182022123202.avi\n",
      "Starting to analyze %  Y:\\laura_berkowitz\\app_ps1_ephys\\data\\hpc11\\hpc11_day20_221103_104043\\hpc11_OF_day20-11032022160731.avi\n",
      "Starting to analyze %  Y:\\laura_berkowitz\\app_ps1_ephys\\data\\hpc11\\hpc11_day26_221130_143642\\hpc11_OF_day26-11302022161838.avi\n",
      "Starting to analyze %  Y:\\laura_berkowitz\\app_ps1_ephys\\data\\hpc11\\hpc11_day28_221205_093423\\hpc11_OF_day28-12052022124208.avi\n",
      "The videos are analyzed. Now your research can truly start! \n",
      " You can create labeled videos with 'create_labeled_video'\n",
      "If the tracking is not satisfactory for some videos, consider expanding the training set. You can use the function 'extract_outlier_frames' to extract a few representative outlier frames.\n",
      "Filtering with median model Y:\\laura_berkowitz\\app_ps1_ephys\\data\\hpc09\\hpc09_day43_220711_093702\\hpc09_OF_day43-07112022123018.avi\n"
     ]
    },
    {
     "ename": "ValueError",
     "evalue": "Dataset(s) incompatible with Pandas data types, not table, or no datasets found in HDF5 file.",
     "output_type": "error",
     "traceback": [
      "\u001b[1;31m---------------------------------------------------------------------------\u001b[0m",
      "\u001b[1;31mValueError\u001b[0m                                Traceback (most recent call last)",
      "Cell \u001b[1;32mIn[14], line 21\u001b[0m\n\u001b[0;32m     18\u001b[0m video_files\u001b[38;5;241m=\u001b[39m temp_df[\u001b[38;5;124m'\u001b[39m\u001b[38;5;124mvideo_path\u001b[39m\u001b[38;5;124m'\u001b[39m]\u001b[38;5;241m.\u001b[39mtolist()\n\u001b[0;32m     20\u001b[0m deeplabcut\u001b[38;5;241m.\u001b[39manalyze_videos(config_path, video_files, videotype\u001b[38;5;241m=\u001b[39m\u001b[38;5;124m'\u001b[39m\u001b[38;5;124mavi\u001b[39m\u001b[38;5;124m'\u001b[39m, shuffle\u001b[38;5;241m=\u001b[39m\u001b[38;5;241m1\u001b[39m, trainingsetindex\u001b[38;5;241m=\u001b[39m\u001b[38;5;241m0\u001b[39m, save_as_csv\u001b[38;5;241m=\u001b[39m\u001b[38;5;28;01mTrue\u001b[39;00m)\n\u001b[1;32m---> 21\u001b[0m \u001b[43mdeeplabcut\u001b[49m\u001b[38;5;241;43m.\u001b[39;49m\u001b[43mfilterpredictions\u001b[49m\u001b[43m(\u001b[49m\u001b[43mconfig_path\u001b[49m\u001b[43m,\u001b[49m\u001b[43m \u001b[49m\u001b[43mvideo_files\u001b[49m\u001b[43m)\u001b[49m\n\u001b[0;32m     23\u001b[0m \u001b[38;5;66;03m# update the dlc flag to true\u001b[39;00m\n\u001b[0;32m     24\u001b[0m temp_df\u001b[38;5;241m=\u001b[39mtemp_df\u001b[38;5;241m=\u001b[39mdf[(df[\u001b[38;5;124m'\u001b[39m\u001b[38;5;124mdlc_model\u001b[39m\u001b[38;5;124m'\u001b[39m]\u001b[38;5;241m==\u001b[39m model) \u001b[38;5;241m&\u001b[39m (df[\u001b[38;5;124m'\u001b[39m\u001b[38;5;124mDLC_flag\u001b[39m\u001b[38;5;124m'\u001b[39m]\u001b[38;5;241m==\u001b[39m\u001b[38;5;28;01mTrue\u001b[39;00m)]\n",
      "File \u001b[1;32mc:\\Users\\schafferlab\\anaconda3\\envs\\DEEPLABCUT\\lib\\site-packages\\deeplabcut\\post_processing\\filtering.py:229\u001b[0m, in \u001b[0;36mfilterpredictions\u001b[1;34m(config, video, videotype, shuffle, trainingsetindex, filtertype, windowlength, p_bound, ARdegree, MAdegree, alpha, save_as_csv, destfolder, modelprefix, track_method, return_data)\u001b[0m\n\u001b[0;32m    226\u001b[0m vname \u001b[38;5;241m=\u001b[39m Path(video)\u001b[38;5;241m.\u001b[39mstem\n\u001b[0;32m    228\u001b[0m \u001b[38;5;28;01mtry\u001b[39;00m:\n\u001b[1;32m--> 229\u001b[0m     df, filepath, _, _ \u001b[38;5;241m=\u001b[39m \u001b[43mauxiliaryfunctions\u001b[49m\u001b[38;5;241;43m.\u001b[39;49m\u001b[43mload_analyzed_data\u001b[49m\u001b[43m(\u001b[49m\n\u001b[0;32m    230\u001b[0m \u001b[43m        \u001b[49m\u001b[43mdestfolder\u001b[49m\u001b[43m,\u001b[49m\u001b[43m \u001b[49m\u001b[43mvname\u001b[49m\u001b[43m,\u001b[49m\u001b[43m \u001b[49m\u001b[43mDLCscorer\u001b[49m\u001b[43m,\u001b[49m\u001b[43m \u001b[49m\u001b[38;5;28;43;01mTrue\u001b[39;49;00m\u001b[43m,\u001b[49m\u001b[43m \u001b[49m\u001b[43mtrack_method\u001b[49m\n\u001b[0;32m    231\u001b[0m \u001b[43m    \u001b[49m\u001b[43m)\u001b[49m\n\u001b[0;32m    232\u001b[0m     \u001b[38;5;28mprint\u001b[39m(\u001b[38;5;124mf\u001b[39m\u001b[38;5;124m\"\u001b[39m\u001b[38;5;124mData from \u001b[39m\u001b[38;5;132;01m{\u001b[39;00mvname\u001b[38;5;132;01m}\u001b[39;00m\u001b[38;5;124m were already filtered. Skipping...\u001b[39m\u001b[38;5;124m\"\u001b[39m)\n\u001b[0;32m    233\u001b[0m     video_to_filtered_df[video] \u001b[38;5;241m=\u001b[39m df\n",
      "File \u001b[1;32mc:\\Users\\schafferlab\\anaconda3\\envs\\DEEPLABCUT\\lib\\site-packages\\deeplabcut\\utils\\auxiliaryfunctions.py:787\u001b[0m, in \u001b[0;36mload_analyzed_data\u001b[1;34m(folder, videoname, scorer, filtered, track_method)\u001b[0m\n\u001b[0;32m    783\u001b[0m \u001b[38;5;28;01mdef\u001b[39;00m \u001b[38;5;21mload_analyzed_data\u001b[39m(folder, videoname, scorer, filtered\u001b[38;5;241m=\u001b[39m\u001b[38;5;28;01mFalse\u001b[39;00m, track_method\u001b[38;5;241m=\u001b[39m\u001b[38;5;124m\"\u001b[39m\u001b[38;5;124m\"\u001b[39m):\n\u001b[0;32m    784\u001b[0m     filepath, scorer, suffix \u001b[38;5;241m=\u001b[39m find_analyzed_data(\n\u001b[0;32m    785\u001b[0m         folder, videoname, scorer, filtered, track_method\n\u001b[0;32m    786\u001b[0m     )\n\u001b[1;32m--> 787\u001b[0m     df \u001b[38;5;241m=\u001b[39m \u001b[43mpd\u001b[49m\u001b[38;5;241;43m.\u001b[39;49m\u001b[43mread_hdf\u001b[49m\u001b[43m(\u001b[49m\u001b[43mfilepath\u001b[49m\u001b[43m)\u001b[49m\n\u001b[0;32m    788\u001b[0m     \u001b[38;5;28;01mreturn\u001b[39;00m df, filepath, scorer, suffix\n",
      "File \u001b[1;32mc:\\Users\\schafferlab\\anaconda3\\envs\\DEEPLABCUT\\lib\\site-packages\\pandas\\io\\pytables.py:435\u001b[0m, in \u001b[0;36mread_hdf\u001b[1;34m(path_or_buf, key, mode, errors, where, start, stop, columns, iterator, chunksize, **kwargs)\u001b[0m\n\u001b[0;32m    433\u001b[0m groups \u001b[38;5;241m=\u001b[39m store\u001b[38;5;241m.\u001b[39mgroups()\n\u001b[0;32m    434\u001b[0m \u001b[38;5;28;01mif\u001b[39;00m \u001b[38;5;28mlen\u001b[39m(groups) \u001b[38;5;241m==\u001b[39m \u001b[38;5;241m0\u001b[39m:\n\u001b[1;32m--> 435\u001b[0m     \u001b[38;5;28;01mraise\u001b[39;00m \u001b[38;5;167;01mValueError\u001b[39;00m(\n\u001b[0;32m    436\u001b[0m         \u001b[38;5;124m\"\u001b[39m\u001b[38;5;124mDataset(s) incompatible with Pandas data types, \u001b[39m\u001b[38;5;124m\"\u001b[39m\n\u001b[0;32m    437\u001b[0m         \u001b[38;5;124m\"\u001b[39m\u001b[38;5;124mnot table, or no datasets found in HDF5 file.\u001b[39m\u001b[38;5;124m\"\u001b[39m\n\u001b[0;32m    438\u001b[0m     )\n\u001b[0;32m    439\u001b[0m candidate_only_group \u001b[38;5;241m=\u001b[39m groups[\u001b[38;5;241m0\u001b[39m]\n\u001b[0;32m    441\u001b[0m \u001b[38;5;66;03m# For the HDF file to have only one dataset, all other groups\u001b[39;00m\n\u001b[0;32m    442\u001b[0m \u001b[38;5;66;03m# should then be metadata groups for that candidate group. (This\u001b[39;00m\n\u001b[0;32m    443\u001b[0m \u001b[38;5;66;03m# assumes that the groups() method enumerates parent groups\u001b[39;00m\n\u001b[0;32m    444\u001b[0m \u001b[38;5;66;03m# before their children.)\u001b[39;00m\n",
      "\u001b[1;31mValueError\u001b[0m: Dataset(s) incompatible with Pandas data types, not table, or no datasets found in HDF5 file."
     ]
    }
   ],
   "source": [
    "base_config_dir= r\"Y:\\laura_berkowitz\\dlc_models\"\n",
    "\n",
    "\n",
    "for model in dlc_models:\n",
    "\n",
    "    if model=='none':\n",
    "        continue \n",
    "    print('running videos for model:', model)\n",
    "\n",
    "    temp_df=df[(df['dlc_model']== model) & (df['DLC_flag']==False)]\n",
    "    config_path = os.path.join(base_config_dir, model, 'config.yaml')\n",
    "\n",
    "    #in temp df need to join basepath and filename and add .avi to filename \n",
    "    temp_df['video_path']= temp_df['basepath'] + '\\\\' + temp_df['file_name'] + '.avi'\n",
    "\n",
    "    # make a list of video file paths from video_path column\n",
    "    # video_files = list\n",
    "    video_files= temp_df['video_path'].tolist()\n",
    "\n",
    "    deeplabcut.analyze_videos(config_path, video_files, videotype='avi', shuffle=1, trainingsetindex=0, save_as_csv=True)\n",
    "    deeplabcut.filterpredictions(config_path, video_files)\n",
    "\n",
    "    # update the dlc flag to true\n",
    "    temp_df=temp_df=df[(df['dlc_model']== model) & (df['DLC_flag']==True)]\n",
    "# save the updated df \n",
    "df.to_csv(r\"Y:\\laura_berkowitz\\app_ps1_ephys\\DLC_status_sessions.csv\", index=False)"
   ]
  },
  {
   "cell_type": "code",
   "execution_count": null,
   "metadata": {},
   "outputs": [],
   "source": [
    "for base_paths in df['basepath'].unique():\n",
    "        video_files= glob.glob(base_paths + '*.avi', recursive=False)\n",
    "        for video in video_files:\n",
    "            if any(param in video for param in required_params):\n",
    "                video_files.append(video)"
   ]
  }
 ],
 "metadata": {
  "kernelspec": {
   "display_name": "DEEPLABCUT",
   "language": "python",
   "name": "python3"
  },
  "language_info": {
   "codemirror_mode": {
    "name": "ipython",
    "version": 3
   },
   "file_extension": ".py",
   "mimetype": "text/x-python",
   "name": "python",
   "nbconvert_exporter": "python",
   "pygments_lexer": "ipython3",
   "version": "3.9.18"
  }
 },
 "nbformat": 4,
 "nbformat_minor": 2
}
